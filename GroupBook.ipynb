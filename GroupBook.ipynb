{
 "cells": [
  {
   "cell_type": "markdown",
   "source": [
    "### ID5059 KDDM\n",
    "### Assignment: P02\n",
    "### Group Name : Demented But Determined\n",
    "\n",
    "Group Members:\n",
    "- 200005828\n",
    "- 190001708\n",
    "- 210012057\n",
    "- 210003557\n",
    "- 210010283\n",
    "- Anli\n",
    "\n",
    "<hr>"
   ],
   "metadata": {
    "collapsed": false
   }
  },
  {
   "cell_type": "markdown",
   "source": [
    "\n",
    "<hr>"
   ],
   "metadata": {
    "collapsed": false
   }
  },
  {
   "cell_type": "markdown",
   "source": [
    "## Introduction to the Dataset\n",
    "\n",
    "The dataset consists of five files :\n",
    "1.\ttest_identity.csv\n",
    "    - Identity Dataset to test performance of model\n",
    "2.\ttest_transaction.csv\n",
    "    - Transaction Dataset to test performance of model\n",
    "3.\ttrain_identity.csv\n",
    "    - Identity Dataset to be used for model training\n",
    "4.\ttrain_transaction.csv\n",
    "    - Transaction Dataset to be used for model training\n",
    "5.\tsample_submission.csv\n",
    "    - File containing prediction results\n",
    "\n",
    "\n",
    "Column names in train and test identity dataset has different formats.\n",
    "We renamed test identity columns name to match to that of train column names.\n",
    "\n",
    "## Transaction Dataset :\n",
    "\n",
    "Columns in the transaction dataset can be grouped as below:\n",
    "\n",
    "1.\tTransactionID\n",
    "    -\tID of the transaction and is used to connect to identity dataset\n",
    "2.\tisFraud\n",
    "    -\tIndicating if the transaction is fraud or not\n",
    "3.\tTransactionAmt\n",
    "    -\tTransaction amount (in USD)\n",
    "4.\tProductCD\n",
    "    - Product code  with 5 distinct categories\n",
    "    - Categorical Features\n",
    "5.\tcard1 -  card6\n",
    "    - Payment card information\n",
    "    - Card 4 contains 4 distinct categories of the card used for the transaction\n",
    "    - Card5 has 120 unique values\n",
    "    - Card6 has 4 distinct categories\n",
    "    - Categorical Features\n",
    "    - Actual values are masked for some columns\n",
    "6.\taddr1 - addr2\n",
    "    - addr1 - billing region\n",
    "    - addr2 -  billing country\n",
    "    - Categorical Features\n",
    "7.\tdist1 - dist2\n",
    "    - Distance\n",
    "    - Categorical Features\n",
    "8.\tP_emaildomain\n",
    "    - purchaser email domains\n",
    "    - Categorical Features\n",
    "9.\tR_emaildomain\n",
    "    - recipient email domains\n",
    "    - Categorical Features\n",
    "10.\tC1 - C14\n",
    "    - counting, such as how many addresses are found to be associated with the payment card, etc.\n",
    "    - The actual meaning is masked\n",
    "11.\tD1 - D15\n",
    "    - timedelta, such as days between previous transaction, etc\n",
    "12.\tM1 - M9\n",
    "    - match, such as names on card and address, etc.\n",
    "    - Categorical Features\n",
    "13.\tV1 - V339\n",
    "    - Vesta engineered rich features, including ranking, counting, and other entity relations.\n",
    "\n",
    "\n",
    "## Identity Dataset :\n",
    "\n",
    "1.\tTransactionID\n",
    "    - ID of the transaction and is used to connect to transaction dataset\n",
    "2.\tDeviceType\n",
    "    - Device type used for transaction mobile or desktop\n",
    "    - Categorical Features\n",
    "3.\tDeviceInfo\n",
    "    - Information about the device used for transaction\n",
    "    -   Categorical Features\n",
    "4.\tid-01 to id-38\n",
    "    - Masked information about the device\n",
    "\n"
   ],
   "metadata": {
    "collapsed": false
   }
  },
  {
   "cell_type": "markdown",
   "source": [
    "### Install libraries"
   ],
   "metadata": {
    "collapsed": false
   }
  },
  {
   "cell_type": "code",
   "execution_count": 1,
   "outputs": [],
   "source": [
    "import numpy as np\n",
    "import pandas as pd\n",
    "import matplotlib.pyplot as plt\n",
    "from imblearn import over_sampling\n",
    "from utils.preprocess import preprocess\n",
    "from utils.reduce_memory import reduce_mem_usage\n",
    "from sklearn.model_selection import train_test_split\n",
    "from utils.model_stack import stack_models\n",
    "from random import sample\n"
   ],
   "metadata": {
    "collapsed": false,
    "pycharm": {
     "name": "#%%\n"
    }
   }
  },
  {
   "cell_type": "markdown",
   "source": [
    "### Load the data\n",
    "\n",
    "Download the dataset from Kaggle and unzip it 'data' folder parallel to the notebook."
   ],
   "metadata": {
    "collapsed": false
   }
  },
  {
   "cell_type": "code",
   "execution_count": 2,
   "outputs": [],
   "source": [
    "root_dir = './data/'\n",
    "test_iden = pd.read_csv(root_dir + 'test_identity.csv')\n",
    "test_tran = pd.read_csv(root_dir + 'test_transaction.csv')\n",
    "train_iden = pd.read_csv(root_dir + 'train_identity.csv')\n",
    "train_tran = pd.read_csv(root_dir + 'train_transaction.csv')"
   ],
   "metadata": {
    "collapsed": false,
    "pycharm": {
     "name": "#%%\n"
    }
   }
  },
  {
   "cell_type": "markdown",
   "source": [
    "Due to the large size, to keep loading size down we optimize data types to reduce memory usage."
   ],
   "metadata": {
    "collapsed": false
   }
  },
  {
   "cell_type": "code",
   "execution_count": 3,
   "outputs": [
    {
     "name": "stdout",
     "output_type": "stream",
     "text": [
      "Before Type down-casting  : The shape of the Train (590540, 394) , Test (506691, 393)\n",
      "Memory usage of dataframe is 1519.24 MB\n",
      "Memory usage after optimization is: 425.24 MB\n",
      "Decreased by 72.0%\n",
      "Memory usage of dataframe is 1775.15 MB\n",
      "Memory usage after optimization is: 487.16 MB\n",
      "Decreased by 72.6%\n",
      "Before Type down-casting  : The shape of the Train (590540, 394) , Test (506691, 393)\n"
     ]
    }
   ],
   "source": [
    "print(f\"Before Type down-casting  : The shape of the Train {train_tran.shape} , Test {test_tran.shape}\")\n",
    "test_tran = reduce_mem_usage(test_tran)\n",
    "train_tran = reduce_mem_usage(train_tran)\n",
    "print(f\"Before Type down-casting  : The shape of the Train {train_tran.shape} , Test {test_tran.shape}\")"
   ],
   "metadata": {
    "collapsed": false,
    "pycharm": {
     "name": "#%%\n"
    }
   }
  },
  {
   "cell_type": "code",
   "execution_count": 4,
   "outputs": [],
   "source": [
    "#Merge the Transaction and Identity data set to create the 'Test' set.\n",
    "train = pd.merge(train_tran, train_iden, on = 'TransactionID', how = 'left')\n",
    "test = pd.merge(test_tran, test_iden, on = 'TransactionID', how = 'left')"
   ],
   "metadata": {
    "collapsed": false,
    "pycharm": {
     "name": "#%%\n"
    }
   }
  },
  {
   "cell_type": "code",
   "execution_count": 5,
   "outputs": [
    {
     "name": "stdout",
     "output_type": "stream",
     "text": [
      "After merging  : The shape of the Train (590540, 434) , Test (506691, 433)\n"
     ]
    }
   ],
   "source": [
    "print(f\"After merging  : The shape of the Train {train.shape} , Test {test.shape}\")"
   ],
   "metadata": {
    "collapsed": false,
    "pycharm": {
     "name": "#%%\n"
    }
   }
  },
  {
   "cell_type": "code",
   "execution_count": 6,
   "outputs": [
    {
     "name": "stdout",
     "output_type": "stream",
     "text": [
      "Train size(472432, 434)\n",
      "DevTest size(118108, 434)\n"
     ]
    }
   ],
   "source": [
    "SEED= 42\n",
    "train, dev_test = train_test_split(train, test_size=0.2, random_state=int(SEED))\n",
    "\n",
    "print(\"Train size\"+ str(train.shape))\n",
    "print(\"DevTest size\"+ str(dev_test.shape))"
   ],
   "metadata": {
    "collapsed": false,
    "pycharm": {
     "name": "#%%\n"
    }
   }
  },
  {
   "cell_type": "code",
   "execution_count": 7,
   "outputs": [],
   "source": [
    "del train_tran, train_iden, test_iden, test_tran"
   ],
   "metadata": {
    "collapsed": false,
    "pycharm": {
     "name": "#%%\n"
    }
   }
  },
  {
   "cell_type": "markdown",
   "source": [
    "Test_dataset and train_dataset had a mismatch in the name of id features.\n",
    "In the train_dataset id features were present with the name id_x where x was a value between\n",
    "01 and 38 whereas in the test_dataset id features were of the form id-x.\n",
    "So, we changed the format of id features in the test_dataset from id-x to id_x."
   ],
   "metadata": {
    "collapsed": false
   }
  },
  {
   "cell_type": "code",
   "execution_count": 8,
   "outputs": [],
   "source": [
    "test.columns  = [col.replace('-','_') for col in test.columns]"
   ],
   "metadata": {
    "collapsed": false,
    "pycharm": {
     "name": "#%%\n"
    }
   }
  },
  {
   "cell_type": "code",
   "execution_count": 9,
   "outputs": [
    {
     "data": {
      "text/plain": "           D1     D2    D3     D4     D5     D6     D7      D8    D9    D10  \\\n5307      0.0    NaN   NaN    0.0    NaN    NaN    NaN     NaN   NaN    0.0   \n191582    0.0    NaN   NaN    0.0    NaN    0.0    NaN     NaN   NaN    0.0   \n260168    7.0    7.0   6.0  420.0    6.0    NaN    NaN     NaN   NaN   71.0   \n18516   211.0  211.0   NaN  211.0  211.0  211.0  211.0  162.75  0.75  211.0   \n47538     0.0    NaN   NaN    NaN    NaN    NaN    NaN  204.00  0.00    NaN   \n62390     0.0    NaN   NaN    0.0    NaN    NaN    NaN     NaN   NaN    0.0   \n288883    0.0    NaN   NaN    0.0    NaN    NaN    NaN     NaN   NaN    0.0   \n397255    0.0    NaN   NaN    NaN    NaN    NaN    NaN     NaN   NaN    0.0   \n465998   13.0   13.0  14.0   14.0   14.0    NaN    NaN     NaN   NaN   14.0   \n323478    0.0    NaN   NaN    0.0    NaN    NaN    NaN     NaN   NaN    0.0   \n\n         D11  D12  D13  D14  \n5307     0.0  NaN  NaN  NaN  \n191582   NaN  0.0  0.0  0.0  \n260168   NaN  NaN  NaN  NaN  \n18516    NaN  NaN  0.0  NaN  \n47538    NaN  NaN  NaN  NaN  \n62390    0.0  NaN  NaN  NaN  \n288883   NaN  NaN  NaN  NaN  \n397255   0.0  NaN  NaN  NaN  \n465998  14.0  NaN  NaN  NaN  \n323478   0.0  NaN  NaN  NaN  ",
      "text/html": "<div>\n<style scoped>\n    .dataframe tbody tr th:only-of-type {\n        vertical-align: middle;\n    }\n\n    .dataframe tbody tr th {\n        vertical-align: top;\n    }\n\n    .dataframe thead th {\n        text-align: right;\n    }\n</style>\n<table border=\"1\" class=\"dataframe\">\n  <thead>\n    <tr style=\"text-align: right;\">\n      <th></th>\n      <th>D1</th>\n      <th>D2</th>\n      <th>D3</th>\n      <th>D4</th>\n      <th>D5</th>\n      <th>D6</th>\n      <th>D7</th>\n      <th>D8</th>\n      <th>D9</th>\n      <th>D10</th>\n      <th>D11</th>\n      <th>D12</th>\n      <th>D13</th>\n      <th>D14</th>\n    </tr>\n  </thead>\n  <tbody>\n    <tr>\n      <th>5307</th>\n      <td>0.0</td>\n      <td>NaN</td>\n      <td>NaN</td>\n      <td>0.0</td>\n      <td>NaN</td>\n      <td>NaN</td>\n      <td>NaN</td>\n      <td>NaN</td>\n      <td>NaN</td>\n      <td>0.0</td>\n      <td>0.0</td>\n      <td>NaN</td>\n      <td>NaN</td>\n      <td>NaN</td>\n    </tr>\n    <tr>\n      <th>191582</th>\n      <td>0.0</td>\n      <td>NaN</td>\n      <td>NaN</td>\n      <td>0.0</td>\n      <td>NaN</td>\n      <td>0.0</td>\n      <td>NaN</td>\n      <td>NaN</td>\n      <td>NaN</td>\n      <td>0.0</td>\n      <td>NaN</td>\n      <td>0.0</td>\n      <td>0.0</td>\n      <td>0.0</td>\n    </tr>\n    <tr>\n      <th>260168</th>\n      <td>7.0</td>\n      <td>7.0</td>\n      <td>6.0</td>\n      <td>420.0</td>\n      <td>6.0</td>\n      <td>NaN</td>\n      <td>NaN</td>\n      <td>NaN</td>\n      <td>NaN</td>\n      <td>71.0</td>\n      <td>NaN</td>\n      <td>NaN</td>\n      <td>NaN</td>\n      <td>NaN</td>\n    </tr>\n    <tr>\n      <th>18516</th>\n      <td>211.0</td>\n      <td>211.0</td>\n      <td>NaN</td>\n      <td>211.0</td>\n      <td>211.0</td>\n      <td>211.0</td>\n      <td>211.0</td>\n      <td>162.75</td>\n      <td>0.75</td>\n      <td>211.0</td>\n      <td>NaN</td>\n      <td>NaN</td>\n      <td>0.0</td>\n      <td>NaN</td>\n    </tr>\n    <tr>\n      <th>47538</th>\n      <td>0.0</td>\n      <td>NaN</td>\n      <td>NaN</td>\n      <td>NaN</td>\n      <td>NaN</td>\n      <td>NaN</td>\n      <td>NaN</td>\n      <td>204.00</td>\n      <td>0.00</td>\n      <td>NaN</td>\n      <td>NaN</td>\n      <td>NaN</td>\n      <td>NaN</td>\n      <td>NaN</td>\n    </tr>\n    <tr>\n      <th>62390</th>\n      <td>0.0</td>\n      <td>NaN</td>\n      <td>NaN</td>\n      <td>0.0</td>\n      <td>NaN</td>\n      <td>NaN</td>\n      <td>NaN</td>\n      <td>NaN</td>\n      <td>NaN</td>\n      <td>0.0</td>\n      <td>0.0</td>\n      <td>NaN</td>\n      <td>NaN</td>\n      <td>NaN</td>\n    </tr>\n    <tr>\n      <th>288883</th>\n      <td>0.0</td>\n      <td>NaN</td>\n      <td>NaN</td>\n      <td>0.0</td>\n      <td>NaN</td>\n      <td>NaN</td>\n      <td>NaN</td>\n      <td>NaN</td>\n      <td>NaN</td>\n      <td>0.0</td>\n      <td>NaN</td>\n      <td>NaN</td>\n      <td>NaN</td>\n      <td>NaN</td>\n    </tr>\n    <tr>\n      <th>397255</th>\n      <td>0.0</td>\n      <td>NaN</td>\n      <td>NaN</td>\n      <td>NaN</td>\n      <td>NaN</td>\n      <td>NaN</td>\n      <td>NaN</td>\n      <td>NaN</td>\n      <td>NaN</td>\n      <td>0.0</td>\n      <td>0.0</td>\n      <td>NaN</td>\n      <td>NaN</td>\n      <td>NaN</td>\n    </tr>\n    <tr>\n      <th>465998</th>\n      <td>13.0</td>\n      <td>13.0</td>\n      <td>14.0</td>\n      <td>14.0</td>\n      <td>14.0</td>\n      <td>NaN</td>\n      <td>NaN</td>\n      <td>NaN</td>\n      <td>NaN</td>\n      <td>14.0</td>\n      <td>14.0</td>\n      <td>NaN</td>\n      <td>NaN</td>\n      <td>NaN</td>\n    </tr>\n    <tr>\n      <th>323478</th>\n      <td>0.0</td>\n      <td>NaN</td>\n      <td>NaN</td>\n      <td>0.0</td>\n      <td>NaN</td>\n      <td>NaN</td>\n      <td>NaN</td>\n      <td>NaN</td>\n      <td>NaN</td>\n      <td>0.0</td>\n      <td>0.0</td>\n      <td>NaN</td>\n      <td>NaN</td>\n      <td>NaN</td>\n    </tr>\n  </tbody>\n</table>\n</div>"
     },
     "execution_count": 9,
     "metadata": {},
     "output_type": "execute_result"
    }
   ],
   "source": [
    "# OK, the problem here is that D features are mostly NaNs!\n",
    "d_features=[\"D\"+str(x) for x in range(1,15)]\n",
    "train[d_features].head(10)"
   ],
   "metadata": {
    "collapsed": false,
    "pycharm": {
     "name": "#%%\n"
    }
   }
  },
  {
   "cell_type": "code",
   "execution_count": 10,
   "outputs": [
    {
     "data": {
      "text/plain": "         M1   M2   M3   M4   M5   M6   M7   M8\n5307      T    T    T   M0    T    T    F    F\n191582  NaN  NaN  NaN   M2  NaN  NaN  NaN  NaN\n260168  NaN  NaN  NaN  NaN  NaN    F  NaN  NaN\n18516   NaN  NaN  NaN  NaN  NaN  NaN  NaN  NaN\n47538   NaN  NaN  NaN  NaN  NaN  NaN  NaN  NaN\n62390     T    T    T  NaN  NaN  NaN  NaN  NaN\n288883  NaN  NaN  NaN  NaN  NaN    T  NaN  NaN\n397255    T    T    T  NaN  NaN    F    F    F\n465998    T    T    T  NaN  NaN    F    F    F\n323478    T    T    T   M0    F    F  NaN  NaN",
      "text/html": "<div>\n<style scoped>\n    .dataframe tbody tr th:only-of-type {\n        vertical-align: middle;\n    }\n\n    .dataframe tbody tr th {\n        vertical-align: top;\n    }\n\n    .dataframe thead th {\n        text-align: right;\n    }\n</style>\n<table border=\"1\" class=\"dataframe\">\n  <thead>\n    <tr style=\"text-align: right;\">\n      <th></th>\n      <th>M1</th>\n      <th>M2</th>\n      <th>M3</th>\n      <th>M4</th>\n      <th>M5</th>\n      <th>M6</th>\n      <th>M7</th>\n      <th>M8</th>\n    </tr>\n  </thead>\n  <tbody>\n    <tr>\n      <th>5307</th>\n      <td>T</td>\n      <td>T</td>\n      <td>T</td>\n      <td>M0</td>\n      <td>T</td>\n      <td>T</td>\n      <td>F</td>\n      <td>F</td>\n    </tr>\n    <tr>\n      <th>191582</th>\n      <td>NaN</td>\n      <td>NaN</td>\n      <td>NaN</td>\n      <td>M2</td>\n      <td>NaN</td>\n      <td>NaN</td>\n      <td>NaN</td>\n      <td>NaN</td>\n    </tr>\n    <tr>\n      <th>260168</th>\n      <td>NaN</td>\n      <td>NaN</td>\n      <td>NaN</td>\n      <td>NaN</td>\n      <td>NaN</td>\n      <td>F</td>\n      <td>NaN</td>\n      <td>NaN</td>\n    </tr>\n    <tr>\n      <th>18516</th>\n      <td>NaN</td>\n      <td>NaN</td>\n      <td>NaN</td>\n      <td>NaN</td>\n      <td>NaN</td>\n      <td>NaN</td>\n      <td>NaN</td>\n      <td>NaN</td>\n    </tr>\n    <tr>\n      <th>47538</th>\n      <td>NaN</td>\n      <td>NaN</td>\n      <td>NaN</td>\n      <td>NaN</td>\n      <td>NaN</td>\n      <td>NaN</td>\n      <td>NaN</td>\n      <td>NaN</td>\n    </tr>\n    <tr>\n      <th>62390</th>\n      <td>T</td>\n      <td>T</td>\n      <td>T</td>\n      <td>NaN</td>\n      <td>NaN</td>\n      <td>NaN</td>\n      <td>NaN</td>\n      <td>NaN</td>\n    </tr>\n    <tr>\n      <th>288883</th>\n      <td>NaN</td>\n      <td>NaN</td>\n      <td>NaN</td>\n      <td>NaN</td>\n      <td>NaN</td>\n      <td>T</td>\n      <td>NaN</td>\n      <td>NaN</td>\n    </tr>\n    <tr>\n      <th>397255</th>\n      <td>T</td>\n      <td>T</td>\n      <td>T</td>\n      <td>NaN</td>\n      <td>NaN</td>\n      <td>F</td>\n      <td>F</td>\n      <td>F</td>\n    </tr>\n    <tr>\n      <th>465998</th>\n      <td>T</td>\n      <td>T</td>\n      <td>T</td>\n      <td>NaN</td>\n      <td>NaN</td>\n      <td>F</td>\n      <td>F</td>\n      <td>F</td>\n    </tr>\n    <tr>\n      <th>323478</th>\n      <td>T</td>\n      <td>T</td>\n      <td>T</td>\n      <td>M0</td>\n      <td>F</td>\n      <td>F</td>\n      <td>NaN</td>\n      <td>NaN</td>\n    </tr>\n  </tbody>\n</table>\n</div>"
     },
     "execution_count": 10,
     "metadata": {},
     "output_type": "execute_result"
    }
   ],
   "source": [
    "m_features=[\"M\"+str(x) for x in range(1,9)]\n",
    "train[m_features].head(10)\n"
   ],
   "metadata": {
    "collapsed": false,
    "pycharm": {
     "name": "#%%\n"
    }
   }
  },
  {
   "cell_type": "code",
   "execution_count": 11,
   "outputs": [
    {
     "data": {
      "text/plain": "<Figure size 432x288 with 1 Axes>",
      "image/png": "[encoded data removed]"
     },
     "metadata": {
      "needs_background": "light"
     },
     "output_type": "display_data"
    }
   ],
   "source": [
    "train['isFraud'].value_counts(normalize = True).plot(kind= 'barh')\n",
    "plt.title('% of class')\n",
    "plt.ylabel('isFraud (1 = Fraud)')\n",
    "plt.show()\n",
    "\n",
    "# TODO:  We find very few instance of Fraud. Consider Class Balancing."
   ],
   "metadata": {
    "collapsed": false,
    "pycharm": {
     "name": "#%%\n"
    }
   }
  },
  {
   "cell_type": "markdown",
   "source": [
    "## Feature Preprocessing\n",
    "\n",
    "Systematically, deal with features by considering the following,\n",
    "- 'M' columns - look like true or false lets convert them to 1, 0\n",
    "- 'D' columns - these are fine all numerical\n",
    "- 'C' columns - numerical except for 4,6\n",
    "\n",
    "We deal with categorical variables using dummy vars."
   ],
   "metadata": {
    "collapsed": false
   }
  },
  {
   "cell_type": "code",
   "execution_count": 12,
   "outputs": [],
   "source": [
    "train = preprocess(train)\n",
    "test = preprocess(test)\n",
    "dev_test = preprocess(dev_test)"
   ],
   "metadata": {
    "collapsed": false,
    "pycharm": {
     "name": "#%%\n"
    }
   }
  },
  {
   "cell_type": "code",
   "execution_count": 13,
   "outputs": [
    {
     "data": {
      "text/plain": "        TransactionID  isFraud  TransactionDT  TransactionAmt ProductCD  \\\n5307          2992307        0         174911         59.0000         W   \n191582        3178582        0        4301977         23.3750         C   \n260168        3247168        0        6229929         35.9375         W   \n18516         3005516        0         497176        100.0000         R   \n47538         3034538        0        1124702         75.0000         H   \n\n        card1  card2  card3       card4  card5  ... id_02_to_mean_card4  \\\n5307     4988  334.0  150.0        visa  226.0  ...                 NaN   \n191582   3867  296.0  185.0        visa  226.0  ...            2.700445   \n260168  12577  268.0  150.0        visa  166.0  ...                 NaN   \n18516    6019  583.0  150.0        visa  226.0  ...            0.579748   \n47538   16075  514.0  150.0  mastercard  102.0  ...            0.481128   \n\n       id_02_to_std_card4 id_02_to_mean_addr1  id_02_to_std_addr1  \\\n5307                  NaN                 NaN                 NaN   \n191582           2.944736                 NaN                 NaN   \n260168                NaN                 NaN                 NaN   \n18516            0.632194            0.815571            0.858382   \n47538            0.548746            0.815978            0.835990   \n\n        D15_to_mean_card1 D15_to_std_card1 D15_to_mean_card4  \\\n5307             0.000000         0.000000          0.000000   \n191582           0.000000         0.000000          0.000000   \n260168           2.597656         2.148405          2.490234   \n18516            0.000000         0.000000          0.000000   \n47538                 NaN              NaN               NaN   \n\n        D15_to_std_card4  D15_to_mean_addr1  D15_to_std_addr1  \n5307            0.000000           0.000000          0.000000  \n191582          0.000000                NaN               NaN  \n260168          2.056071           2.582031          2.174831  \n18516           0.000000           0.000000          0.000000  \n47538                NaN                NaN               NaN  \n\n[5 rows x 471 columns]",
      "text/html": "<div>\n<style scoped>\n    .dataframe tbody tr th:only-of-type {\n        vertical-align: middle;\n    }\n\n    .dataframe tbody tr th {\n        vertical-align: top;\n    }\n\n    .dataframe thead th {\n        text-align: right;\n    }\n</style>\n<table border=\"1\" class=\"dataframe\">\n  <thead>\n    <tr style=\"text-align: right;\">\n      <th></th>\n      <th>TransactionID</th>\n      <th>isFraud</th>\n      <th>TransactionDT</th>\n      <th>TransactionAmt</th>\n      <th>ProductCD</th>\n      <th>card1</th>\n      <th>card2</th>\n      <th>card3</th>\n      <th>card4</th>\n      <th>card5</th>\n      <th>...</th>\n      <th>id_02_to_mean_card4</th>\n      <th>id_02_to_std_card4</th>\n      <th>id_02_to_mean_addr1</th>\n      <th>id_02_to_std_addr1</th>\n      <th>D15_to_mean_card1</th>\n      <th>D15_to_std_card1</th>\n      <th>D15_to_mean_card4</th>\n      <th>D15_to_std_card4</th>\n      <th>D15_to_mean_addr1</th>\n      <th>D15_to_std_addr1</th>\n    </tr>\n  </thead>\n  <tbody>\n    <tr>\n      <th>5307</th>\n      <td>2992307</td>\n      <td>0</td>\n      <td>174911</td>\n      <td>59.0000</td>\n      <td>W</td>\n      <td>4988</td>\n      <td>334.0</td>\n      <td>150.0</td>\n      <td>visa</td>\n      <td>226.0</td>\n      <td>...</td>\n      <td>NaN</td>\n      <td>NaN</td>\n      <td>NaN</td>\n      <td>NaN</td>\n      <td>0.000000</td>\n      <td>0.000000</td>\n      <td>0.000000</td>\n      <td>0.000000</td>\n      <td>0.000000</td>\n      <td>0.000000</td>\n    </tr>\n    <tr>\n      <th>191582</th>\n      <td>3178582</td>\n      <td>0</td>\n      <td>4301977</td>\n      <td>23.3750</td>\n      <td>C</td>\n      <td>3867</td>\n      <td>296.0</td>\n      <td>185.0</td>\n      <td>visa</td>\n      <td>226.0</td>\n      <td>...</td>\n      <td>2.700445</td>\n      <td>2.944736</td>\n      <td>NaN</td>\n      <td>NaN</td>\n      <td>0.000000</td>\n      <td>0.000000</td>\n      <td>0.000000</td>\n      <td>0.000000</td>\n      <td>NaN</td>\n      <td>NaN</td>\n    </tr>\n    <tr>\n      <th>260168</th>\n      <td>3247168</td>\n      <td>0</td>\n      <td>6229929</td>\n      <td>35.9375</td>\n      <td>W</td>\n      <td>12577</td>\n      <td>268.0</td>\n      <td>150.0</td>\n      <td>visa</td>\n      <td>166.0</td>\n      <td>...</td>\n      <td>NaN</td>\n      <td>NaN</td>\n      <td>NaN</td>\n      <td>NaN</td>\n      <td>2.597656</td>\n      <td>2.148405</td>\n      <td>2.490234</td>\n      <td>2.056071</td>\n      <td>2.582031</td>\n      <td>2.174831</td>\n    </tr>\n    <tr>\n      <th>18516</th>\n      <td>3005516</td>\n      <td>0</td>\n      <td>497176</td>\n      <td>100.0000</td>\n      <td>R</td>\n      <td>6019</td>\n      <td>583.0</td>\n      <td>150.0</td>\n      <td>visa</td>\n      <td>226.0</td>\n      <td>...</td>\n      <td>0.579748</td>\n      <td>0.632194</td>\n      <td>0.815571</td>\n      <td>0.858382</td>\n      <td>0.000000</td>\n      <td>0.000000</td>\n      <td>0.000000</td>\n      <td>0.000000</td>\n      <td>0.000000</td>\n      <td>0.000000</td>\n    </tr>\n    <tr>\n      <th>47538</th>\n      <td>3034538</td>\n      <td>0</td>\n      <td>1124702</td>\n      <td>75.0000</td>\n      <td>H</td>\n      <td>16075</td>\n      <td>514.0</td>\n      <td>150.0</td>\n      <td>mastercard</td>\n      <td>102.0</td>\n      <td>...</td>\n      <td>0.481128</td>\n      <td>0.548746</td>\n      <td>0.815978</td>\n      <td>0.835990</td>\n      <td>NaN</td>\n      <td>NaN</td>\n      <td>NaN</td>\n      <td>NaN</td>\n      <td>NaN</td>\n      <td>NaN</td>\n    </tr>\n  </tbody>\n</table>\n<p>5 rows × 471 columns</p>\n</div>"
     },
     "execution_count": 13,
     "metadata": {},
     "output_type": "execute_result"
    }
   ],
   "source": [
    "train.head()"
   ],
   "metadata": {
    "collapsed": false,
    "pycharm": {
     "name": "#%%\n"
    }
   }
  },
  {
   "cell_type": "markdown",
   "source": [
    "### What features are we dropping and why?\n",
    "\n",
    "TransactionID - Only a unique identifier for identity.\n",
    "\n",
    "Id Columns - All Id columns contain at least 75% NaN values\n",
    "\n",
    "V Columns - V columns consists of Vesta engineered features. They are large is number, have additional training overhead\n",
    "            and do not add any significant performance improvement (As per Kaggle data discussion )."
   ],
   "metadata": {
    "collapsed": false
   }
  },
  {
   "cell_type": "code",
   "execution_count": 14,
   "outputs": [
    {
     "data": {
      "text/plain": "<AxesSubplot:title={'center':'NaN as a %'}>"
     },
     "execution_count": 14,
     "metadata": {},
     "output_type": "execute_result"
    },
    {
     "data": {
      "text/plain": "<Figure size 432x288 with 1 Axes>",
      "image/png": "[encoded data removed]"
     },
     "metadata": {
      "needs_background": "light"
     },
     "output_type": "display_data"
    }
   ],
   "source": [
    "id_cols = [col for col in train.columns if col.startswith('id')]\n",
    "df_id = train[id_cols]\n",
    "nulls = df_id.isnull().sum()/len(df_id) #as a percentage\n",
    "nulls.sort_values(ascending=False).plot.bar(title='NaN as a %')"
   ],
   "metadata": {
    "collapsed": false,
    "pycharm": {
     "name": "#%%\n"
    }
   }
  },
  {
   "cell_type": "code",
   "execution_count": 15,
   "outputs": [],
   "source": [
    "v_cols = [col for col in train.columns if col.startswith('V')]\n",
    "train.drop(v_cols,axis =1, inplace = True)\n",
    "train.drop(id_cols, axis = 1,inplace = True)\n",
    "test.drop(v_cols,axis =1, inplace = True)\n",
    "test.drop(id_cols, axis = 1,inplace = True)\n",
    "dev_test.drop(v_cols,axis =1, inplace = True)\n",
    "dev_test.drop(id_cols, axis = 1,inplace = True)"
   ],
   "metadata": {
    "collapsed": false,
    "pycharm": {
     "name": "#%%\n"
    }
   }
  },
  {
   "cell_type": "code",
   "execution_count": 16,
   "outputs": [],
   "source": [
    "categorical_features = list(set(train.columns) - set(train._get_numeric_data().columns))\n",
    "#we get dummy for some features only\n",
    "all_cat_col_names = [ col for col in categorical_features\n",
    "                    if len(train[col].unique()) < 15]\n",
    "\n",
    "large_cats_col_names = list(set(train.columns) - set(train._get_numeric_data()) - set(all_cat_col_names))"
   ],
   "metadata": {
    "collapsed": false,
    "pycharm": {
     "name": "#%%\n"
    }
   }
  },
  {
   "cell_type": "markdown",
   "source": [
    "One hot encoding of all the categorical variables."
   ],
   "metadata": {
    "collapsed": false
   }
  },
  {
   "cell_type": "code",
   "execution_count": 17,
   "outputs": [
    {
     "name": "stdout",
     "output_type": "stream",
     "text": [
      "encoding M1\n",
      "encoding ProductCD\n",
      "encoding M2\n",
      "encoding P_emaildomain_2\n",
      "encoding P_emaildomain_3\n",
      "encoding M4\n",
      "encoding R_emaildomain_3\n",
      "encoding R_emaildomain_2\n",
      "encoding card6\n",
      "encoding DeviceType\n",
      "encoding M8\n",
      "encoding OS_id_30\n",
      "encoding M5\n",
      "encoding M9\n",
      "encoding card4\n",
      "encoding M3\n",
      "encoding M7\n",
      "encoding device_name\n",
      "encoding M6\n"
     ]
    }
   ],
   "source": [
    "from sklearn.preprocessing import OneHotEncoder  #the disco import\n",
    "def dummy_transform(df,encoder,col):\n",
    "  new_col = [col+'_' + str(i)  for i in encoder.categories_[0].tolist()]\n",
    "  dummy_arr = encoder.transform(df[col].to_numpy().reshape(-1, 1))\n",
    "  dummy_df = pd.DataFrame(dummy_arr, columns = new_col)\n",
    "\n",
    "  # Allows nice concat-ing\n",
    "  dummy_df.reset_index(drop=True, inplace=True)\n",
    "  df.reset_index(drop=True, inplace=True)\n",
    "  return pd.concat([df, dummy_df],axis =1)\n",
    "\n",
    "\n",
    "for col in all_cat_col_names:\n",
    "  print('encoding',col)\n",
    "  enc = OneHotEncoder(handle_unknown='ignore',sparse=False)\n",
    "  dummy_train = enc.fit_transform(train[col].to_numpy().reshape(-1, 1))\n",
    "\n",
    "  train = dummy_transform(train,enc,col)\n",
    "  dev_test = dummy_transform(dev_test,enc,col)\n",
    "  test = dummy_transform(test,enc,col)"
   ],
   "metadata": {
    "collapsed": false,
    "pycharm": {
     "name": "#%%\n"
    }
   }
  },
  {
   "cell_type": "code",
   "execution_count": 19,
   "outputs": [
    {
     "data": {
      "text/plain": "((472432, 187), (118108, 187), (506691, 186))"
     },
     "execution_count": 19,
     "metadata": {},
     "output_type": "execute_result"
    }
   ],
   "source": [
    "(train.shape, dev_test.shape,test.shape)\n"
   ],
   "metadata": {
    "collapsed": false,
    "pycharm": {
     "name": "#%%\n"
    }
   }
  },
  {
   "cell_type": "code",
   "execution_count": 20,
   "outputs": [
    {
     "name": "stdout",
     "output_type": "stream",
     "text": [
      "Before dropping: The shape of the Train (472432, 187) \n",
      "After dropping: The shape of the Train (472432, 168) \n"
     ]
    }
   ],
   "source": [
    "print(f\"Before dropping: The shape of the Train {train.shape} \")\n",
    "\n",
    "train.drop(all_cat_col_names,axis =1,inplace = True )\n",
    "print(f\"After dropping: The shape of the Train {train.shape} \")"
   ],
   "metadata": {
    "collapsed": false,
    "pycharm": {
     "name": "#%%\n"
    }
   }
  },
  {
   "cell_type": "code",
   "execution_count": 21,
   "outputs": [
    {
     "name": "stdout",
     "output_type": "stream",
     "text": [
      "Before dropping: The shape of the test (506691, 186) \n",
      "After dropping: The shape of the test (506691, 167) \n"
     ]
    }
   ],
   "source": [
    "print(f\"Before dropping: The shape of the test {test.shape} \")\n",
    "\n",
    "test.drop(all_cat_col_names,axis =1,inplace = True )\n",
    "print(f\"After dropping: The shape of the test {test.shape} \")"
   ],
   "metadata": {
    "collapsed": false,
    "pycharm": {
     "name": "#%%\n"
    }
   }
  },
  {
   "cell_type": "code",
   "execution_count": 22,
   "outputs": [
    {
     "name": "stdout",
     "output_type": "stream",
     "text": [
      "Before dropping: The shape of the test (118108, 187) \n",
      "After dropping: The shape of the test (118108, 168) \n"
     ]
    }
   ],
   "source": [
    "print(f\"Before dropping: The shape of the test {dev_test.shape} \")\n",
    "dev_test.drop(all_cat_col_names,axis =1,inplace = True )\n",
    "print(f\"After dropping: The shape of the test {dev_test.shape} \")"
   ],
   "metadata": {
    "collapsed": false,
    "pycharm": {
     "name": "#%%\n"
    }
   }
  },
  {
   "cell_type": "code",
   "execution_count": null,
   "outputs": [],
   "source": [
    "a=[c for c in train.columns if c.startswith('card')]\n",
    "train[a].head()"
   ],
   "metadata": {
    "collapsed": false,
    "pycharm": {
     "name": "#%%\n"
    }
   }
  },
  {
   "cell_type": "code",
   "execution_count": 23,
   "outputs": [
    {
     "data": {
      "text/plain": "array([0, 1], dtype=int8)"
     },
     "execution_count": 23,
     "metadata": {},
     "output_type": "execute_result"
    }
   ],
   "source": [
    "train['isFraud'].unique()"
   ],
   "metadata": {
    "collapsed": false,
    "pycharm": {
     "name": "#%%\n"
    }
   }
  },
  {
   "cell_type": "code",
   "execution_count": 24,
   "outputs": [
    {
     "data": {
      "text/plain": "((472432, 168), (118108, 168))"
     },
     "execution_count": 24,
     "metadata": {},
     "output_type": "execute_result"
    }
   ],
   "source": [
    "(train.shape, dev_test.shape)"
   ],
   "metadata": {
    "collapsed": false,
    "pycharm": {
     "name": "#%%\n"
    }
   }
  },
  {
   "cell_type": "markdown",
   "source": [
    "We need to deal with the variables with high number of cats.\n"
   ],
   "metadata": {
    "collapsed": false,
    "pycharm": {
     "name": "#%% md\n"
    }
   }
  },
  {
   "cell_type": "code",
   "execution_count": 25,
   "outputs": [],
   "source": [
    "def frequency_encoder(x,groupby):\n",
    "  if x == None:\n",
    "    return groupby.get(np.nan)\n",
    "  else:\n",
    "    return groupby.get(x)\n",
    "\n",
    "\n",
    "  # large_cats\n",
    "for col in large_cats_col_names:\n",
    "  freq_enc = (train.groupby(col,dropna=False  # to prevent loss of information\n",
    "                            ).size()) / len(train)\n",
    "  train[col+'freq'] = train[col].apply(lambda x : frequency_encoder(x,freq_enc))\n",
    "  test[col+'freq'] = test[col].apply(lambda x : frequency_encoder(x,freq_enc))\n",
    "  dev_test[col+'freq'] = dev_test[col].apply(lambda x : frequency_encoder(x,freq_enc))\n",
    "\n",
    "train.drop(large_cats_col_names,axis = 1,inplace = True)\n",
    "test.drop(large_cats_col_names,axis = 1,inplace = True)\n",
    "dev_test.drop(large_cats_col_names,axis = 1,inplace = True)\n"
   ],
   "metadata": {
    "collapsed": false,
    "pycharm": {
     "name": "#%%\n"
    }
   }
  },
  {
   "cell_type": "markdown",
   "source": [
    "### Column Imputation\n",
    "\n",
    "How are we dealing with NaN/Missing/Infinite Values?\n",
    "\n",
    "\n",
    "To use SMOTE we must remove np.infs and NaNs,\n",
    "  - So we initially drop columns with less than 80% non-NA values.\n",
    "  - Then, we drop rows containing NaN values\n",
    "\n",
    "Using this resulted in a higher performance on balanced score measures than\n",
    "keeping NaNs and not using SMOTE.\n"
   ],
   "metadata": {
    "collapsed": false,
    "pycharm": {
     "name": "#%% md\n"
    }
   }
  },
  {
   "cell_type": "code",
   "execution_count": 26,
   "outputs": [],
   "source": [
    "high_NA_columns = train.columns[train.isnull().sum()/len(train)>0.2]\n",
    "## We need train_na asa separate DF for further processing.\n",
    "train_na = train.drop(high_NA_columns, axis=1)\n",
    "test= test.drop(high_NA_columns, axis=1)\n",
    "dev_test = dev_test.drop(high_NA_columns, axis=1)"
   ],
   "metadata": {
    "collapsed": false,
    "pycharm": {
     "name": "#%%\n"
    }
   }
  },
  {
   "cell_type": "code",
   "execution_count": 27,
   "outputs": [
    {
     "data": {
      "text/plain": "D15_to_std_card1       0.163041\nD15_to_mean_card1      0.161143\nP_emaildomainfreq      0.159496\nD15_to_std_card4       0.153262\nD15_to_mean_card4      0.153262\n                         ...   \nP_emaildomain_2_net    0.000000\nP_emaildomain_2_fr     0.000000\nP_emaildomain_2_es     0.000000\nP_emaildomain_2_de     0.000000\nversion_id_30freq      0.000000\nLength: 149, dtype: float64"
     },
     "execution_count": 27,
     "metadata": {},
     "output_type": "execute_result"
    }
   ],
   "source": [
    "nulls = train_na.isnull().sum()/len(train_na) #as a percentage\n",
    "nulls.sort_values(ascending=False)\n",
    "# nulls.sort_values(ascending=False).plot.barh(title='NaN as a %')"
   ],
   "metadata": {
    "collapsed": false,
    "pycharm": {
     "name": "#%%\n"
    }
   }
  },
  {
   "cell_type": "markdown",
   "source": [
    "### Outlier removal\n",
    "\n",
    "Since we are using ensemble tree methods that are robust to\n",
    "outliers we choose not to perform outlier removal. Doing it in a\n",
    "feature agnostic manner would destroy information on anomalies and doing\n",
    "so otherwise would require pruning each column."
   ],
   "metadata": {
    "collapsed": false,
    "pycharm": {
     "name": "#%% md\n"
    }
   }
  },
  {
   "cell_type": "markdown",
   "source": [
    "### Feature engineering (Creation)\n",
    "Anli/Yao\n",
    "##### Splitting email domains\n",
    "##### Checking decimals in the transaction Amount\n",
    "##### Extracting device info\n",
    "      - device name\n",
    "          Extaction\n",
    "          Correction\n",
    "      - device version\n",
    "      - Operating system ID\n",
    "      - Operating system version\n",
    "      - browser ID\n",
    "      - browser version\n",
    "      - screen width\n",
    "      - screen height\n",
    "\n",
    "#### Aggregating columns to generate new features\n",
    "      Anli/Yao\n",
    "#### Changing data types of categorical columns to category\n",
    "      Anli/Yao\n",
    "#### Converting M columns to 1 and 0\n",
    "      Anli/Yao\n",
    "#### Transaction Amount Transformations\n",
    "      Anli/Yao"
   ],
   "metadata": {
    "collapsed": false,
    "pycharm": {
     "name": "#%% md\n"
    }
   }
  },
  {
   "cell_type": "markdown",
   "source": [
    "### Class Balancing\n",
    "To perform class balancing we use SMOTE from Imbalanced Learn, to create samples\n",
    "of minority data."
   ],
   "metadata": {
    "collapsed": false
   }
  },
  {
   "cell_type": "code",
   "execution_count": 28,
   "outputs": [],
   "source": [
    "# Class balancing only for train data for comparing it later on.\n",
    "\n",
    "train_no_na = train_na[~train_na.isin([np.nan, np.inf, -np.inf]).any(1)]\n",
    "test = test[~test.isin([np.nan, np.inf, -np.inf]).any(1)]\n",
    "dev_test = dev_test[~dev_test.isin([np.nan, np.inf, -np.inf]).any(1)]\n",
    "# train_no_na = train_no_na._get_numeric_data()\n",
    "X_train, y_train = train_no_na.drop('isFraud',axis = 1), train_no_na['isFraud']\n",
    "oversample = over_sampling.SMOTE()\n",
    "X_train, y_train = oversample.fit_resample(X_train, y_train)\n",
    "X_train.drop('TransactionID', axis=1, inplace = True)\n",
    "\n",
    "# Dev test data for model checking\n",
    "X_test, y_test = dev_test.drop(['isFraud', 'TransactionID'], axis = 1), dev_test['isFraud']\n"
   ],
   "metadata": {
    "collapsed": false,
    "pycharm": {
     "name": "#%%\n"
    }
   }
  },
  {
   "cell_type": "code",
   "source": [
    "y_train.value_counts(normalize = True).plot(kind= 'barh')\n",
    "plt.title('% of class')\n",
    "plt.ylabel('isFraud (1 = Fraud)')\n",
    "plt.show()"
   ],
   "metadata": {
    "collapsed": false,
    "pycharm": {
     "name": "#%%\n"
    }
   },
   "execution_count": 29,
   "outputs": [
    {
     "data": {
      "text/plain": "<Figure size 432x288 with 1 Axes>",
      "image/png": "[encoded data removed]"
     },
     "metadata": {
      "needs_background": "light"
     },
     "output_type": "display_data"
    }
   ]
  },
  {
   "cell_type": "markdown",
   "source": [
    "## Model Creation & Fitting\n",
    "### Individual models\n",
    "\n",
    "\n",
    "\n"
   ],
   "metadata": {
    "collapsed": false,
    "pycharm": {
     "name": "#%% md\n"
    }
   }
  },
  {
   "cell_type": "markdown",
   "source": [
    "# START"
   ],
   "metadata": {
    "collapsed": false,
    "pycharm": {
     "name": "#%% md\n"
    }
   }
  },
  {
   "cell_type": "code",
   "execution_count": null,
   "outputs": [],
   "source": [
    "train.hist(column='id_01',bins=77)"
   ],
   "metadata": {
    "collapsed": false,
    "pycharm": {
     "name": "#%%\n"
    }
   }
  },
  {
   "cell_type": "code",
   "execution_count": null,
   "outputs": [],
   "source": [
    "train['id_03'].value_counts(dropna=False, normalize=True).head()"
   ],
   "metadata": {
    "collapsed": false,
    "pycharm": {
     "name": "#%%\n"
    }
   }
  },
  {
   "cell_type": "code",
   "execution_count": null,
   "outputs": [],
   "source": [
    "train['id_01'].unique()"
   ],
   "metadata": {
    "collapsed": false,
    "pycharm": {
     "name": "#%%\n"
    }
   }
  },
  {
   "cell_type": "code",
   "execution_count": null,
   "outputs": [],
   "source": [
    "train['id_02'].unique()"
   ],
   "metadata": {
    "collapsed": false,
    "pycharm": {
     "name": "#%%\n"
    }
   }
  },
  {
   "cell_type": "code",
   "execution_count": null,
   "outputs": [],
   "source": [
    "train['id_03'].unique()"
   ],
   "metadata": {
    "collapsed": false,
    "pycharm": {
     "name": "#%%\n"
    }
   }
  },
  {
   "cell_type": "code",
   "execution_count": null,
   "outputs": [],
   "source": [
    "train['id_04'].unique()"
   ],
   "metadata": {
    "collapsed": false,
    "pycharm": {
     "name": "#%%\n"
    }
   }
  },
  {
   "cell_type": "code",
   "execution_count": null,
   "outputs": [],
   "source": [
    "train['id_05'].unique()"
   ],
   "metadata": {
    "collapsed": false,
    "pycharm": {
     "name": "#%%\n"
    }
   }
  },
  {
   "cell_type": "code",
   "execution_count": null,
   "outputs": [],
   "source": [
    "train['id_06'].unique()"
   ],
   "metadata": {
    "collapsed": false,
    "pycharm": {
     "name": "#%%\n"
    }
   }
  },
  {
   "cell_type": "code",
   "execution_count": null,
   "outputs": [],
   "source": [
    "train['id_07'].unique()"
   ],
   "metadata": {
    "collapsed": false,
    "pycharm": {
     "name": "#%%\n"
    }
   }
  },
  {
   "cell_type": "code",
   "execution_count": null,
   "outputs": [],
   "source": [
    "train['id_08'].unique()"
   ],
   "metadata": {
    "collapsed": false,
    "pycharm": {
     "name": "#%%\n"
    }
   }
  },
  {
   "cell_type": "code",
   "execution_count": null,
   "outputs": [],
   "source": [
    "train['id_09'].unique()"
   ],
   "metadata": {
    "collapsed": false,
    "pycharm": {
     "name": "#%%\n"
    }
   }
  },
  {
   "cell_type": "code",
   "execution_count": null,
   "outputs": [],
   "source": [
    "train['id_10'].unique()"
   ],
   "metadata": {
    "collapsed": false,
    "pycharm": {
     "name": "#%%\n"
    }
   }
  },
  {
   "cell_type": "code",
   "execution_count": null,
   "outputs": [],
   "source": [
    "train['id_11'].unique()"
   ],
   "metadata": {
    "collapsed": false,
    "pycharm": {
     "name": "#%%\n"
    }
   }
  },
  {
   "cell_type": "code",
   "execution_count": null,
   "outputs": [],
   "source": [
    "train['id_12'].unique()"
   ],
   "metadata": {
    "collapsed": false,
    "pycharm": {
     "name": "#%%\n"
    }
   }
  },
  {
   "cell_type": "code",
   "execution_count": null,
   "outputs": [],
   "source": [
    "train['id_13'].unique()"
   ],
   "metadata": {
    "collapsed": false,
    "pycharm": {
     "name": "#%%\n"
    }
   }
  },
  {
   "cell_type": "code",
   "execution_count": null,
   "outputs": [],
   "source": [
    "train['id_14'].unique()"
   ],
   "metadata": {
    "collapsed": false,
    "pycharm": {
     "name": "#%%\n"
    }
   }
  },
  {
   "cell_type": "code",
   "execution_count": null,
   "outputs": [],
   "source": [
    "train['id_15'].unique()"
   ],
   "metadata": {
    "collapsed": false,
    "pycharm": {
     "name": "#%%\n"
    }
   }
  },
  {
   "cell_type": "code",
   "execution_count": null,
   "outputs": [],
   "source": [
    "train['id_16'].unique()"
   ],
   "metadata": {
    "collapsed": false,
    "pycharm": {
     "name": "#%%\n"
    }
   }
  },
  {
   "cell_type": "code",
   "execution_count": null,
   "outputs": [],
   "source": [
    "train['id_17'].unique()"
   ],
   "metadata": {
    "collapsed": false,
    "pycharm": {
     "name": "#%%\n"
    }
   }
  },
  {
   "cell_type": "code",
   "execution_count": null,
   "outputs": [],
   "source": [
    "train['id_18'].unique()"
   ],
   "metadata": {
    "collapsed": false,
    "pycharm": {
     "name": "#%%\n"
    }
   }
  },
  {
   "cell_type": "code",
   "execution_count": null,
   "outputs": [],
   "source": [
    "train['id_19'].unique()"
   ],
   "metadata": {
    "collapsed": false,
    "pycharm": {
     "name": "#%%\n"
    }
   }
  },
  {
   "cell_type": "code",
   "execution_count": null,
   "outputs": [],
   "source": [
    "train['id_20'].unique()"
   ],
   "metadata": {
    "collapsed": false,
    "pycharm": {
     "name": "#%%\n"
    }
   }
  },
  {
   "cell_type": "code",
   "execution_count": null,
   "outputs": [],
   "source": [
    "train['id_21'].unique()"
   ],
   "metadata": {
    "collapsed": false,
    "pycharm": {
     "name": "#%%\n"
    }
   }
  },
  {
   "cell_type": "code",
   "execution_count": null,
   "outputs": [],
   "source": [
    "train['id_22'].unique()"
   ],
   "metadata": {
    "collapsed": false,
    "pycharm": {
     "name": "#%%\n"
    }
   }
  },
  {
   "cell_type": "code",
   "execution_count": null,
   "outputs": [],
   "source": [
    "train['id_23'].unique()"
   ],
   "metadata": {
    "collapsed": false,
    "pycharm": {
     "name": "#%%\n"
    }
   }
  },
  {
   "cell_type": "code",
   "execution_count": null,
   "outputs": [],
   "source": [
    "train['id_24'].unique()"
   ],
   "metadata": {
    "collapsed": false,
    "pycharm": {
     "name": "#%%\n"
    }
   }
  },
  {
   "cell_type": "code",
   "execution_count": null,
   "outputs": [],
   "source": [
    "train['id_25'].unique()"
   ],
   "metadata": {
    "collapsed": false,
    "pycharm": {
     "name": "#%%\n"
    }
   }
  },
  {
   "cell_type": "code",
   "execution_count": null,
   "outputs": [],
   "source": [
    "train['id_26'].unique()"
   ],
   "metadata": {
    "collapsed": false,
    "pycharm": {
     "name": "#%%\n"
    }
   }
  },
  {
   "cell_type": "code",
   "execution_count": null,
   "outputs": [],
   "source": [
    "train['id_27'].unique()"
   ],
   "metadata": {
    "collapsed": false,
    "pycharm": {
     "name": "#%%\n"
    }
   }
  },
  {
   "cell_type": "code",
   "execution_count": null,
   "outputs": [],
   "source": [
    "train['id_28'].unique()"
   ],
   "metadata": {
    "collapsed": false,
    "pycharm": {
     "name": "#%%\n"
    }
   }
  },
  {
   "cell_type": "code",
   "execution_count": null,
   "outputs": [],
   "source": [
    "train['id_29'].unique()"
   ],
   "metadata": {
    "collapsed": false,
    "pycharm": {
     "name": "#%%\n"
    }
   }
  },
  {
   "cell_type": "code",
   "execution_count": null,
   "outputs": [],
   "source": [
    "train['id_30'].unique()"
   ],
   "metadata": {
    "collapsed": false,
    "pycharm": {
     "name": "#%%\n"
    }
   }
  },
  {
   "cell_type": "code",
   "execution_count": null,
   "outputs": [],
   "source": [
    "train['id_31'].unique()"
   ],
   "metadata": {
    "collapsed": false,
    "pycharm": {
     "name": "#%%\n"
    }
   }
  },
  {
   "cell_type": "code",
   "execution_count": null,
   "outputs": [],
   "source": [
    "train['id_32'].unique()"
   ],
   "metadata": {
    "collapsed": false,
    "pycharm": {
     "name": "#%%\n"
    }
   }
  },
  {
   "cell_type": "code",
   "execution_count": null,
   "outputs": [],
   "source": [
    "train['id_33'].unique()"
   ],
   "metadata": {
    "collapsed": false,
    "pycharm": {
     "name": "#%%\n"
    }
   }
  },
  {
   "cell_type": "code",
   "execution_count": null,
   "outputs": [],
   "source": [
    "train['id_34'].unique()"
   ],
   "metadata": {
    "collapsed": false,
    "pycharm": {
     "name": "#%%\n"
    }
   }
  },
  {
   "cell_type": "code",
   "execution_count": null,
   "outputs": [],
   "source": [
    "train['id_35'].unique()"
   ],
   "metadata": {
    "collapsed": false,
    "pycharm": {
     "name": "#%%\n"
    }
   }
  },
  {
   "cell_type": "code",
   "execution_count": null,
   "outputs": [],
   "source": [
    "train['id_36'].unique()"
   ],
   "metadata": {
    "collapsed": false,
    "pycharm": {
     "name": "#%%\n"
    }
   }
  },
  {
   "cell_type": "code",
   "execution_count": null,
   "outputs": [],
   "source": [
    "train['id_37'].unique()"
   ],
   "metadata": {
    "collapsed": false,
    "pycharm": {
     "name": "#%%\n"
    }
   }
  },
  {
   "cell_type": "code",
   "execution_count": null,
   "outputs": [],
   "source": [
    "train['id_38'].unique()"
   ],
   "metadata": {
    "collapsed": false,
    "pycharm": {
     "name": "#%%\n"
    }
   }
  },
  {
   "cell_type": "markdown",
   "source": [
    "# END"
   ],
   "metadata": {
    "collapsed": false
   }
  }
 ],
 "metadata": {
  "kernelspec": {
   "display_name": "Python 3",
   "language": "python",
   "name": "python3"
  },
  "language_info": {
   "codemirror_mode": {
    "name": "ipython",
    "version": 2
   },
   "file_extension": ".py",
   "mimetype": "text/x-python",
   "name": "python",
   "nbconvert_exporter": "python",
   "pygments_lexer": "ipython2",
   "version": "2.7.6"
  }
 },
 "nbformat": 4,
 "nbformat_minor": 0
}