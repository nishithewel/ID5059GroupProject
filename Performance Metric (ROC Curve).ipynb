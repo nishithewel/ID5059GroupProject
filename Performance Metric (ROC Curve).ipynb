{
 "cells": [
  {
   "cell_type": "markdown",
   "id": "905544f4",
   "metadata": {},
   "source": [
    "# ROC AUC\n",
    "Assuming we have our data cleaned and our own models run with test dataset, the following codes only plot ROC curve and calculate AUC."
   ]
  },
  {
   "cell_type": "markdown",
   "id": "67817187",
   "metadata": {},
   "source": [
    "### Generating ROC Curve (my model)\n",
    "\n",
    "Comment from Joe: I think this is basically the same as the line in\n",
    "alternatives below"
   ]
  },
  {
   "cell_type": "code",
   "execution_count": 8,
   "id": "51f49a0a",
   "metadata": {},
   "outputs": [],
   "source": [
    "from sklearn.metrics import RocCurveDisplay, roc_curve, roc_auc_score\n",
    "\n",
    "def roc(myModel, y_true, testData):\n",
    "    model_pred = myModel.decision_function(testData) #Why having this?\n",
    "    RocCurveDisplay.from_predictions(y_true, model_pred)\n",
    "    plt.show()\n",
    "    return model_pred"
   ]
  },
  {
   "cell_type": "markdown",
   "id": "f0fa7887",
   "metadata": {},
   "source": [
    "### Alternative\n",
    "\n",
    "```RocCurveDisplay.from_estimator(myModel, X, y)```"
   ]
  },
  {
   "cell_type": "markdown",
   "id": "1c261620",
   "metadata": {},
   "source": [
    "### Prediction Probabilities (my model & random prediction)"
   ]
  },
  {
   "cell_type": "code",
   "execution_count": 9,
   "id": "a6eaeeaf",
   "metadata": {},
   "outputs": [],
   "source": [
    "def pred_probs(myModel, testData):\n",
    "    random_probs = [0] * len(testData)\n",
    "    model_probs = myModel.predict_proba(testData)[:,1]\n",
    "    return random_probs, model_probs"
   ]
  },
  {
   "cell_type": "markdown",
   "id": "65c7e37f",
   "metadata": {},
   "source": [
    "### Calculate AUC (compare with random prediction)\n",
    "\n",
    "Comment from Joe: This is useful if we are looking only at one model, but may need to be tweaked to work with multiple models to avoid calculating the random score more times than needed. See the multiple model selection below."
   ]
  },
  {
   "cell_type": "code",
   "execution_count": 10,
   "id": "a6de2375",
   "metadata": {},
   "outputs": [],
   "source": [
    "def auc(testData, myProbs, modelPred, randomProbs):\n",
    "    random_auc = roc_auc_score(testData, randomProbs)\n",
    "    model_auc = roc_auc_score(testData, myProbs)\n",
    "    model_pred_auc = roc_auc_score(testData, modelPred) #Why having this?\n",
    "    print('Random (chance) Prediction: AUC = %.3f' % (random_auc))\n",
    "    print('My Model: AUC = %.3f' % (model_auc))\n",
    "    print('Model_pred: AUC = %.3f' % (model_pred_auc)) #Why having this?\n",
    "    return random_auc, model_auc"
   ]
  },
  {
   "cell_type": "markdown",
   "id": "fcfea520",
   "metadata": {},
   "source": [
    "### Calculate ROC Curve (my model and random prediction)\n",
    "\n",
    "Comment from Joe: Same as above"
   ]
  },
  {
   "cell_type": "code",
   "execution_count": 11,
   "id": "79ff4b29",
   "metadata": {},
   "outputs": [],
   "source": [
    "def calulate_roc(testData, myProbs, randomProbs):\n",
    "    my_fpr, my_tpr, _ = roc_curve(testData, myProbs)\n",
    "    random_fpr, random_tpr, _ = roc_curve(testData, randomProbs)\n",
    "    return my_fpr, my_tpr, random_fpr, random_tpr"
   ]
  },
  {
   "cell_type": "markdown",
   "id": "a1724ebd",
   "metadata": {},
   "source": [
    "### Plot the ROC Curve (compare with random prediction)"
   ]
  },
  {
   "cell_type": "code",
   "execution_count": 12,
   "id": "5381f33d",
   "metadata": {},
   "outputs": [],
   "source": [
    "def roc_plot(myFPR, myTPR, myAUC, randomFPR, randomTPR, randomAUC):\n",
    "    plt.plot(myFPR, myTPR, label = 'My model (AUC = %0.3f)' % myAUC)\n",
    "    plt.plot(randomFPR, randomTPR, label = 'Random Prediction (AUC = %0.3f)' % randomAUC)\n",
    "    \n",
    "    #Title\n",
    "    plt.title(\"ROC Plot\")\n",
    "    #Axis Labels\n",
    "    plt.xlabel('False Positive Rate')\n",
    "    plt.ylabel('True Positive Rate')\n",
    "    #Show Legend\n",
    "    plt.legend()\n",
    "    #Show Plot\n",
    "    plt.show()"
   ]
  },
  {
   "cell_type": "markdown",
   "id": "10a04cf3",
   "metadata": {},
   "source": [
    "### Plot multiple models on one graph"
   ]
  },
  {
   "cell_type": "code",
   "execution_count": 13,
   "id": "1b58e580",
   "metadata": {},
   "outputs": [],
   "source": [
    "def get_roc_and_auc(y_true, y_score):\n",
    "    fpr, tpr, _ = roc_curve(y_true, y_score)\n",
    "    auc = roc_auc_score(y_true, y_score)\n",
    "    return fpr, tpr, auc\n",
    "\n",
    "def plot_multiple_ROC(*models, y_true, X):\n",
    "    rand_preds = [0] * len(y_true)\n",
    "    rand_fpr, rand_tpr, rand_auc = get_roc_and_auc(y_true, rand_preds)\n",
    "    plt.plot(rand_fpr, rand_tpr, '--', alpha = 0.4, label = f'Random Prediction (AUC = {rand_auc:0.2f})')\n",
    "    \n",
    "    aucs = {}\n",
    "    for name, model in models:\n",
    "        fpr, tpr, auc = get_roc_and_auc(y_true, model.predict_proba(X)[:,1])\n",
    "        aucs[name] = auc\n",
    "        plt.plot(fpr, tpr, alpha = 0.4, label = f'{name} (AUC = {auc:0.3f})')\n",
    "    \n",
    "    plt.title(\"ROC Plot\")\n",
    "    plt.xlabel('False Positive Rate')\n",
    "    plt.ylabel('True Positive Rate')\n",
    "    plt.legend()\n",
    "    plt.show()\n",
    "    return aucs"
   ]
  },
  {
   "cell_type": "markdown",
   "id": "8974594b",
   "metadata": {},
   "source": [
    "## Example"
   ]
  },
  {
   "cell_type": "code",
   "execution_count": 14,
   "id": "fb1bb0b2",
   "metadata": {},
   "outputs": [],
   "source": [
    "import pandas as pd\n",
    "\n",
    "# Classifiers\n",
    "from xgboost import XGBClassifier\n",
    "from sklearn.neighbors import KNeighborsClassifier\n",
    "from sklearn.tree import DecisionTreeClassifier\n",
    "from sklearn.svm import SVC\n",
    "from sklearn.naive_bayes import GaussianNB\n",
    "\n",
    "# Create generic dataset for classification\n",
    "from sklearn.datasets import make_classification\n",
    "from sklearn.model_selection import train_test_split, cross_val_score, RepeatedStratifiedKFold\n",
    "\n",
    "# To compare models\n",
    "from matplotlib import pyplot as plt\n",
    "from numpy import mean\n",
    "from numpy import std\n",
    "import random as rd\n",
    "rd.seed(1708)"
   ]
  },
  {
   "cell_type": "code",
   "execution_count": 15,
   "id": "b85e9e60",
   "metadata": {},
   "outputs": [],
   "source": [
    "# Create dummy regression dataset\n",
    "X, y = make_classification(n_samples=1000, n_features=20, n_informative=15, n_redundant=5, random_state=1)\n",
    "\n",
    "# Convert to pandas\n",
    "X = pd.DataFrame(X)\n",
    "y = pd.DataFrame(y)\n",
    "\n",
    "#Rename column\n",
    "y = y.rename(columns={0: 'target'})\n",
    "\n",
    "# Split into validation set\n",
    "X_train, X_val, y_train, y_val = train_test_split(X, y,\n",
    "                                                  test_size=0.2,\n",
    "                                                  random_state=42)"
   ]
  },
  {
   "cell_type": "code",
   "execution_count": 16,
   "id": "9579e266",
   "metadata": {},
   "outputs": [
    {
     "name": "stderr",
     "output_type": "stream",
     "text": [
      "/home/joseph/anaconda3/envs/kdd/lib/python3.9/site-packages/xgboost/data.py:250: FutureWarning: pandas.Int64Index is deprecated and will be removed from pandas in a future version. Use pandas.Index with the appropriate dtype instead.\n",
      "  elif isinstance(data.columns, (pd.Int64Index, pd.RangeIndex)):\n"
     ]
    }
   ],
   "source": [
    "models = {}\n",
    "models['xgb'] = XGBClassifier(max_depth=1, verbosity=0, use_label_encoder=False)\n",
    "models['xgb2'] = XGBClassifier(max_depth=5, learning_rate=.0001, verbosity=0, use_label_encoder=False)\n",
    "models['knn'] = KNeighborsClassifier()\n",
    "models['knn2'] = KNeighborsClassifier(n_neighbors=7, weights=\"distance\")\n",
    "models['cart'] = DecisionTreeClassifier()\n",
    "models['bayes'] = GaussianNB()\n",
    "\n",
    "for model in models.values():\n",
    "    model.fit(X_train, y_train.values.ravel())"
   ]
  },
  {
   "cell_type": "code",
   "execution_count": 17,
   "id": "bb214659",
   "metadata": {},
   "outputs": [],
   "source": [
    "#Creating a temporary dataframe so we can see how each of our models performed\n",
    "temp = pd.DataFrame(y_val)\n",
    "\n",
    "# Get each model in the stacked model to see how they individually perform\n",
    "for m in models.items():\n",
    "        temp[m[0]] = m[1].predict(X_val)"
   ]
  },
  {
   "cell_type": "code",
   "execution_count": 18,
   "id": "51fda21f",
   "metadata": {},
   "outputs": [
    {
     "name": "stdout",
     "output_type": "stream",
     "text": [
      "Correlations with target column\n",
      "target    1.000000\n",
      "xgb       0.770964\n",
      "xgb2      0.668043\n",
      "knn       0.830204\n",
      "knn2      0.869783\n",
      "cart      0.649500\n",
      "bayes     0.750939\n",
      "Name: target, dtype: float64\n"
     ]
    }
   ],
   "source": [
    "# See how each of our models correlate with our target\n",
    "# In most instances of running the program the stacked predictions should outperform any singular model\n",
    "print(\"Correlations with target column\")\n",
    "print(temp.corr()['target'])"
   ]
  },
  {
   "cell_type": "code",
   "execution_count": 19,
   "id": "08da88af",
   "metadata": {},
   "outputs": [],
   "source": [
    "score = pd.DataFrame({\"model\":models.keys()})"
   ]
  },
  {
   "cell_type": "code",
   "execution_count": 20,
   "id": "c76412dd",
   "metadata": {},
   "outputs": [
    {
     "data": {
      "image/png": "[encoded data removed]",
      "text/plain": [
       "<Figure size 432x288 with 1 Axes>"
      ]
     },
     "metadata": {
      "needs_background": "light"
     },
     "output_type": "display_data"
    },
    {
     "data": {
      "text/plain": [
       "{'xgb': 0.9556892230576441,\n",
       " 'xgb2': 0.8876190476190475,\n",
       " 'knn': 0.9815037593984961,\n",
       " 'knn2': 0.989172932330827,\n",
       " 'cart': 0.8228070175438597,\n",
       " 'bayes': 0.9235087719298245}"
      ]
     },
     "execution_count": 20,
     "metadata": {},
     "output_type": "execute_result"
    }
   ],
   "source": [
    "plot_multiple_ROC(*models.items(), y_true = y_val.target.values.ravel(), X = X_val)"
   ]
  },
  {
   "cell_type": "code",
   "execution_count": 21,
   "id": "83eed3f9",
   "metadata": {},
   "outputs": [],
   "source": [
    "from utils.diagnositics import get_diagnostics"
   ]
  },
  {
   "cell_type": "code",
   "execution_count": 22,
   "id": "57863140",
   "metadata": {},
   "outputs": [
    {
     "data": {
      "image/png": "[encoded data removed]",
      "text/plain": [
       "<Figure size 432x288 with 1 Axes>"
      ]
     },
     "metadata": {
      "needs_background": "light"
     },
     "output_type": "display_data"
    },
    {
     "data": {
      "text/html": [
       "<div>\n",
       "<style scoped>\n",
       "    .dataframe tbody tr th:only-of-type {\n",
       "        vertical-align: middle;\n",
       "    }\n",
       "\n",
       "    .dataframe tbody tr th {\n",
       "        vertical-align: top;\n",
       "    }\n",
       "\n",
       "    .dataframe thead th {\n",
       "        text-align: right;\n",
       "    }\n",
       "</style>\n",
       "<table border=\"1\" class=\"dataframe\">\n",
       "  <thead>\n",
       "    <tr style=\"text-align: right;\">\n",
       "      <th></th>\n",
       "      <th>model</th>\n",
       "      <th>auc</th>\n",
       "      <th>balanced accuracy</th>\n",
       "    </tr>\n",
       "  </thead>\n",
       "  <tbody>\n",
       "    <tr>\n",
       "      <th>0</th>\n",
       "      <td>xgb</td>\n",
       "      <td>0.955689</td>\n",
       "      <td>0.885965</td>\n",
       "    </tr>\n",
       "    <tr>\n",
       "      <th>1</th>\n",
       "      <td>xgb2</td>\n",
       "      <td>0.887619</td>\n",
       "      <td>0.833083</td>\n",
       "    </tr>\n",
       "    <tr>\n",
       "      <th>2</th>\n",
       "      <td>knn</td>\n",
       "      <td>0.981504</td>\n",
       "      <td>0.915539</td>\n",
       "    </tr>\n",
       "    <tr>\n",
       "      <th>3</th>\n",
       "      <td>knn2</td>\n",
       "      <td>0.989173</td>\n",
       "      <td>0.935088</td>\n",
       "    </tr>\n",
       "    <tr>\n",
       "      <th>4</th>\n",
       "      <td>cart</td>\n",
       "      <td>0.822807</td>\n",
       "      <td>0.822807</td>\n",
       "    </tr>\n",
       "    <tr>\n",
       "      <th>5</th>\n",
       "      <td>bayes</td>\n",
       "      <td>0.923509</td>\n",
       "      <td>0.875940</td>\n",
       "    </tr>\n",
       "  </tbody>\n",
       "</table>\n",
       "</div>"
      ],
      "text/plain": [
       "   model       auc  balanced accuracy\n",
       "0    xgb  0.955689           0.885965\n",
       "1   xgb2  0.887619           0.833083\n",
       "2    knn  0.981504           0.915539\n",
       "3   knn2  0.989173           0.935088\n",
       "4   cart  0.822807           0.822807\n",
       "5  bayes  0.923509           0.875940"
      ]
     },
     "execution_count": 22,
     "metadata": {},
     "output_type": "execute_result"
    }
   ],
   "source": [
    "get_diagnostics(*models.items(), y_true = y_val.target.values.ravel(), X = X_val)"
   ]
  },
  {
   "cell_type": "code",
   "execution_count": null,
   "id": "23d5851a",
   "metadata": {},
   "outputs": [],
   "source": []
  }
 ],
 "metadata": {
  "kernelspec": {
   "display_name": "Python 3 (ipykernel)",
   "language": "python",
   "name": "python3"
  },
  "language_info": {
   "codemirror_mode": {
    "name": "ipython",
    "version": 3
   },
   "file_extension": ".py",
   "mimetype": "text/x-python",
   "name": "python",
   "nbconvert_exporter": "python",
   "pygments_lexer": "ipython3",
   "version": "3.9.7"
  }
 },
 "nbformat": 4,
 "nbformat_minor": 5
}
