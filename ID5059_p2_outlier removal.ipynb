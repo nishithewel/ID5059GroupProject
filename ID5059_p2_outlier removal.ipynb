{
  "cells": [
    {
      "cell_type": "markdown",
      "metadata": {
        "id": "view-in-github",
        "colab_type": "text"
      },
      "source": [
        "<a href=\"https://colab.research.google.com/github/nishithewel/ID5059GroupProject/blob/yao_1/ID5059_p2_outlier%20removal.ipynb\" target=\"_parent\"><img src=\"https://colab.research.google.com/assets/colab-badge.svg\" alt=\"Open In Colab\"/></a>"
      ]
    },
    {
      "cell_type": "markdown",
      "id": "91f87cd9",
      "metadata": {
        "id": "91f87cd9"
      },
      "source": [
        "# Load pandas, matplotlib"
      ]
    },
    {
      "cell_type": "code",
      "execution_count": null,
      "id": "ccc890f9",
      "metadata": {
        "id": "ccc890f9"
      },
      "outputs": [],
      "source": [
        "import pandas as pd\n",
        "import matplotlib.pyplot as plt"
      ]
    },
    {
      "cell_type": "markdown",
      "id": "fa58b1f8",
      "metadata": {
        "id": "fa58b1f8"
      },
      "source": [
        "# Load dataset & description"
      ]
    },
    {
      "cell_type": "code",
      "execution_count": null,
      "id": "a599bf52",
      "metadata": {
        "id": "a599bf52",
        "outputId": "e463c5c4-d4cf-418d-cfa7-cd15ed8223bf"
      },
      "outputs": [
        {
          "data": {
            "text/plain": [
              "(590540, 394)"
            ]
          },
          "execution_count": 60,
          "metadata": {},
          "output_type": "execute_result"
        }
      ],
      "source": [
        "#Load train_transaction.csv\n",
        "\n",
        "trans_train = pd.read_csv('train_transaction.csv')\n",
        "trans_train.shape"
      ]
    },
    {
      "cell_type": "code",
      "execution_count": null,
      "id": "a427cdba",
      "metadata": {
        "id": "a427cdba",
        "outputId": "6c5e07bb-9eb9-4bec-bb00-6e515977310b"
      },
      "outputs": [
        {
          "data": {
            "text/html": [
              "<div>\n",
              "<style scoped>\n",
              "    .dataframe tbody tr th:only-of-type {\n",
              "        vertical-align: middle;\n",
              "    }\n",
              "\n",
              "    .dataframe tbody tr th {\n",
              "        vertical-align: top;\n",
              "    }\n",
              "\n",
              "    .dataframe thead th {\n",
              "        text-align: right;\n",
              "    }\n",
              "</style>\n",
              "<table border=\"1\" class=\"dataframe\">\n",
              "  <thead>\n",
              "    <tr style=\"text-align: right;\">\n",
              "      <th></th>\n",
              "      <th>TransactionID</th>\n",
              "      <th>isFraud</th>\n",
              "      <th>TransactionDT</th>\n",
              "      <th>TransactionAmt</th>\n",
              "      <th>card1</th>\n",
              "      <th>card2</th>\n",
              "      <th>card3</th>\n",
              "      <th>card5</th>\n",
              "      <th>addr1</th>\n",
              "      <th>addr2</th>\n",
              "      <th>...</th>\n",
              "      <th>V330</th>\n",
              "      <th>V331</th>\n",
              "      <th>V332</th>\n",
              "      <th>V333</th>\n",
              "      <th>V334</th>\n",
              "      <th>V335</th>\n",
              "      <th>V336</th>\n",
              "      <th>V337</th>\n",
              "      <th>V338</th>\n",
              "      <th>V339</th>\n",
              "    </tr>\n",
              "  </thead>\n",
              "  <tbody>\n",
              "    <tr>\n",
              "      <th>count</th>\n",
              "      <td>5.905400e+05</td>\n",
              "      <td>590540.000000</td>\n",
              "      <td>5.905400e+05</td>\n",
              "      <td>590540.000000</td>\n",
              "      <td>590540.000000</td>\n",
              "      <td>581607.000000</td>\n",
              "      <td>588975.000000</td>\n",
              "      <td>586281.000000</td>\n",
              "      <td>524834.000000</td>\n",
              "      <td>524834.000000</td>\n",
              "      <td>...</td>\n",
              "      <td>82351.000000</td>\n",
              "      <td>82351.000000</td>\n",
              "      <td>82351.000000</td>\n",
              "      <td>82351.000000</td>\n",
              "      <td>82351.000000</td>\n",
              "      <td>82351.00000</td>\n",
              "      <td>82351.000000</td>\n",
              "      <td>82351.000000</td>\n",
              "      <td>82351.000000</td>\n",
              "      <td>82351.000000</td>\n",
              "    </tr>\n",
              "    <tr>\n",
              "      <th>mean</th>\n",
              "      <td>3.282270e+06</td>\n",
              "      <td>0.034990</td>\n",
              "      <td>7.372311e+06</td>\n",
              "      <td>135.027176</td>\n",
              "      <td>9898.734658</td>\n",
              "      <td>362.555488</td>\n",
              "      <td>153.194925</td>\n",
              "      <td>199.278897</td>\n",
              "      <td>290.733794</td>\n",
              "      <td>86.800630</td>\n",
              "      <td>...</td>\n",
              "      <td>0.775874</td>\n",
              "      <td>721.741883</td>\n",
              "      <td>1375.783644</td>\n",
              "      <td>1014.622782</td>\n",
              "      <td>9.807015</td>\n",
              "      <td>59.16455</td>\n",
              "      <td>28.530903</td>\n",
              "      <td>55.352422</td>\n",
              "      <td>151.160542</td>\n",
              "      <td>100.700882</td>\n",
              "    </tr>\n",
              "    <tr>\n",
              "      <th>std</th>\n",
              "      <td>1.704744e+05</td>\n",
              "      <td>0.183755</td>\n",
              "      <td>4.617224e+06</td>\n",
              "      <td>239.162522</td>\n",
              "      <td>4901.170153</td>\n",
              "      <td>157.793246</td>\n",
              "      <td>11.336444</td>\n",
              "      <td>41.244453</td>\n",
              "      <td>101.741072</td>\n",
              "      <td>2.690623</td>\n",
              "      <td>...</td>\n",
              "      <td>4.727971</td>\n",
              "      <td>6217.223583</td>\n",
              "      <td>11169.275702</td>\n",
              "      <td>7955.735482</td>\n",
              "      <td>243.861391</td>\n",
              "      <td>387.62948</td>\n",
              "      <td>274.576920</td>\n",
              "      <td>668.486833</td>\n",
              "      <td>1095.034387</td>\n",
              "      <td>814.946722</td>\n",
              "    </tr>\n",
              "    <tr>\n",
              "      <th>min</th>\n",
              "      <td>2.987000e+06</td>\n",
              "      <td>0.000000</td>\n",
              "      <td>8.640000e+04</td>\n",
              "      <td>0.251000</td>\n",
              "      <td>1000.000000</td>\n",
              "      <td>100.000000</td>\n",
              "      <td>100.000000</td>\n",
              "      <td>100.000000</td>\n",
              "      <td>100.000000</td>\n",
              "      <td>10.000000</td>\n",
              "      <td>...</td>\n",
              "      <td>0.000000</td>\n",
              "      <td>0.000000</td>\n",
              "      <td>0.000000</td>\n",
              "      <td>0.000000</td>\n",
              "      <td>0.000000</td>\n",
              "      <td>0.00000</td>\n",
              "      <td>0.000000</td>\n",
              "      <td>0.000000</td>\n",
              "      <td>0.000000</td>\n",
              "      <td>0.000000</td>\n",
              "    </tr>\n",
              "    <tr>\n",
              "      <th>25%</th>\n",
              "      <td>3.134635e+06</td>\n",
              "      <td>0.000000</td>\n",
              "      <td>3.027058e+06</td>\n",
              "      <td>43.321000</td>\n",
              "      <td>6019.000000</td>\n",
              "      <td>214.000000</td>\n",
              "      <td>150.000000</td>\n",
              "      <td>166.000000</td>\n",
              "      <td>204.000000</td>\n",
              "      <td>87.000000</td>\n",
              "      <td>...</td>\n",
              "      <td>0.000000</td>\n",
              "      <td>0.000000</td>\n",
              "      <td>0.000000</td>\n",
              "      <td>0.000000</td>\n",
              "      <td>0.000000</td>\n",
              "      <td>0.00000</td>\n",
              "      <td>0.000000</td>\n",
              "      <td>0.000000</td>\n",
              "      <td>0.000000</td>\n",
              "      <td>0.000000</td>\n",
              "    </tr>\n",
              "    <tr>\n",
              "      <th>50%</th>\n",
              "      <td>3.282270e+06</td>\n",
              "      <td>0.000000</td>\n",
              "      <td>7.306528e+06</td>\n",
              "      <td>68.769000</td>\n",
              "      <td>9678.000000</td>\n",
              "      <td>361.000000</td>\n",
              "      <td>150.000000</td>\n",
              "      <td>226.000000</td>\n",
              "      <td>299.000000</td>\n",
              "      <td>87.000000</td>\n",
              "      <td>...</td>\n",
              "      <td>0.000000</td>\n",
              "      <td>0.000000</td>\n",
              "      <td>0.000000</td>\n",
              "      <td>0.000000</td>\n",
              "      <td>0.000000</td>\n",
              "      <td>0.00000</td>\n",
              "      <td>0.000000</td>\n",
              "      <td>0.000000</td>\n",
              "      <td>0.000000</td>\n",
              "      <td>0.000000</td>\n",
              "    </tr>\n",
              "    <tr>\n",
              "      <th>75%</th>\n",
              "      <td>3.429904e+06</td>\n",
              "      <td>0.000000</td>\n",
              "      <td>1.124662e+07</td>\n",
              "      <td>125.000000</td>\n",
              "      <td>14184.000000</td>\n",
              "      <td>512.000000</td>\n",
              "      <td>150.000000</td>\n",
              "      <td>226.000000</td>\n",
              "      <td>330.000000</td>\n",
              "      <td>87.000000</td>\n",
              "      <td>...</td>\n",
              "      <td>0.000000</td>\n",
              "      <td>0.000000</td>\n",
              "      <td>25.000000</td>\n",
              "      <td>0.000000</td>\n",
              "      <td>0.000000</td>\n",
              "      <td>0.00000</td>\n",
              "      <td>0.000000</td>\n",
              "      <td>0.000000</td>\n",
              "      <td>0.000000</td>\n",
              "      <td>0.000000</td>\n",
              "    </tr>\n",
              "    <tr>\n",
              "      <th>max</th>\n",
              "      <td>3.577539e+06</td>\n",
              "      <td>1.000000</td>\n",
              "      <td>1.581113e+07</td>\n",
              "      <td>31937.391000</td>\n",
              "      <td>18396.000000</td>\n",
              "      <td>600.000000</td>\n",
              "      <td>231.000000</td>\n",
              "      <td>237.000000</td>\n",
              "      <td>540.000000</td>\n",
              "      <td>102.000000</td>\n",
              "      <td>...</td>\n",
              "      <td>55.000000</td>\n",
              "      <td>160000.000000</td>\n",
              "      <td>160000.000000</td>\n",
              "      <td>160000.000000</td>\n",
              "      <td>55125.000000</td>\n",
              "      <td>55125.00000</td>\n",
              "      <td>55125.000000</td>\n",
              "      <td>104060.000000</td>\n",
              "      <td>104060.000000</td>\n",
              "      <td>104060.000000</td>\n",
              "    </tr>\n",
              "  </tbody>\n",
              "</table>\n",
              "<p>8 rows × 380 columns</p>\n",
              "</div>"
            ],
            "text/plain": [
              "       TransactionID        isFraud  TransactionDT  TransactionAmt  \\\n",
              "count   5.905400e+05  590540.000000   5.905400e+05   590540.000000   \n",
              "mean    3.282270e+06       0.034990   7.372311e+06      135.027176   \n",
              "std     1.704744e+05       0.183755   4.617224e+06      239.162522   \n",
              "min     2.987000e+06       0.000000   8.640000e+04        0.251000   \n",
              "25%     3.134635e+06       0.000000   3.027058e+06       43.321000   \n",
              "50%     3.282270e+06       0.000000   7.306528e+06       68.769000   \n",
              "75%     3.429904e+06       0.000000   1.124662e+07      125.000000   \n",
              "max     3.577539e+06       1.000000   1.581113e+07    31937.391000   \n",
              "\n",
              "               card1          card2          card3          card5  \\\n",
              "count  590540.000000  581607.000000  588975.000000  586281.000000   \n",
              "mean     9898.734658     362.555488     153.194925     199.278897   \n",
              "std      4901.170153     157.793246      11.336444      41.244453   \n",
              "min      1000.000000     100.000000     100.000000     100.000000   \n",
              "25%      6019.000000     214.000000     150.000000     166.000000   \n",
              "50%      9678.000000     361.000000     150.000000     226.000000   \n",
              "75%     14184.000000     512.000000     150.000000     226.000000   \n",
              "max     18396.000000     600.000000     231.000000     237.000000   \n",
              "\n",
              "               addr1          addr2  ...          V330           V331  \\\n",
              "count  524834.000000  524834.000000  ...  82351.000000   82351.000000   \n",
              "mean      290.733794      86.800630  ...      0.775874     721.741883   \n",
              "std       101.741072       2.690623  ...      4.727971    6217.223583   \n",
              "min       100.000000      10.000000  ...      0.000000       0.000000   \n",
              "25%       204.000000      87.000000  ...      0.000000       0.000000   \n",
              "50%       299.000000      87.000000  ...      0.000000       0.000000   \n",
              "75%       330.000000      87.000000  ...      0.000000       0.000000   \n",
              "max       540.000000     102.000000  ...     55.000000  160000.000000   \n",
              "\n",
              "                V332           V333          V334         V335          V336  \\\n",
              "count   82351.000000   82351.000000  82351.000000  82351.00000  82351.000000   \n",
              "mean     1375.783644    1014.622782      9.807015     59.16455     28.530903   \n",
              "std     11169.275702    7955.735482    243.861391    387.62948    274.576920   \n",
              "min         0.000000       0.000000      0.000000      0.00000      0.000000   \n",
              "25%         0.000000       0.000000      0.000000      0.00000      0.000000   \n",
              "50%         0.000000       0.000000      0.000000      0.00000      0.000000   \n",
              "75%        25.000000       0.000000      0.000000      0.00000      0.000000   \n",
              "max    160000.000000  160000.000000  55125.000000  55125.00000  55125.000000   \n",
              "\n",
              "                V337           V338           V339  \n",
              "count   82351.000000   82351.000000   82351.000000  \n",
              "mean       55.352422     151.160542     100.700882  \n",
              "std       668.486833    1095.034387     814.946722  \n",
              "min         0.000000       0.000000       0.000000  \n",
              "25%         0.000000       0.000000       0.000000  \n",
              "50%         0.000000       0.000000       0.000000  \n",
              "75%         0.000000       0.000000       0.000000  \n",
              "max    104060.000000  104060.000000  104060.000000  \n",
              "\n",
              "[8 rows x 380 columns]"
            ]
          },
          "execution_count": 50,
          "metadata": {},
          "output_type": "execute_result"
        }
      ],
      "source": [
        "trans_train.describe()"
      ]
    },
    {
      "cell_type": "markdown",
      "id": "2d9cef46",
      "metadata": {
        "id": "2d9cef46"
      },
      "source": [
        "# Boxplot & delete outliers"
      ]
    },
    {
      "cell_type": "code",
      "execution_count": null,
      "id": "1c65a67b",
      "metadata": {
        "id": "1c65a67b"
      },
      "outputs": [],
      "source": [
        "#Define a function called \"plot_boxplot\"\n",
        "\n",
        "def plot_boxplot(df, feature):\n",
        "    df.boxplot(column=[feature])\n",
        "    plt.grid(False)\n",
        "    plt.show()"
      ]
    },
    {
      "cell_type": "code",
      "execution_count": null,
      "id": "8d6974e8",
      "metadata": {
        "id": "8d6974e8",
        "outputId": "889786b8-4348-4cc5-b445-e7630eab0b27"
      },
      "outputs": [
        {
          "data": {
            "image/png": "[encoded data removed]",
            "text/plain": [
              "<Figure size 432x288 with 1 Axes>"
            ]
          },
          "metadata": {
            "needs_background": "light"
          },
          "output_type": "display_data"
        }
      ],
      "source": [
        "#Identify outliers for \"TransactionAmt\"\n",
        "\n",
        "plot_boxplot(trans_train, \"TransactionAmt\")"
      ]
    },
    {
      "cell_type": "code",
      "execution_count": null,
      "id": "4e4f562d",
      "metadata": {
        "id": "4e4f562d"
      },
      "outputs": [],
      "source": [
        "#Create a function that returns a list of outliers\n",
        "\n",
        "def outliers(df, feature):\n",
        "    Q1 = df[feature].quantile(0.25)\n",
        "    Q3 = df[feature].quantile(0.75)\n",
        "    IQR = Q3-Q1\n",
        "    \n",
        "    lower_bound = Q1 - 0.5 * IQR\n",
        "    upper_bound = Q3 + 0.5 * IQR\n",
        "    \n",
        "    ls = df.index[(df[feature]<lower_bound) | (df[feature]>upper_bound)]\n",
        "    \n",
        "    return ls"
      ]
    },
    {
      "cell_type": "code",
      "execution_count": null,
      "id": "f047c783",
      "metadata": {
        "id": "f047c783",
        "outputId": "7c04f3e7-9d76-42b4-e039-49358029ff77"
      },
      "outputs": [
        {
          "ename": "NameError",
          "evalue": "name 'trans_train' is not defined",
          "output_type": "error",
          "traceback": [
            "\u001b[1;31m---------------------------------------------------------------------------\u001b[0m",
            "\u001b[1;31mNameError\u001b[0m                                 Traceback (most recent call last)",
            "\u001b[1;32m~\\AppData\\Local\\Temp/ipykernel_9136/207094720.py\u001b[0m in \u001b[0;36m<module>\u001b[1;34m\u001b[0m\n\u001b[0;32m      2\u001b[0m \u001b[1;33m\u001b[0m\u001b[0m\n\u001b[0;32m      3\u001b[0m \u001b[0moutlier_list\u001b[0m \u001b[1;33m=\u001b[0m \u001b[1;33m[\u001b[0m\u001b[1;33m]\u001b[0m\u001b[1;33m\u001b[0m\u001b[1;33m\u001b[0m\u001b[0m\n\u001b[1;32m----> 4\u001b[1;33m \u001b[0moutlier_list\u001b[0m\u001b[1;33m.\u001b[0m\u001b[0mextend\u001b[0m\u001b[1;33m(\u001b[0m\u001b[0moutliers\u001b[0m\u001b[1;33m(\u001b[0m\u001b[0mtrans_train\u001b[0m\u001b[1;33m,\u001b[0m\u001b[1;34m\"TransactionAmt\"\u001b[0m\u001b[1;33m)\u001b[0m\u001b[1;33m)\u001b[0m\u001b[1;33m\u001b[0m\u001b[1;33m\u001b[0m\u001b[0m\n\u001b[0m\u001b[0;32m      5\u001b[0m \u001b[0mlen\u001b[0m\u001b[1;33m(\u001b[0m\u001b[0moutlier_list\u001b[0m\u001b[1;33m)\u001b[0m\u001b[1;33m\u001b[0m\u001b[1;33m\u001b[0m\u001b[0m\n",
            "\u001b[1;31mNameError\u001b[0m: name 'trans_train' is not defined"
          ]
        }
      ],
      "source": [
        "#Create an empty list to store the output indices from multiple columns\n",
        "\n",
        "outlier_list = []\n",
        "outlier_list.extend(outliers(trans_train,\"TransactionAmt\"))\n",
        "len(outlier_list)"
      ]
    },
    {
      "cell_type": "code",
      "execution_count": null,
      "id": "ecc2278c",
      "metadata": {
        "id": "ecc2278c"
      },
      "outputs": [],
      "source": [
        "#Define a function to remove the outliers\n",
        "\n",
        "def remove(df, ls):\n",
        "    ls = sorted(set(ls))\n",
        "    df = df.drop(ls)\n",
        "    return df"
      ]
    },
    {
      "cell_type": "code",
      "execution_count": null,
      "id": "3b9820f7",
      "metadata": {
        "id": "3b9820f7",
        "outputId": "48e3d695-a99a-4741-bb91-f8d0206fbeca"
      },
      "outputs": [
        {
          "data": {
            "text/html": [
              "<div>\n",
              "<style scoped>\n",
              "    .dataframe tbody tr th:only-of-type {\n",
              "        vertical-align: middle;\n",
              "    }\n",
              "\n",
              "    .dataframe tbody tr th {\n",
              "        vertical-align: top;\n",
              "    }\n",
              "\n",
              "    .dataframe thead th {\n",
              "        text-align: right;\n",
              "    }\n",
              "</style>\n",
              "<table border=\"1\" class=\"dataframe\">\n",
              "  <thead>\n",
              "    <tr style=\"text-align: right;\">\n",
              "      <th></th>\n",
              "      <th>TransactionID</th>\n",
              "      <th>isFraud</th>\n",
              "      <th>TransactionDT</th>\n",
              "      <th>TransactionAmt</th>\n",
              "      <th>ProductCD</th>\n",
              "      <th>card1</th>\n",
              "      <th>card2</th>\n",
              "      <th>card3</th>\n",
              "      <th>card4</th>\n",
              "      <th>card5</th>\n",
              "      <th>...</th>\n",
              "      <th>V330</th>\n",
              "      <th>V331</th>\n",
              "      <th>V332</th>\n",
              "      <th>V333</th>\n",
              "      <th>V334</th>\n",
              "      <th>V335</th>\n",
              "      <th>V336</th>\n",
              "      <th>V337</th>\n",
              "      <th>V338</th>\n",
              "      <th>V339</th>\n",
              "    </tr>\n",
              "  </thead>\n",
              "  <tbody>\n",
              "    <tr>\n",
              "      <th>0</th>\n",
              "      <td>2987000</td>\n",
              "      <td>0</td>\n",
              "      <td>86400</td>\n",
              "      <td>68.50</td>\n",
              "      <td>W</td>\n",
              "      <td>13926</td>\n",
              "      <td>NaN</td>\n",
              "      <td>150.0</td>\n",
              "      <td>discover</td>\n",
              "      <td>142.0</td>\n",
              "      <td>...</td>\n",
              "      <td>NaN</td>\n",
              "      <td>NaN</td>\n",
              "      <td>NaN</td>\n",
              "      <td>NaN</td>\n",
              "      <td>NaN</td>\n",
              "      <td>NaN</td>\n",
              "      <td>NaN</td>\n",
              "      <td>NaN</td>\n",
              "      <td>NaN</td>\n",
              "      <td>NaN</td>\n",
              "    </tr>\n",
              "    <tr>\n",
              "      <th>1</th>\n",
              "      <td>2987001</td>\n",
              "      <td>0</td>\n",
              "      <td>86401</td>\n",
              "      <td>29.00</td>\n",
              "      <td>W</td>\n",
              "      <td>2755</td>\n",
              "      <td>404.0</td>\n",
              "      <td>150.0</td>\n",
              "      <td>mastercard</td>\n",
              "      <td>102.0</td>\n",
              "      <td>...</td>\n",
              "      <td>NaN</td>\n",
              "      <td>NaN</td>\n",
              "      <td>NaN</td>\n",
              "      <td>NaN</td>\n",
              "      <td>NaN</td>\n",
              "      <td>NaN</td>\n",
              "      <td>NaN</td>\n",
              "      <td>NaN</td>\n",
              "      <td>NaN</td>\n",
              "      <td>NaN</td>\n",
              "    </tr>\n",
              "    <tr>\n",
              "      <th>2</th>\n",
              "      <td>2987002</td>\n",
              "      <td>0</td>\n",
              "      <td>86469</td>\n",
              "      <td>59.00</td>\n",
              "      <td>W</td>\n",
              "      <td>4663</td>\n",
              "      <td>490.0</td>\n",
              "      <td>150.0</td>\n",
              "      <td>visa</td>\n",
              "      <td>166.0</td>\n",
              "      <td>...</td>\n",
              "      <td>NaN</td>\n",
              "      <td>NaN</td>\n",
              "      <td>NaN</td>\n",
              "      <td>NaN</td>\n",
              "      <td>NaN</td>\n",
              "      <td>NaN</td>\n",
              "      <td>NaN</td>\n",
              "      <td>NaN</td>\n",
              "      <td>NaN</td>\n",
              "      <td>NaN</td>\n",
              "    </tr>\n",
              "    <tr>\n",
              "      <th>3</th>\n",
              "      <td>2987003</td>\n",
              "      <td>0</td>\n",
              "      <td>86499</td>\n",
              "      <td>50.00</td>\n",
              "      <td>W</td>\n",
              "      <td>18132</td>\n",
              "      <td>567.0</td>\n",
              "      <td>150.0</td>\n",
              "      <td>mastercard</td>\n",
              "      <td>117.0</td>\n",
              "      <td>...</td>\n",
              "      <td>NaN</td>\n",
              "      <td>NaN</td>\n",
              "      <td>NaN</td>\n",
              "      <td>NaN</td>\n",
              "      <td>NaN</td>\n",
              "      <td>NaN</td>\n",
              "      <td>NaN</td>\n",
              "      <td>NaN</td>\n",
              "      <td>NaN</td>\n",
              "      <td>NaN</td>\n",
              "    </tr>\n",
              "    <tr>\n",
              "      <th>4</th>\n",
              "      <td>2987004</td>\n",
              "      <td>0</td>\n",
              "      <td>86506</td>\n",
              "      <td>50.00</td>\n",
              "      <td>H</td>\n",
              "      <td>4497</td>\n",
              "      <td>514.0</td>\n",
              "      <td>150.0</td>\n",
              "      <td>mastercard</td>\n",
              "      <td>102.0</td>\n",
              "      <td>...</td>\n",
              "      <td>0.0</td>\n",
              "      <td>0.0</td>\n",
              "      <td>0.0</td>\n",
              "      <td>0.0</td>\n",
              "      <td>0.0</td>\n",
              "      <td>0.0</td>\n",
              "      <td>0.0</td>\n",
              "      <td>0.0</td>\n",
              "      <td>0.0</td>\n",
              "      <td>0.0</td>\n",
              "    </tr>\n",
              "    <tr>\n",
              "      <th>...</th>\n",
              "      <td>...</td>\n",
              "      <td>...</td>\n",
              "      <td>...</td>\n",
              "      <td>...</td>\n",
              "      <td>...</td>\n",
              "      <td>...</td>\n",
              "      <td>...</td>\n",
              "      <td>...</td>\n",
              "      <td>...</td>\n",
              "      <td>...</td>\n",
              "      <td>...</td>\n",
              "      <td>...</td>\n",
              "      <td>...</td>\n",
              "      <td>...</td>\n",
              "      <td>...</td>\n",
              "      <td>...</td>\n",
              "      <td>...</td>\n",
              "      <td>...</td>\n",
              "      <td>...</td>\n",
              "      <td>...</td>\n",
              "      <td>...</td>\n",
              "    </tr>\n",
              "    <tr>\n",
              "      <th>590535</th>\n",
              "      <td>3577535</td>\n",
              "      <td>0</td>\n",
              "      <td>15811047</td>\n",
              "      <td>49.00</td>\n",
              "      <td>W</td>\n",
              "      <td>6550</td>\n",
              "      <td>NaN</td>\n",
              "      <td>150.0</td>\n",
              "      <td>visa</td>\n",
              "      <td>226.0</td>\n",
              "      <td>...</td>\n",
              "      <td>NaN</td>\n",
              "      <td>NaN</td>\n",
              "      <td>NaN</td>\n",
              "      <td>NaN</td>\n",
              "      <td>NaN</td>\n",
              "      <td>NaN</td>\n",
              "      <td>NaN</td>\n",
              "      <td>NaN</td>\n",
              "      <td>NaN</td>\n",
              "      <td>NaN</td>\n",
              "    </tr>\n",
              "    <tr>\n",
              "      <th>590536</th>\n",
              "      <td>3577536</td>\n",
              "      <td>0</td>\n",
              "      <td>15811049</td>\n",
              "      <td>39.50</td>\n",
              "      <td>W</td>\n",
              "      <td>10444</td>\n",
              "      <td>225.0</td>\n",
              "      <td>150.0</td>\n",
              "      <td>mastercard</td>\n",
              "      <td>224.0</td>\n",
              "      <td>...</td>\n",
              "      <td>NaN</td>\n",
              "      <td>NaN</td>\n",
              "      <td>NaN</td>\n",
              "      <td>NaN</td>\n",
              "      <td>NaN</td>\n",
              "      <td>NaN</td>\n",
              "      <td>NaN</td>\n",
              "      <td>NaN</td>\n",
              "      <td>NaN</td>\n",
              "      <td>NaN</td>\n",
              "    </tr>\n",
              "    <tr>\n",
              "      <th>590537</th>\n",
              "      <td>3577537</td>\n",
              "      <td>0</td>\n",
              "      <td>15811079</td>\n",
              "      <td>30.95</td>\n",
              "      <td>W</td>\n",
              "      <td>12037</td>\n",
              "      <td>595.0</td>\n",
              "      <td>150.0</td>\n",
              "      <td>mastercard</td>\n",
              "      <td>224.0</td>\n",
              "      <td>...</td>\n",
              "      <td>NaN</td>\n",
              "      <td>NaN</td>\n",
              "      <td>NaN</td>\n",
              "      <td>NaN</td>\n",
              "      <td>NaN</td>\n",
              "      <td>NaN</td>\n",
              "      <td>NaN</td>\n",
              "      <td>NaN</td>\n",
              "      <td>NaN</td>\n",
              "      <td>NaN</td>\n",
              "    </tr>\n",
              "    <tr>\n",
              "      <th>590538</th>\n",
              "      <td>3577538</td>\n",
              "      <td>0</td>\n",
              "      <td>15811088</td>\n",
              "      <td>117.00</td>\n",
              "      <td>W</td>\n",
              "      <td>7826</td>\n",
              "      <td>481.0</td>\n",
              "      <td>150.0</td>\n",
              "      <td>mastercard</td>\n",
              "      <td>224.0</td>\n",
              "      <td>...</td>\n",
              "      <td>NaN</td>\n",
              "      <td>NaN</td>\n",
              "      <td>NaN</td>\n",
              "      <td>NaN</td>\n",
              "      <td>NaN</td>\n",
              "      <td>NaN</td>\n",
              "      <td>NaN</td>\n",
              "      <td>NaN</td>\n",
              "      <td>NaN</td>\n",
              "      <td>NaN</td>\n",
              "    </tr>\n",
              "    <tr>\n",
              "      <th>590539</th>\n",
              "      <td>3577539</td>\n",
              "      <td>0</td>\n",
              "      <td>15811131</td>\n",
              "      <td>279.95</td>\n",
              "      <td>W</td>\n",
              "      <td>15066</td>\n",
              "      <td>170.0</td>\n",
              "      <td>150.0</td>\n",
              "      <td>mastercard</td>\n",
              "      <td>102.0</td>\n",
              "      <td>...</td>\n",
              "      <td>NaN</td>\n",
              "      <td>NaN</td>\n",
              "      <td>NaN</td>\n",
              "      <td>NaN</td>\n",
              "      <td>NaN</td>\n",
              "      <td>NaN</td>\n",
              "      <td>NaN</td>\n",
              "      <td>NaN</td>\n",
              "      <td>NaN</td>\n",
              "      <td>NaN</td>\n",
              "    </tr>\n",
              "  </tbody>\n",
              "</table>\n",
              "<p>590408 rows × 394 columns</p>\n",
              "</div>"
            ],
            "text/plain": [
              "        TransactionID  isFraud  TransactionDT  TransactionAmt ProductCD  \\\n",
              "0             2987000        0          86400           68.50         W   \n",
              "1             2987001        0          86401           29.00         W   \n",
              "2             2987002        0          86469           59.00         W   \n",
              "3             2987003        0          86499           50.00         W   \n",
              "4             2987004        0          86506           50.00         H   \n",
              "...               ...      ...            ...             ...       ...   \n",
              "590535        3577535        0       15811047           49.00         W   \n",
              "590536        3577536        0       15811049           39.50         W   \n",
              "590537        3577537        0       15811079           30.95         W   \n",
              "590538        3577538        0       15811088          117.00         W   \n",
              "590539        3577539        0       15811131          279.95         W   \n",
              "\n",
              "        card1  card2  card3       card4  card5  ... V330  V331  V332  V333  \\\n",
              "0       13926    NaN  150.0    discover  142.0  ...  NaN   NaN   NaN   NaN   \n",
              "1        2755  404.0  150.0  mastercard  102.0  ...  NaN   NaN   NaN   NaN   \n",
              "2        4663  490.0  150.0        visa  166.0  ...  NaN   NaN   NaN   NaN   \n",
              "3       18132  567.0  150.0  mastercard  117.0  ...  NaN   NaN   NaN   NaN   \n",
              "4        4497  514.0  150.0  mastercard  102.0  ...  0.0   0.0   0.0   0.0   \n",
              "...       ...    ...    ...         ...    ...  ...  ...   ...   ...   ...   \n",
              "590535   6550    NaN  150.0        visa  226.0  ...  NaN   NaN   NaN   NaN   \n",
              "590536  10444  225.0  150.0  mastercard  224.0  ...  NaN   NaN   NaN   NaN   \n",
              "590537  12037  595.0  150.0  mastercard  224.0  ...  NaN   NaN   NaN   NaN   \n",
              "590538   7826  481.0  150.0  mastercard  224.0  ...  NaN   NaN   NaN   NaN   \n",
              "590539  15066  170.0  150.0  mastercard  102.0  ...  NaN   NaN   NaN   NaN   \n",
              "\n",
              "        V334 V335 V336  V337  V338  V339  \n",
              "0        NaN  NaN  NaN   NaN   NaN   NaN  \n",
              "1        NaN  NaN  NaN   NaN   NaN   NaN  \n",
              "2        NaN  NaN  NaN   NaN   NaN   NaN  \n",
              "3        NaN  NaN  NaN   NaN   NaN   NaN  \n",
              "4        0.0  0.0  0.0   0.0   0.0   0.0  \n",
              "...      ...  ...  ...   ...   ...   ...  \n",
              "590535   NaN  NaN  NaN   NaN   NaN   NaN  \n",
              "590536   NaN  NaN  NaN   NaN   NaN   NaN  \n",
              "590537   NaN  NaN  NaN   NaN   NaN   NaN  \n",
              "590538   NaN  NaN  NaN   NaN   NaN   NaN  \n",
              "590539   NaN  NaN  NaN   NaN   NaN   NaN  \n",
              "\n",
              "[590408 rows x 394 columns]"
            ]
          },
          "execution_count": 81,
          "metadata": {},
          "output_type": "execute_result"
        }
      ],
      "source": [
        "clean_trans_train = remove(trans_train, outlier_list)\n",
        "clean_trans_train"
      ]
    },
    {
      "cell_type": "code",
      "execution_count": null,
      "id": "2520c263",
      "metadata": {
        "id": "2520c263",
        "outputId": "72d7469d-19aa-4367-a6f3-310966fe6c7b"
      },
      "outputs": [
        {
          "data": {
            "image/png": "[encoded data removed]",
            "text/plain": [
              "<Figure size 432x288 with 1 Axes>"
            ]
          },
          "metadata": {
            "needs_background": "light"
          },
          "output_type": "display_data"
        },
        {
          "data": {
            "image/png": "[encoded data removed]",
            "text/plain": [
              "<Figure size 432x288 with 1 Axes>"
            ]
          },
          "metadata": {
            "needs_background": "light"
          },
          "output_type": "display_data"
        },
        {
          "data": {
            "image/png": "[encoded data removed]",
            "text/plain": [
              "<Figure size 432x288 with 1 Axes>"
            ]
          },
          "metadata": {
            "needs_background": "light"
          },
          "output_type": "display_data"
        },
        {
          "data": {
            "image/png": "[encoded data removed]",
            "text/plain": [
              "<Figure size 432x288 with 1 Axes>"
            ]
          },
          "metadata": {
            "needs_background": "light"
          },
          "output_type": "display_data"
        },
        {
          "data": {
            "image/png": "[encoded data removed]",
            "text/plain": [
              "<Figure size 432x288 with 1 Axes>"
            ]
          },
          "metadata": {
            "needs_background": "light"
          },
          "output_type": "display_data"
        },
        {
          "data": {
            "image/png": "[encoded data removed]",
            "text/plain": [
              "<Figure size 432x288 with 1 Axes>"
            ]
          },
          "metadata": {
            "needs_background": "light"
          },
          "output_type": "display_data"
        },
        {
          "data": {
            "image/png": "[encoded data removed]",
            "text/plain": [
              "<Figure size 432x288 with 1 Axes>"
            ]
          },
          "metadata": {
            "needs_background": "light"
          },
          "output_type": "display_data"
        },
        {
          "data": {
            "image/png": "[encoded data removed]",
            "text/plain": [
              "<Figure size 432x288 with 1 Axes>"
            ]
          },
          "metadata": {
            "needs_background": "light"
          },
          "output_type": "display_data"
        },
        {
          "data": {
            "image/png": "[encoded data removed]",
            "text/plain": [
              "<Figure size 432x288 with 1 Axes>"
            ]
          },
          "metadata": {
            "needs_background": "light"
          },
          "output_type": "display_data"
        },
        {
          "data": {
            "image/png": "[encoded data removed]",
            "text/plain": [
              "<Figure size 432x288 with 1 Axes>"
            ]
          },
          "metadata": {
            "needs_background": "light"
          },
          "output_type": "display_data"
        },
        {
          "data": {
            "image/png": "[encoded data removed]",
            "text/plain": [
              "<Figure size 432x288 with 1 Axes>"
            ]
          },
          "metadata": {
            "needs_background": "light"
          },
          "output_type": "display_data"
        },
        {
          "data": {
            "image/png": "[encoded data removed]",
            "text/plain": [
              "<Figure size 432x288 with 1 Axes>"
            ]
          },
          "metadata": {
            "needs_background": "light"
          },
          "output_type": "display_data"
        },
        {
          "data": {
            "image/png": "[encoded data removed]",
            "text/plain": [
              "<Figure size 432x288 with 1 Axes>"
            ]
          },
          "metadata": {
            "needs_background": "light"
          },
          "output_type": "display_data"
        },
        {
          "data": {
            "image/png": "[encoded data removed]",
            "text/plain": [
              "<Figure size 432x288 with 1 Axes>"
            ]
          },
          "metadata": {
            "needs_background": "light"
          },
          "output_type": "display_data"
        },
        {
          "data": {
            "image/png": "[encoded data removed]",
            "text/plain": [
              "<Figure size 432x288 with 1 Axes>"
            ]
          },
          "metadata": {
            "needs_background": "light"
          },
          "output_type": "display_data"
        }
      ],
      "source": [
        "#Identify outliers for days(column D1-D15. If the period between transactions are too long, we assume the person might stop using the card or not really using the card)\n",
        "\n",
        "plot_boxplot(trans_train, \"D1\")\n",
        "plot_boxplot(trans_train, \"D2\")\n",
        "plot_boxplot(trans_train, \"D3\")\n",
        "plot_boxplot(trans_train, \"D4\")\n",
        "plot_boxplot(trans_train, \"D5\")\n",
        "plot_boxplot(trans_train, \"D6\")\n",
        "plot_boxplot(trans_train, \"D7\")\n",
        "plot_boxplot(trans_train, \"D8\")\n",
        "plot_boxplot(trans_train, \"D9\")\n",
        "plot_boxplot(trans_train, \"D10\")\n",
        "plot_boxplot(trans_train, \"D11\")\n",
        "plot_boxplot(trans_train, \"D12\")\n",
        "plot_boxplot(trans_train, \"D13\")\n",
        "plot_boxplot(trans_train, \"D14\")\n",
        "plot_boxplot(trans_train, \"D15\")"
      ]
    },
    {
      "cell_type": "code",
      "execution_count": null,
      "id": "1eafcfd0",
      "metadata": {
        "id": "1eafcfd0",
        "outputId": "01e49114-97b2-4be2-82f6-d7117cd8f182"
      },
      "outputs": [
        {
          "data": {
            "text/plain": [
              "(182208, 394)"
            ]
          },
          "execution_count": 113,
          "metadata": {},
          "output_type": "execute_result"
        }
      ],
      "source": [
        "#Delete day columns (D1-D15) since we assume in-between transaction period should not be too long\n",
        "\n",
        "outlier_list_days = []\n",
        "for feature in [\"D1\",\"D2\",\"D3\",\"D4\",\"D5\",\"D6\",\"D7\",\"D8\",\"D9\",\"D10\",\"D11\",\"D12\",\"D13\",\"D14\",\"D15\"]:\n",
        "    outlier_list_days.extend(outliers(clean_trans_train,feature))\n",
        "\n",
        "clean_trans_train = remove(clean_trans_train, outlier_list_days)\n",
        "clean_trans_train.shape"
      ]
    },
    {
      "cell_type": "code",
      "execution_count": null,
      "id": "0f7b9b71",
      "metadata": {
        "id": "0f7b9b71",
        "outputId": "515b1e97-30ae-42b5-8992-0d5f3acd8db6"
      },
      "outputs": [
        {
          "data": {
            "image/png": "[encoded data removed]",
            "text/plain": [
              "<Figure size 432x288 with 1 Axes>"
            ]
          },
          "metadata": {
            "needs_background": "light"
          },
          "output_type": "display_data"
        }
      ],
      "source": [
        "plot_boxplot(clean_trans_train, \"D13\")"
      ]
    }
  ],
  "metadata": {
    "kernelspec": {
      "display_name": "Python 3 (ipykernel)",
      "language": "python",
      "name": "python3"
    },
    "language_info": {
      "codemirror_mode": {
        "name": "ipython",
        "version": 3
      },
      "file_extension": ".py",
      "mimetype": "text/x-python",
      "name": "python",
      "nbconvert_exporter": "python",
      "pygments_lexer": "ipython3",
      "version": "3.9.7"
    },
    "colab": {
      "name": "ID5059_p2_outlier removal.ipynb",
      "provenance": [],
      "include_colab_link": true
    }
  },
  "nbformat": 4,
  "nbformat_minor": 5
}