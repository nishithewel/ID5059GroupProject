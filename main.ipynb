{
  "cells": [
    {
      "cell_type": "markdown",
      "metadata": {
        "id": "view-in-github",
        "colab_type": "text"
      },
      "source": [
        "<a href=\"https://colab.research.google.com/github/nishithewel/ID5059GroupProject/blob/main/main.ipynb\" target=\"_parent\"><img src=\"https://colab.research.google.com/assets/colab-badge.svg\" alt=\"Open In Colab\"/></a>"
      ]
    },
    {
      "cell_type": "code",
      "source": [
        "!git clone https://github.com/nishithewel/ID5059GroupProject.git"
      ],
      "metadata": {
        "colab": {
          "base_uri": "https://localhost:8080/"
        },
        "id": "PaV8oqnO6kQW",
        "outputId": "92467f8d-1b95-4647-acb7-f43c0ee67b8a"
      },
      "execution_count": 1,
      "outputs": [
        {
          "output_type": "stream",
          "name": "stdout",
          "text": [
            "Cloning into 'ID5059GroupProject'...\n",
            "remote: Enumerating objects: 241, done.\u001b[K\n",
            "remote: Counting objects: 100% (241/241), done.\u001b[K\n",
            "remote: Compressing objects: 100% (191/191), done.\u001b[K\n",
            "remote: Total 241 (delta 134), reused 105 (delta 49), pack-reused 0\u001b[K\n",
            "Receiving objects: 100% (241/241), 14.49 MiB | 11.72 MiB/s, done.\n",
            "Resolving deltas: 100% (134/134), done.\n"
          ]
        }
      ]
    },
    {
      "cell_type": "code",
      "source": [
        "# import os \n",
        "# os.chdir('/content/ID5059GroupProject')\n",
        "# ! git pull"
      ],
      "metadata": {
        "id": "oDruvEAwl-X5",
        "colab": {
          "base_uri": "https://localhost:8080/"
        },
        "outputId": "d956bc15-37ea-47be-a32c-b05b9b89b322"
      },
      "execution_count": null,
      "outputs": [
        {
          "output_type": "stream",
          "name": "stdout",
          "text": [
            "Updating eb0aeac..79a49a7\n",
            "error: Your local changes to the following files would be overwritten by merge:\n",
            "\tutils/preprocess.py\n",
            "Please commit your changes or stash them before you merge.\n",
            "Aborting\n"
          ]
        }
      ]
    },
    {
      "cell_type": "markdown",
      "source": [
        "### Downloading the Data from kaggle."
      ],
      "metadata": {
        "id": "29l0EzjK5k2b"
      }
    },
    {
      "cell_type": "code",
      "execution_count": 2,
      "metadata": {
        "id": "9cR9JURfP6Gs",
        "colab": {
          "resources": {
            "http://localhost:8080/nbextensions/google.colab/files.js": {
              "data": "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",
              "ok": true,
              "headers": [
                [
                  "content-type",
                  "application/javascript"
                ]
              ],
              "status": 200,
              "status_text": ""
            }
          },
          "base_uri": "https://localhost:8080/",
          "height": 298
        },
        "outputId": "90acb8bb-1813-4d0d-e7a7-3b0f5fa3b218"
      },
      "outputs": [
        {
          "output_type": "display_data",
          "data": {
            "text/plain": [
              "<IPython.core.display.HTML object>"
            ],
            "text/html": [
              "\n",
              "     <input type=\"file\" id=\"files-e9554f92-caea-478c-968c-41f15c23f4e9\" name=\"files[]\" multiple disabled\n",
              "        style=\"border:none\" />\n",
              "     <output id=\"result-e9554f92-caea-478c-968c-41f15c23f4e9\">\n",
              "      Upload widget is only available when the cell has been executed in the\n",
              "      current browser session. Please rerun this cell to enable.\n",
              "      </output>\n",
              "      <script src=\"/nbextensions/google.colab/files.js\"></script> "
            ]
          },
          "metadata": {}
        },
        {
          "output_type": "stream",
          "name": "stdout",
          "text": [
            "Saving kaggle.json to kaggle.json\n",
            "total 16\n",
            "-rw------- 1 root root   66 Apr  8 17:08 kaggle.json\n",
            "drwx------ 1 root root 4096 Apr  8 17:08 ..\n",
            "drwxr-xr-x 2 root root 4096 Apr  8 17:08 .\n",
            "Downloading ieee-fraud-detection.zip to /content\n",
            " 91% 108M/118M [00:00<00:00, 208MB/s] \n",
            "100% 118M/118M [00:00<00:00, 147MB/s]\n",
            "Archive:  data/ieee-fraud-detection.zip\n",
            "  inflating: data/sample_submission.csv  \n",
            "  inflating: data/test_identity.csv  \n",
            "  inflating: data/test_transaction.csv  \n",
            "  inflating: data/train_identity.csv  \n",
            "  inflating: data/train_transaction.csv  \n"
          ]
        }
      ],
      "source": [
        "\n",
        "!pip install -q kaggle\n",
        "from google.colab import files\n",
        "files.upload()\n",
        "!rm -rf sample_data\n",
        "!mkdir  -p /root/.kaggle/\n",
        "!mv kaggle.json  /root/.kaggle/\n",
        "!chmod 600 /root/.kaggle/kaggle.json\n",
        "!ls -lart /root/.kaggle/\n",
        "!kaggle competitions download -c 'ieee-fraud-detection'\n",
        "!mkdir data\n",
        "!mv ieee-fraud-detection.zip data/\n",
        "!unzip data/ieee-fraud-detection.zip -d data/"
      ]
    },
    {
      "cell_type": "markdown",
      "metadata": {
        "id": "tPqFgUOESMBt"
      },
      "source": [
        "## Introduction to the Dataset\n",
        "\n",
        " - Vivesh "
      ]
    },
    {
      "cell_type": "markdown",
      "metadata": {
        "id": "lmzwh08RSizC"
      },
      "source": [
        "### Team Members\n",
        "- Nishithe Welandawe - naw4\n",
        "- Joseph Edwards - jde1\n",
        "- Anli Hu - 373\n",
        "- Yao-Ting Wang - ytw1\n",
        "-\n"
      ]
    },
    {
      "cell_type": "markdown",
      "metadata": {
        "id": "B1lBgJxYSZNQ"
      },
      "source": [
        "### Installs and Imports"
      ]
    },
    {
      "cell_type": "code",
      "execution_count": 3,
      "metadata": {
        "colab": {
          "base_uri": "https://localhost:8080/"
        },
        "id": "kLCJlNf8Hq4G",
        "outputId": "fbe4cb92-fcab-4e5b-8fb2-a25357d01855"
      },
      "outputs": [
        {
          "output_type": "stream",
          "name": "stdout",
          "text": [
            "Requirement already satisfied: imblearn in /usr/local/lib/python3.7/dist-packages (0.0)\n",
            "Requirement already satisfied: imbalanced-learn in /usr/local/lib/python3.7/dist-packages (from imblearn) (0.8.1)\n",
            "Requirement already satisfied: numpy>=1.13.3 in /usr/local/lib/python3.7/dist-packages (from imbalanced-learn->imblearn) (1.21.5)\n",
            "Requirement already satisfied: scipy>=0.19.1 in /usr/local/lib/python3.7/dist-packages (from imbalanced-learn->imblearn) (1.4.1)\n",
            "Requirement already satisfied: joblib>=0.11 in /usr/local/lib/python3.7/dist-packages (from imbalanced-learn->imblearn) (1.1.0)\n",
            "Requirement already satisfied: scikit-learn>=0.24 in /usr/local/lib/python3.7/dist-packages (from imbalanced-learn->imblearn) (1.0.2)\n",
            "Requirement already satisfied: threadpoolctl>=2.0.0 in /usr/local/lib/python3.7/dist-packages (from scikit-learn>=0.24->imbalanced-learn->imblearn) (3.1.0)\n"
          ]
        }
      ],
      "source": [
        "! pip install imblearn "
      ]
    },
    {
      "cell_type": "code",
      "execution_count": 4,
      "metadata": {
        "id": "5enJhawlOH1u"
      },
      "outputs": [],
      "source": [
        "import os\n",
        "\n",
        "import numpy as np \n",
        "import pandas as pd\n",
        "import matplotlib.pyplot as plt\n",
        "from google.colab import drive\n",
        "\n",
        "\n",
        "os.chdir('/content/ID5059GroupProject')\n",
        "from imblearn import over_sampling\n",
        "from utils.preprocess import preprocess\n",
        "from utils.reduce_memory import reduce_mem_usage\n",
        "from sklearn.model_selection import train_test_split\n",
        "from utils.model_stack import stack_models\n",
        "from random import sample\n"
      ]
    },
    {
      "cell_type": "markdown",
      "metadata": {
        "id": "2JitrODFSs8N"
      },
      "source": [
        "### Loading the dataset\n",
        "\n",
        "- Download the dataset from Kaggle and save it the GDrive session.\n",
        "- Due to the large size, to keep loading size down we optimize data types to reduce memory usage.\n",
        "- Merge the Transaction and Identity data set to create the 'Test' set.\n",
        "\n"
      ]
    },
    {
      "cell_type": "code",
      "execution_count": 6,
      "metadata": {
        "id": "AYkvgdPIS_HF",
        "colab": {
          "base_uri": "https://localhost:8080/"
        },
        "outputId": "003abc2f-815e-4c7c-f9e5-21747b618a77"
      },
      "outputs": [
        {
          "output_type": "stream",
          "name": "stdout",
          "text": [
            "Memory usage of dataframe is 1519.24 MB\n",
            "Memory usage after optimization is: 425.24 MB\n",
            "Decreased by 72.0%\n",
            "Memory usage of dataframe is 1775.15 MB\n",
            "Memory usage after optimization is: 487.16 MB\n",
            "Decreased by 72.6%\n"
          ]
        }
      ],
      "source": [
        "### You need to change these codes to load your dataset\n",
        "#if youre files are stored in google drive do this\n",
        "DRIVE_STORE = False\n",
        "DEBUG = True\n",
        "if DRIVE_STORE == True:\n",
        "  drive.mount('/content/drive') \n",
        "  root_dir = '/content/drive/MyDrive/Python/ID5059-GroupProject/ieee-fraud-detection/' #for nish\n",
        "  \n",
        "else:\n",
        "  root_dir = '/content/data/'\n",
        "os.chdir(root_dir)\n",
        "\n",
        "if DEBUG:\n",
        "  # test_iden = pd.read_csv(root_dir + 'test_identity.csv',nrows = 100)\n",
        "  # test_tran = pd.read_csv(root_dir +'test_transaction.csv',nrows = 100)\n",
        "  # train_iden = pd.read_csv(root_dir +'train_identity.csv',nrows = 100)\n",
        "  # train_tran = pd.read_csv(root_dir +'train_transaction.csv',nrows = 100)\n",
        "  test_iden = pd.read_csv(root_dir + 'test_identity.csv',)\n",
        "  test_tran = pd.read_csv(root_dir +'test_transaction.csv',)\n",
        "  train_iden = pd.read_csv(root_dir +'train_identity.csv',)\n",
        "  train_tran = pd.read_csv(root_dir +'train_transaction.csv',)\n",
        "\n",
        "test_tran = reduce_mem_usage(test_tran)\n",
        "train_tran = reduce_mem_usage(train_tran)  \n",
        "\n",
        "\n",
        "\n",
        "\n",
        "train = pd.merge(train_tran, train_iden, on = 'TransactionID', how = 'left')\n",
        "test = pd.merge(test_tran, test_iden, on = 'TransactionID', how = 'left')\n"
      ]
    },
    {
      "cell_type": "code",
      "source": [
        "test_ind = sample(range(len(train)),\n",
        "                        int(0.8*len(train))\n",
        "                        )\n",
        "#but we need a local test to run diagnostics as well\n",
        "local_test = train.iloc[test_ind]\n",
        "#drop rows from train\n",
        "train = train.drop(test_ind,axis = 0)\n",
        "\n",
        "del train_tran, train_iden, test_iden, test_tran"
      ],
      "metadata": {
        "id": "Jfth8_nJiVAV",
        "colab": {
          "base_uri": "https://localhost:8080/",
          "height": 381
        },
        "outputId": "3882b53c-1e88-4110-b07f-c634304a02da"
      },
      "execution_count": 8,
      "outputs": [
        {
          "output_type": "error",
          "ename": "KeyError",
          "evalue": "ignored",
          "traceback": [
            "\u001b[0;31m---------------------------------------------------------------------------\u001b[0m",
            "\u001b[0;31mKeyError\u001b[0m                                  Traceback (most recent call last)",
            "\u001b[0;32m<ipython-input-8-0f94cf23a661>\u001b[0m in \u001b[0;36m<module>\u001b[0;34m()\u001b[0m\n\u001b[1;32m      5\u001b[0m \u001b[0mlocal_test\u001b[0m \u001b[0;34m=\u001b[0m \u001b[0mtrain\u001b[0m\u001b[0;34m.\u001b[0m\u001b[0miloc\u001b[0m\u001b[0;34m[\u001b[0m\u001b[0mtest_ind\u001b[0m\u001b[0;34m]\u001b[0m\u001b[0;34m\u001b[0m\u001b[0;34m\u001b[0m\u001b[0m\n\u001b[1;32m      6\u001b[0m \u001b[0;31m#drop rows from train\u001b[0m\u001b[0;34m\u001b[0m\u001b[0;34m\u001b[0m\u001b[0;34m\u001b[0m\u001b[0m\n\u001b[0;32m----> 7\u001b[0;31m \u001b[0mtrain\u001b[0m \u001b[0;34m=\u001b[0m \u001b[0mtrain\u001b[0m\u001b[0;34m.\u001b[0m\u001b[0mdrop\u001b[0m\u001b[0;34m(\u001b[0m\u001b[0mtest_ind\u001b[0m\u001b[0;34m,\u001b[0m\u001b[0maxis\u001b[0m \u001b[0;34m=\u001b[0m \u001b[0;36m0\u001b[0m\u001b[0;34m)\u001b[0m\u001b[0;34m\u001b[0m\u001b[0;34m\u001b[0m\u001b[0m\n\u001b[0m\u001b[1;32m      8\u001b[0m \u001b[0;34m\u001b[0m\u001b[0m\n\u001b[1;32m      9\u001b[0m \u001b[0;32mdel\u001b[0m \u001b[0mtrain_tran\u001b[0m\u001b[0;34m,\u001b[0m \u001b[0mtrain_iden\u001b[0m\u001b[0;34m,\u001b[0m \u001b[0mtest_iden\u001b[0m\u001b[0;34m,\u001b[0m \u001b[0mtest_tran\u001b[0m\u001b[0;34m\u001b[0m\u001b[0;34m\u001b[0m\u001b[0m\n",
            "\u001b[0;32m/usr/local/lib/python3.7/dist-packages/pandas/util/_decorators.py\u001b[0m in \u001b[0;36mwrapper\u001b[0;34m(*args, **kwargs)\u001b[0m\n\u001b[1;32m    309\u001b[0m                     \u001b[0mstacklevel\u001b[0m\u001b[0;34m=\u001b[0m\u001b[0mstacklevel\u001b[0m\u001b[0;34m,\u001b[0m\u001b[0;34m\u001b[0m\u001b[0;34m\u001b[0m\u001b[0m\n\u001b[1;32m    310\u001b[0m                 )\n\u001b[0;32m--> 311\u001b[0;31m             \u001b[0;32mreturn\u001b[0m \u001b[0mfunc\u001b[0m\u001b[0;34m(\u001b[0m\u001b[0;34m*\u001b[0m\u001b[0margs\u001b[0m\u001b[0;34m,\u001b[0m \u001b[0;34m**\u001b[0m\u001b[0mkwargs\u001b[0m\u001b[0;34m)\u001b[0m\u001b[0;34m\u001b[0m\u001b[0;34m\u001b[0m\u001b[0m\n\u001b[0m\u001b[1;32m    312\u001b[0m \u001b[0;34m\u001b[0m\u001b[0m\n\u001b[1;32m    313\u001b[0m         \u001b[0;32mreturn\u001b[0m \u001b[0mwrapper\u001b[0m\u001b[0;34m\u001b[0m\u001b[0;34m\u001b[0m\u001b[0m\n",
            "\u001b[0;32m/usr/local/lib/python3.7/dist-packages/pandas/core/frame.py\u001b[0m in \u001b[0;36mdrop\u001b[0;34m(self, labels, axis, index, columns, level, inplace, errors)\u001b[0m\n\u001b[1;32m   4911\u001b[0m             \u001b[0mlevel\u001b[0m\u001b[0;34m=\u001b[0m\u001b[0mlevel\u001b[0m\u001b[0;34m,\u001b[0m\u001b[0;34m\u001b[0m\u001b[0;34m\u001b[0m\u001b[0m\n\u001b[1;32m   4912\u001b[0m             \u001b[0minplace\u001b[0m\u001b[0;34m=\u001b[0m\u001b[0minplace\u001b[0m\u001b[0;34m,\u001b[0m\u001b[0;34m\u001b[0m\u001b[0;34m\u001b[0m\u001b[0m\n\u001b[0;32m-> 4913\u001b[0;31m             \u001b[0merrors\u001b[0m\u001b[0;34m=\u001b[0m\u001b[0merrors\u001b[0m\u001b[0;34m,\u001b[0m\u001b[0;34m\u001b[0m\u001b[0;34m\u001b[0m\u001b[0m\n\u001b[0m\u001b[1;32m   4914\u001b[0m         )\n\u001b[1;32m   4915\u001b[0m \u001b[0;34m\u001b[0m\u001b[0m\n",
            "\u001b[0;32m/usr/local/lib/python3.7/dist-packages/pandas/core/generic.py\u001b[0m in \u001b[0;36mdrop\u001b[0;34m(self, labels, axis, index, columns, level, inplace, errors)\u001b[0m\n\u001b[1;32m   4148\u001b[0m         \u001b[0;32mfor\u001b[0m \u001b[0maxis\u001b[0m\u001b[0;34m,\u001b[0m \u001b[0mlabels\u001b[0m \u001b[0;32min\u001b[0m \u001b[0maxes\u001b[0m\u001b[0;34m.\u001b[0m\u001b[0mitems\u001b[0m\u001b[0;34m(\u001b[0m\u001b[0;34m)\u001b[0m\u001b[0;34m:\u001b[0m\u001b[0;34m\u001b[0m\u001b[0;34m\u001b[0m\u001b[0m\n\u001b[1;32m   4149\u001b[0m             \u001b[0;32mif\u001b[0m \u001b[0mlabels\u001b[0m \u001b[0;32mis\u001b[0m \u001b[0;32mnot\u001b[0m \u001b[0;32mNone\u001b[0m\u001b[0;34m:\u001b[0m\u001b[0;34m\u001b[0m\u001b[0;34m\u001b[0m\u001b[0m\n\u001b[0;32m-> 4150\u001b[0;31m                 \u001b[0mobj\u001b[0m \u001b[0;34m=\u001b[0m \u001b[0mobj\u001b[0m\u001b[0;34m.\u001b[0m\u001b[0m_drop_axis\u001b[0m\u001b[0;34m(\u001b[0m\u001b[0mlabels\u001b[0m\u001b[0;34m,\u001b[0m \u001b[0maxis\u001b[0m\u001b[0;34m,\u001b[0m \u001b[0mlevel\u001b[0m\u001b[0;34m=\u001b[0m\u001b[0mlevel\u001b[0m\u001b[0;34m,\u001b[0m \u001b[0merrors\u001b[0m\u001b[0;34m=\u001b[0m\u001b[0merrors\u001b[0m\u001b[0;34m)\u001b[0m\u001b[0;34m\u001b[0m\u001b[0;34m\u001b[0m\u001b[0m\n\u001b[0m\u001b[1;32m   4151\u001b[0m \u001b[0;34m\u001b[0m\u001b[0m\n\u001b[1;32m   4152\u001b[0m         \u001b[0;32mif\u001b[0m \u001b[0minplace\u001b[0m\u001b[0;34m:\u001b[0m\u001b[0;34m\u001b[0m\u001b[0;34m\u001b[0m\u001b[0m\n",
            "\u001b[0;32m/usr/local/lib/python3.7/dist-packages/pandas/core/generic.py\u001b[0m in \u001b[0;36m_drop_axis\u001b[0;34m(self, labels, axis, level, errors)\u001b[0m\n\u001b[1;32m   4183\u001b[0m                 \u001b[0mnew_axis\u001b[0m \u001b[0;34m=\u001b[0m \u001b[0maxis\u001b[0m\u001b[0;34m.\u001b[0m\u001b[0mdrop\u001b[0m\u001b[0;34m(\u001b[0m\u001b[0mlabels\u001b[0m\u001b[0;34m,\u001b[0m \u001b[0mlevel\u001b[0m\u001b[0;34m=\u001b[0m\u001b[0mlevel\u001b[0m\u001b[0;34m,\u001b[0m \u001b[0merrors\u001b[0m\u001b[0;34m=\u001b[0m\u001b[0merrors\u001b[0m\u001b[0;34m)\u001b[0m\u001b[0;34m\u001b[0m\u001b[0;34m\u001b[0m\u001b[0m\n\u001b[1;32m   4184\u001b[0m             \u001b[0;32melse\u001b[0m\u001b[0;34m:\u001b[0m\u001b[0;34m\u001b[0m\u001b[0;34m\u001b[0m\u001b[0m\n\u001b[0;32m-> 4185\u001b[0;31m                 \u001b[0mnew_axis\u001b[0m \u001b[0;34m=\u001b[0m \u001b[0maxis\u001b[0m\u001b[0;34m.\u001b[0m\u001b[0mdrop\u001b[0m\u001b[0;34m(\u001b[0m\u001b[0mlabels\u001b[0m\u001b[0;34m,\u001b[0m \u001b[0merrors\u001b[0m\u001b[0;34m=\u001b[0m\u001b[0merrors\u001b[0m\u001b[0;34m)\u001b[0m\u001b[0;34m\u001b[0m\u001b[0;34m\u001b[0m\u001b[0m\n\u001b[0m\u001b[1;32m   4186\u001b[0m             \u001b[0mresult\u001b[0m \u001b[0;34m=\u001b[0m \u001b[0mself\u001b[0m\u001b[0;34m.\u001b[0m\u001b[0mreindex\u001b[0m\u001b[0;34m(\u001b[0m\u001b[0;34m**\u001b[0m\u001b[0;34m{\u001b[0m\u001b[0maxis_name\u001b[0m\u001b[0;34m:\u001b[0m \u001b[0mnew_axis\u001b[0m\u001b[0;34m}\u001b[0m\u001b[0;34m)\u001b[0m\u001b[0;34m\u001b[0m\u001b[0;34m\u001b[0m\u001b[0m\n\u001b[1;32m   4187\u001b[0m \u001b[0;34m\u001b[0m\u001b[0m\n",
            "\u001b[0;32m/usr/local/lib/python3.7/dist-packages/pandas/core/indexes/base.py\u001b[0m in \u001b[0;36mdrop\u001b[0;34m(self, labels, errors)\u001b[0m\n\u001b[1;32m   6015\u001b[0m         \u001b[0;32mif\u001b[0m \u001b[0mmask\u001b[0m\u001b[0;34m.\u001b[0m\u001b[0many\u001b[0m\u001b[0;34m(\u001b[0m\u001b[0;34m)\u001b[0m\u001b[0;34m:\u001b[0m\u001b[0;34m\u001b[0m\u001b[0;34m\u001b[0m\u001b[0m\n\u001b[1;32m   6016\u001b[0m             \u001b[0;32mif\u001b[0m \u001b[0merrors\u001b[0m \u001b[0;34m!=\u001b[0m \u001b[0;34m\"ignore\"\u001b[0m\u001b[0;34m:\u001b[0m\u001b[0;34m\u001b[0m\u001b[0;34m\u001b[0m\u001b[0m\n\u001b[0;32m-> 6017\u001b[0;31m                 \u001b[0;32mraise\u001b[0m \u001b[0mKeyError\u001b[0m\u001b[0;34m(\u001b[0m\u001b[0;34mf\"{labels[mask]} not found in axis\"\u001b[0m\u001b[0;34m)\u001b[0m\u001b[0;34m\u001b[0m\u001b[0;34m\u001b[0m\u001b[0m\n\u001b[0m\u001b[1;32m   6018\u001b[0m             \u001b[0mindexer\u001b[0m \u001b[0;34m=\u001b[0m \u001b[0mindexer\u001b[0m\u001b[0;34m[\u001b[0m\u001b[0;34m~\u001b[0m\u001b[0mmask\u001b[0m\u001b[0;34m]\u001b[0m\u001b[0;34m\u001b[0m\u001b[0;34m\u001b[0m\u001b[0m\n\u001b[1;32m   6019\u001b[0m         \u001b[0;32mreturn\u001b[0m \u001b[0mself\u001b[0m\u001b[0;34m.\u001b[0m\u001b[0mdelete\u001b[0m\u001b[0;34m(\u001b[0m\u001b[0mindexer\u001b[0m\u001b[0;34m)\u001b[0m\u001b[0;34m\u001b[0m\u001b[0;34m\u001b[0m\u001b[0m\n",
            "\u001b[0;31mKeyError\u001b[0m: '[28440 46850 20487 ... 32718 58470 82086] not found in axis'"
          ]
        }
      ]
    },
    {
      "cell_type": "markdown",
      "source": [
        "Test_dataset and train_dataset had a mismatch in the name of id features. In the train_dataset id features were present with the name id_x where x was a value between 01 and 38 whereas in the test_dataset id features were of the form id-x. So, we changed the format of id features in the test_dataset from id-x to id_x."
      ],
      "metadata": {
        "id": "5k7iNoPKH90W"
      }
    },
    {
      "cell_type": "code",
      "source": [
        "test.columns  = [col.replace('-','_') for col in test.columns]"
      ],
      "metadata": {
        "id": "3KXOFGpIFy6U"
      },
      "execution_count": 10,
      "outputs": []
    },
    {
      "cell_type": "markdown",
      "metadata": {
        "id": "UkstYfcPSxty"
      },
      "source": [
        "## EDA\n",
        "We perform basic analysis on the data.\n",
        "- Visualise predictor distribution.\n",
        "- Correlation\n"
      ]
    },
    {
      "cell_type": "code",
      "execution_count": 11,
      "metadata": {
        "colab": {
          "base_uri": "https://localhost:8080/",
          "height": 281
        },
        "id": "fLn6uqvSOc8C",
        "outputId": "f1f822fa-fedd-4480-f0a4-273f2d6a47ab"
      },
      "outputs": [
        {
          "output_type": "display_data",
          "data": {
            "text/plain": [
              "<Figure size 432x288 with 1 Axes>"
            ],
            "image/png": "[encoded data removed]"
          },
          "metadata": {
            "needs_background": "light"
          }
        }
      ],
      "source": [
        "train['isFraud'].value_counts(normalize = True).plot(kind= 'barh')\n",
        "plt.title('% of class')\n",
        "plt.ylabel('isFraud (1 = Fraud)')\n",
        "plt.show()"
      ]
    },
    {
      "cell_type": "markdown",
      "metadata": {
        "id": "wW8YV043Pt05"
      },
      "source": [
        "We find very few instance of Fraud. Consider Class Balancing."
      ]
    },
    {
      "cell_type": "markdown",
      "metadata": {
        "id": "m9YkTe92VOQo"
      },
      "source": [
        "## Feature Preproccessing"
      ]
    },
    {
      "cell_type": "markdown",
      "metadata": {
        "id": "HW1r2t5iAtg4"
      },
      "source": [
        ""
      ]
    },
    {
      "cell_type": "markdown",
      "metadata": {
        "id": "kWxQjGBV7LlZ"
      },
      "source": [
        "Systematically, deal with features by considering the following,\n",
        "- 'M' columns - look like true or false lets convert them to 1, 0\n",
        "- 'D' columns - these are fine all numerical\n",
        "- 'C' columns - numerical except for 4,6\n",
        "\n",
        "We deal with categorical variables using dummy vars."
      ]
    },
    {
      "cell_type": "code",
      "source": [
        "train_0 = train\n",
        "test_0 = test\n",
        "local_test_0 = local_test"
      ],
      "metadata": {
        "id": "sPk_PMTo3-ei"
      },
      "execution_count": 12,
      "outputs": []
    },
    {
      "cell_type": "code",
      "source": [
        "train = train_0\n",
        "test = test_0\n",
        "local_test = local_test_0"
      ],
      "metadata": {
        "id": "GxCe2px_MJ3W"
      },
      "execution_count": 57,
      "outputs": []
    },
    {
      "cell_type": "code",
      "source": [
        "train.info()"
      ],
      "metadata": {
        "colab": {
          "base_uri": "https://localhost:8080/"
        },
        "id": "BYA4XeSX4KaA",
        "outputId": "6234102c-d0c8-4b20-9c6f-4fdb78f97458"
      },
      "execution_count": 58,
      "outputs": [
        {
          "output_type": "stream",
          "name": "stdout",
          "text": [
            "<class 'pandas.core.frame.DataFrame'>\n",
            "Int64Index: 118108 entries, 3 to 590530\n",
            "Columns: 434 entries, TransactionID to DeviceInfo\n",
            "dtypes: category(6), float16(332), float32(44), float64(31), int16(1), int32(2), int8(1), object(17)\n",
            "memory usage: 144.7+ MB\n"
          ]
        }
      ]
    },
    {
      "cell_type": "code",
      "execution_count": 59,
      "metadata": {
        "id": "IXiN7Plz7K4x"
      },
      "outputs": [],
      "source": [
        "train = preprocess(train)\n",
        "test = preprocess(test)\n",
        "local_test = preprocess(local_test)\n"
      ]
    },
    {
      "cell_type": "markdown",
      "metadata": {
        "id": "HiotT2FWVzQK"
      },
      "source": [
        "\n",
        "What features are we dropping and why?\n",
        "\n",
        "- TransactionID - Only a unique identifier for identity\n",
        "- Id Columns - All Id columns contain at least 75% NaN values \n"
      ]
    },
    {
      "cell_type": "code",
      "source": [
        "id_cols = [col for col in train.columns if col.startswith('id')]\n",
        "df_id = train[id_cols]\n",
        "# df_id.head()\n",
        "nulls = df_id.isnull().sum()/len(df_id) #as a percentage\n",
        "nulls.sort_values(ascending=False).plot.bar(title='NaN as a %')\n",
        "# train.drop(id_cols, axis = 1,inplace = True)"
      ],
      "metadata": {
        "id": "TuaDw4E8Feg5",
        "colab": {
          "base_uri": "https://localhost:8080/",
          "height": 398
        },
        "outputId": "960668a0-ee1f-4acf-edfc-1d856d972e9e"
      },
      "execution_count": 60,
      "outputs": [
        {
          "output_type": "execute_result",
          "data": {
            "text/plain": [
              "<matplotlib.axes._subplots.AxesSubplot at 0x7f4586670610>"
            ]
          },
          "metadata": {},
          "execution_count": 60
        },
        {
          "output_type": "display_data",
          "data": {
            "text/plain": [
              "<Figure size 432x288 with 1 Axes>"
            ],
            "image/png": "[encoded data removed]"
          },
          "metadata": {
            "needs_background": "light"
          }
        }
      ]
    },
    {
      "cell_type": "code",
      "source": [
        "#Run this otherwise might cause ram overflows\n",
        "v_cols = [col for col in train.columns if col.startswith('V')]\n",
        "# # lets ignore the v columns for the time being\n",
        "train.drop(v_cols,axis =1, inplace = True)\n",
        "train.drop(id_cols, axis = 1,inplace = True)"
      ],
      "metadata": {
        "id": "21OQ3_nBg7AS"
      },
      "execution_count": 61,
      "outputs": []
    },
    {
      "cell_type": "markdown",
      "source": [
        ""
      ],
      "metadata": {
        "id": "vRkm6AdIm1Ig"
      }
    },
    {
      "cell_type": "code",
      "source": [
        "categorical_features = list(set(train.columns) - set(train._get_numeric_data().columns))\n",
        "#we get dummy for some features only\n",
        "dummy_cols = [ col for col in categorical_features \n",
        "                    if len(train[col].unique()) < 15]\n",
        "large_cats = list(set(train.columns) - set(train._get_numeric_data()) - set(dummy_cols))"
      ],
      "metadata": {
        "id": "MJEHLPhNYJFV"
      },
      "execution_count": 62,
      "outputs": []
    },
    {
      "cell_type": "code",
      "source": [
        "categorical_features"
      ],
      "metadata": {
        "colab": {
          "base_uri": "https://localhost:8080/"
        },
        "id": "n3DmVE08PWLY",
        "outputId": "758aa211-c92f-4303-b550-788e67c506c9"
      },
      "execution_count": 63,
      "outputs": [
        {
          "output_type": "execute_result",
          "data": {
            "text/plain": [
              "['R_emaildomain',\n",
              " 'ProductCD',\n",
              " 'DeviceType',\n",
              " 'R_emaildomain_2',\n",
              " 'card4',\n",
              " 'P_emaildomain_3',\n",
              " 'OS_id_30',\n",
              " 'M8',\n",
              " 'P_emaildomain_1',\n",
              " 'screen_height',\n",
              " 'addr2',\n",
              " 'addr1',\n",
              " 'DeviceInfo',\n",
              " 'device_version',\n",
              " 'card3',\n",
              " 'M6',\n",
              " 'device_name',\n",
              " 'R_emaildomain_1',\n",
              " 'card5',\n",
              " 'M4',\n",
              " 'card6',\n",
              " 'M7',\n",
              " 'R_emaildomain_3',\n",
              " 'version_id_31',\n",
              " 'version_id_30',\n",
              " 'card2',\n",
              " 'M3',\n",
              " 'M1',\n",
              " 'screen_width',\n",
              " 'P_emaildomain_2',\n",
              " 'card1',\n",
              " 'browser_id_31',\n",
              " 'P_emaildomain',\n",
              " 'M2',\n",
              " 'M5',\n",
              " 'M9']"
            ]
          },
          "metadata": {},
          "execution_count": 63
        }
      ]
    },
    {
      "cell_type": "code",
      "source": [
        "from sklearn.preprocessing import OneHotEncoder  #the disco import \n",
        "\n",
        "def dummy_transform(df,encoder,col):\n",
        "  new_col = [col+'_' + str(i)  for i in encoder.categories_[0].tolist()]\n",
        "  dummy_arr = encoder.transform(df[col].to_numpy().reshape(-1, 1))\n",
        "  dummy_df = pd.DataFrame(dummy_arr, columns = new_col)\n",
        "  \n",
        "  return pd.concat([df, dummy_df],axis =1)\n",
        "\n",
        "for col in dummy_cols:\n",
        "  enc = OneHotEncoder(handle_unknown='ignore',sparse=False) \n",
        "  dummy_train = enc.fit_transform(train[col].to_numpy().reshape(-1, 1))\n",
        "  \n",
        "  train = dummy_transform(train,enc,col)\n",
        "  local_test = dummy_transform(local_test,enc,col)\n",
        "  test = dummy_transform(test,enc,col)\n",
        "  print('encoding',col)\n",
        "  # # for df in [train, test]:\n",
        "  # dummy_test = enc.transform(test[col].to_numpy().reshape(-1, 1))\n",
        "\n",
        "  # dummy_dftest = pd.DataFrame(dummy_test, columns = new_col)\n",
        "  # dummy_dftrain = pd.DataFrame(dummy_train, columns = new_col)\n",
        "\n",
        "  # test = pd.concat([test, dummy_dftest],axis =1)\n",
        "  # train = pd.concat([train, dummy_dftrain],axis =1)\n",
        "\n",
        "    # df.drop(col,axis =1,inplace=True)\n",
        "train.drop(dummy_cols,axis =1,inplace = True )\n",
        "test.drop(dummy_cols,axis =1,inplace = True )\n",
        "# train.columns"
      ],
      "metadata": {
        "id": "TGH6katghs3W",
        "colab": {
          "base_uri": "https://localhost:8080/"
        },
        "outputId": "82a4b51a-ed95-4e4d-c5d7-78bcc77bef9f"
      },
      "execution_count": 53,
      "outputs": [
        {
          "output_type": "stream",
          "name": "stdout",
          "text": [
            "encoding ProductCD\n",
            "encoding DeviceType\n",
            "encoding R_emaildomain_2\n",
            "encoding card4\n",
            "encoding P_emaildomain_3\n",
            "encoding OS_id_30\n",
            "encoding M8\n",
            "encoding M6\n",
            "encoding device_name\n",
            "encoding M4\n",
            "encoding card6\n",
            "encoding M7\n",
            "encoding R_emaildomain_3\n",
            "encoding M3\n",
            "encoding M1\n",
            "encoding P_emaildomain_2\n",
            "encoding M2\n",
            "encoding M5\n",
            "encoding M9\n"
          ]
        }
      ]
    },
    {
      "cell_type": "code",
      "source": [
        "train.shape"
      ],
      "metadata": {
        "colab": {
          "base_uri": "https://localhost:8080/"
        },
        "id": "dN1HSUsOQQGU",
        "outputId": "4128741c-9b79-4e89-ab29-82000182ed61"
      },
      "execution_count": 64,
      "outputs": [
        {
          "output_type": "execute_result",
          "data": {
            "text/plain": [
              "(118108, 88)"
            ]
          },
          "metadata": {},
          "execution_count": 64
        }
      ]
    },
    {
      "cell_type": "code",
      "source": [
        "train.shape"
      ],
      "metadata": {
        "colab": {
          "base_uri": "https://localhost:8080/"
        },
        "id": "ovYizFKXMkmz",
        "outputId": "fe1dac31-d05e-45e7-e602-0b4b00a6db05"
      },
      "execution_count": 55,
      "outputs": [
        {
          "output_type": "execute_result",
          "data": {
            "text/plain": [
              "(583757, 164)"
            ]
          },
          "metadata": {},
          "execution_count": 55
        }
      ]
    },
    {
      "cell_type": "markdown",
      "source": [
        "We need to deal with the variables with high number of cats."
      ],
      "metadata": {
        "id": "xee7uX0rkLZp"
      }
    },
    {
      "cell_type": "code",
      "source": [
        "def frequency_encoder(x,groupby):\n",
        "  if x == None:\n",
        "    return groupby.get(np.nan)\n",
        "  else:\n",
        "    return groupby.get(x)\n",
        "\n",
        "\n",
        "  # large_cats\n",
        "for col in large_cats:\n",
        "  freq_enc = (train.groupby(col,dropna=False  # to prevent loss of information\n",
        "                            ).size()) / len(train)\n",
        "  train[col+'freq'] = train[col].apply(lambda x : frequency_encoder(x,freq_enc))\n",
        "\n",
        "train.drop(large_cats,axis = 1,inplace = True)\n"
      ],
      "metadata": {
        "id": "FQP9TPz3dZ0C"
      },
      "execution_count": 19,
      "outputs": []
    },
    {
      "cell_type": "markdown",
      "metadata": {
        "id": "xcCP4HTGVU8c"
      },
      "source": [
        "### Column Imputation\n",
        "How are we dealing with NaN/Missing/Infinite Values?\n",
        "\n",
        "To use SMOTE we must remove np.infs and NaNs,\n",
        "- So we initially drop columns with less than 80% non-NA values.\n",
        "- Then, we drop rows containing NaN values.\n",
        "\n",
        "This using performance resulted in a higher performance on \n",
        "balanced score measures than keeping NaNs and not using SMOTE.\n",
        "\n",
        "We shoudl experiment with fillna\n",
        "\n"
      ]
    },
    {
      "cell_type": "code",
      "source": [
        "train_na = train.dropna(thresh= 0.8 * len(train),axis = 1)"
      ],
      "metadata": {
        "id": "nuUNmLH6dpfW"
      },
      "execution_count": 20,
      "outputs": []
    },
    {
      "cell_type": "markdown",
      "source": [
        ""
      ],
      "metadata": {
        "id": "0NVA0p4ZdPP-"
      }
    },
    {
      "cell_type": "code",
      "source": [
        "nulls = train_na.isnull().sum()/len(train_na) #as a percentage\n",
        "nulls.sort_values(ascending=False).plot.barh(title='NaN as a %')"
      ],
      "metadata": {
        "id": "zr2zbMLZbE10",
        "colab": {
          "base_uri": "https://localhost:8080/",
          "height": 298
        },
        "outputId": "71b6dc69-db89-437e-c6a5-47afe84cdb45"
      },
      "execution_count": 21,
      "outputs": [
        {
          "output_type": "execute_result",
          "data": {
            "text/plain": [
              "<matplotlib.axes._subplots.AxesSubplot at 0x7f458914d690>"
            ]
          },
          "metadata": {},
          "execution_count": 21
        },
        {
          "output_type": "display_data",
          "data": {
            "text/plain": [
              "<Figure size 432x288 with 1 Axes>"
            ],
            "image/png": "[encoded data removed]"
          },
          "metadata": {
            "needs_background": "light"
          }
        }
      ]
    },
    {
      "cell_type": "markdown",
      "metadata": {
        "id": "VAxxagslTJ6r"
      },
      "source": [
        "### Feauture Cleaning\n",
        "The data contains outliers, which require cleaning."
      ]
    },
    {
      "cell_type": "markdown",
      "metadata": {
        "id": "0hlj3dq4VnZ3"
      },
      "source": [
        "### Feature engineering (Creation)\n",
        "Wrapped as Preprocessor function to be implemented after test train split."
      ]
    },
    {
      "cell_type": "markdown",
      "source": [
        ""
      ],
      "metadata": {
        "id": "G6-f0nEkOsxz"
      }
    },
    {
      "cell_type": "markdown",
      "metadata": {
        "id": "KLJf4s37RJ-F"
      },
      "source": [
        "### Class Balancing"
      ]
    },
    {
      "cell_type": "code",
      "source": [
        "train_0['isFraud']"
      ],
      "metadata": {
        "id": "M_uPJP0SfK2f",
        "colab": {
          "base_uri": "https://localhost:8080/"
        },
        "outputId": "77a8f00a-054e-43e3-e7e1-a671f9560fad"
      },
      "execution_count": 24,
      "outputs": [
        {
          "output_type": "execute_result",
          "data": {
            "text/plain": [
              "3         0\n",
              "6         0\n",
              "25        0\n",
              "27        0\n",
              "30        0\n",
              "         ..\n",
              "590504    0\n",
              "590512    0\n",
              "590516    0\n",
              "590517    0\n",
              "590530    0\n",
              "Name: isFraud, Length: 118108, dtype: int8"
            ]
          },
          "metadata": {},
          "execution_count": 24
        }
      ]
    },
    {
      "cell_type": "code",
      "source": [
        "train_na['isFraud']"
      ],
      "metadata": {
        "id": "7YVe3pWTea7u"
      },
      "execution_count": null,
      "outputs": []
    },
    {
      "cell_type": "code",
      "source": [
        "train_no_na = train_na[~train_na.isin([np.nan, np.inf, -np.inf]).any(1)]\n",
        "# train_no_na = train_no_na._get_numeric_data()\n",
        "X_train, y_train = train_no_na.drop('isFraud',axis = 1), train_no_na['isFraud']\n",
        "oversample = over_sampling.SMOTE()\n",
        "X_train, y_train = oversample.fit_resample(X_train, y_train)\n",
        "X_train.drop('TransactionID', axis=1, inplace = True)"
      ],
      "metadata": {
        "id": "094CmyxEKjqB"
      },
      "execution_count": null,
      "outputs": []
    },
    {
      "cell_type": "markdown",
      "metadata": {
        "id": "nvXyRlGfW-DY"
      },
      "source": [
        "## Model Creation & Fitting\n"
      ]
    },
    {
      "cell_type": "markdown",
      "metadata": {
        "id": "9WZU6VvCTQyy"
      },
      "source": [
        "### Individiual models"
      ]
    },
    {
      "cell_type": "code",
      "source": [
        "\n",
        "# model=CatBoostRegressor(iterations=50, depth=3, learning_rate=0.1, loss_function='RMSE')\n",
        "# model.fit(X_train, y_train,cat_features=categorical_features_indices,eval_set=(X_validation, y_validation),plot=True)"
      ],
      "metadata": {
        "id": "r4WA3xbQN1pc"
      },
      "execution_count": null,
      "outputs": []
    },
    {
      "cell_type": "code",
      "execution_count": null,
      "metadata": {
        "id": "Ix_bdnscBIGN"
      },
      "outputs": [],
      "source": [
        "#naw4\n",
        "from sklearn.model_selection import RandomizedSearchCV\n",
        "params = { 'max_depth': [3, 5, 6, 10, 15, 20],\n",
        "           'learning_rate': [0.01, 0.1, 0.2, 0.3],\n",
        "           'subsample': np.arange(0.5, 1.0, 0.1),\n",
        "           'colsample_bytree': np.arange(0.4, 1.0, 0.1),\n",
        "           'colsample_bylevel': np.arange(0.4, 1.0, 0.1),\n",
        "           'n_estimators': [100, 500, 1000]}\n",
        "\n",
        "# train.drop(['P_emaildomain', 'R_emaildomain'],axis =1 ,inplace = True)\n",
        "from sklearn.metrics import accuracy_score\n",
        "\n",
        "import xgboost as xgb\n",
        "\n",
        "xgb_cl = xgb.XGBClassifier(\n",
        "    # tree_method='gpu_hist', gpu_id=0\n",
        "    )\n",
        "\n",
        "# clf = RandomizedSearchCV(estimator=xgb_cl,\n",
        "#                          param_distributions=params,\n",
        "#                          n_jobs = -1,\n",
        "#                         #  scoring='neg_mean_squared_error',\n",
        "#                          n_iter=25,\n",
        "#                          verbose=1)\n",
        "# search = clf.fit(X_train, y_train)\n",
        "\n",
        "\n",
        "\n",
        "xgb_cl.fit(X_train, y_train)\n",
        "preds = xgb_cl.predict(X_train)\n",
        "accuracy_score(y_train, preds)"
      ]
    },
    {
      "cell_type": "code",
      "source": [
        "# clf.get_params()"
      ],
      "metadata": {
        "id": "29fcUeiK6fUb"
      },
      "execution_count": null,
      "outputs": []
    },
    {
      "cell_type": "code",
      "source": [
        "bst.save_model('model_file_name.json')"
      ],
      "metadata": {
        "id": "BQac-z1Zt0lt"
      },
      "execution_count": null,
      "outputs": []
    },
    {
      "cell_type": "code",
      "execution_count": null,
      "metadata": {
        "id": "7wKBjfAhEfNz"
      },
      "outputs": [],
      "source": [
        "from sklearn.metrics import ConfusionMatrixDisplay\n",
        "ConfusionMatrixDisplay.from_predictions(y_train, preds,normalize='true')"
      ]
    },
    {
      "cell_type": "code",
      "execution_count": null,
      "metadata": {
        "id": "h7Qd-bjGfktV"
      },
      "outputs": [],
      "source": [
        "#jde1\n",
        "from sklearn import datasets, svm\n",
        "from sklearn.kernel_approximation import Nystroem\n",
        "from sklearn.svm import LinearSVC\n",
        "# train.drop(['P_emaildomain', 'R_emaildomain'],axis =1 ,inplace = True)\n",
        "\n",
        "percent_missing = train.isnull().sum() * 100 / len(train)\n",
        "missing_value_df = pd.DataFrame({'column_name': train.columns,\n",
        "                                 'percent_missing': percent_missing})\n",
        "missing_value_df.sort_values('percent_missing', inplace=True)\n",
        "high_na = list(missing_value_df.loc[missing_value_df['percent_missing']>0.2]['column_name'])\n",
        "\n",
        "j_train = train.drop(high_na, axis = 1)\n",
        "j_train.dropna(inplace=True)\n",
        "\n",
        "X_train, y_train = j_train.drop('isFraud',axis = 1), j_train['isFraud']\n",
        "\n",
        "# imp = SimpleImputer(strategy=\"most_frequent\")\n",
        "# j_train = imp.fit_transform(j_train)\n",
        "clf = svm.LinearSVC()\n",
        "\n",
        "feature_map_nystroem = Nystroem(gamma=.2,\n",
        "                                 random_state=1,\n",
        "                                 n_components=300)\n",
        "data_transformed = feature_map_nystroem.fit_transform(X_train)\n",
        "clf.fit(data_transformed, y_train)\n",
        "LinearSVC()\n",
        "preds = clf.predict(data_transformed)\n",
        "accuracy_score(y_train, preds)"
      ]
    },
    {
      "cell_type": "code",
      "execution_count": null,
      "metadata": {
        "id": "sBJYuF2MtIRI"
      },
      "outputs": [],
      "source": [
        "preds = clf.predict(data_transformed)\n",
        "accuracy_score(y_train, preds)"
      ]
    },
    {
      "cell_type": "code",
      "execution_count": null,
      "metadata": {
        "id": "_Gm1JyaFo8Vg"
      },
      "outputs": [],
      "source": [
        "from sklearn.metrics import ConfusionMatrixDisplay\n",
        "ConfusionMatrixDisplay.from_predictions(y_train, preds,normalize='true')"
      ]
    },
    {
      "cell_type": "code",
      "source": [
        "! pip uninstall lightgbm -y\n",
        "\n",
        "# install lightgbm GPU\n",
        "! pip install lightgbm --install-option=--gpu --install-option=\"--opencl-include-dir=/usr/local/cuda/include/\" --install-option=\"--opencl-library=/usr/local/cuda/lib64/libOpenCL.so\"\n"
      ],
      "metadata": {
        "id": "9nqv7c6NnUr5"
      },
      "execution_count": null,
      "outputs": []
    },
    {
      "cell_type": "code",
      "source": [
        "#anli\n",
        "import lightgbm as lgb\n",
        "from sklearn.metrics import roc_auc_score\n",
        "\n",
        "params = {'num_leaves': 491,\n",
        "          'min_child_weight': 0.03454472573214212,\n",
        "          'feature_fraction': 0.3797454081646243,\n",
        "          'bagging_fraction': 0.4181193142567742,\n",
        "          'min_data_in_leaf': 106,\n",
        "          'objective': 'binary',\n",
        "          'max_depth': -1,\n",
        "          'device':'gpu',\n",
        "          'learning_rate': 0.006883242363721497,\n",
        "          \"boosting_type\": \"gbdt\",\n",
        "          \"bagging_seed\": 11,\n",
        "          \"metric\": 'auc',\n",
        "          \"verbosity\": -1,\n",
        "          'reg_alpha': 0.3899927210061127,\n",
        "          'reg_lambda': 0.6485237330340494,\n",
        "          'random_state': 5313,\n",
        "         }\n",
        "from sklearn.model_selection import train_test_split\n",
        "score = 0\n",
        "\n",
        "feature_importances = pd.DataFrame()\n",
        "lgb_X_train, lgb_X_valid,lgb_y_train, lgb_y_valid=train_test_split(X_train,y_train,train_size=0.8)\n",
        "dtrain = lgb.Dataset(lgb_X_train, label=lgb_y_train)\n",
        "dvalid = lgb.Dataset(lgb_X_valid, label=lgb_y_valid)\n",
        "clf = lgb.train(params, dtrain, 4000, valid_sets = [dtrain, dvalid])\n",
        "\n",
        "feature_importances = clf.feature_importance()\n",
        "\n",
        "y_pred_valid = clf.predict(lgb_X_valid)\n",
        "score = roc_auc_score(lgb_y_valid, y_pred_valid)\n",
        "\n",
        "print(f\"AUC = {score}\")"
      ],
      "metadata": {
        "id": "T5oFMrf8nGk8"
      },
      "execution_count": null,
      "outputs": []
    },
    {
      "cell_type": "markdown",
      "metadata": {
        "id": "OVMf-em_TXKe"
      },
      "source": [
        "### Model Ensembling"
      ]
    },
    {
      "cell_type": "code",
      "execution_count": null,
      "metadata": {
        "id": "uhrGl2hJevUP"
      },
      "outputs": [],
      "source": [
        "stack_models(('Nishi', xgb_cl))"
      ]
    },
    {
      "cell_type": "code",
      "execution_count": null,
      "metadata": {
        "id": "xai4ycpPe5hE"
      },
      "outputs": [],
      "source": [
        ""
      ]
    }
  ],
  "metadata": {
    "colab": {
      "collapsed_sections": [],
      "name": "main.ipynb",
      "provenance": [],
      "include_colab_link": true
    },
    "kernelspec": {
      "display_name": "Python 3",
      "name": "python3"
    },
    "language_info": {
      "name": "python"
    }
  },
  "nbformat": 4,
  "nbformat_minor": 0
}