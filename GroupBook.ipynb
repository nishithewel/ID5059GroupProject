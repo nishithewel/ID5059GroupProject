{
 "cells": [
  {
   "cell_type": "markdown",
   "source": [
    "### ID5059 KDDM\n",
    "### Assignment: P02\n",
    "### Group Name : Demented But Determined\n",
    "\n",
    "Group Members:\n",
    "- 200005828\n",
    "- 190001708\n",
    "- 210012057\n",
    "- 210003557\n",
    "- 210010283\n",
    "- 210005313\n",
    "\n",
    "<hr>"
   ],
   "metadata": {
    "collapsed": false
   }
  },
  {
   "cell_type": "markdown",
   "source": [
    "## Introduction\n",
    "We will be predicting the probability of a transaction being fraudulent and to predict\n",
    "this we will be building an ML model using a real-world e-commerce dataset.\n",
    "\n",
    "In this assignment, we are training multiple classifiers and stacking them together to see if\n",
    "we get better model accuracy.\n",
    "\n",
    "We have extracted some utility functions into the utility files into separate python\n",
    "files to make the notebook modular.\n"
   ],
   "metadata": {
    "collapsed": false,
    "pycharm": {
     "name": "#%% md\n"
    }
   }
  },
  {
   "cell_type": "markdown",
   "source": [
    "<hr>"
   ],
   "metadata": {
    "collapsed": false
   }
  },
  {
   "cell_type": "markdown",
   "source": [
    "## Dataset Summary\n",
    "\n",
    "The dataset consists of five files :\n",
    "1.\ttest_identity.csv\n",
    "    - Identity Dataset to test performance of model\n",
    "2.\ttest_transaction.csv\n",
    "    - Transaction Dataset to test performance of model\n",
    "3.\ttrain_identity.csv\n",
    "    - Identity Dataset to be used for model training\n",
    "4.\ttrain_transaction.csv\n",
    "    - Transaction Dataset to be used for model training\n",
    "5.\tsample_submission.csv\n",
    "    - File containing prediction results\n",
    "\n",
    "\n",
    "Column names in train and test identity dataset has different formats.\n",
    "We renamed test identity columns name to match to that of train column names.\n",
    "\n",
    "## Transaction Dataset :\n",
    "\n",
    "Columns in the transaction dataset can be grouped as below:\n",
    "\n",
    "1.\tTransactionID\n",
    "    -\tID of the transaction and is used to connect to identity dataset\n",
    "2.\tisFraud\n",
    "    -\tIndicating if the transaction is fraud or not\n",
    "3.\tTransactionAmt\n",
    "    -\tTransaction amount (in USD)\n",
    "4.\tProductCD\n",
    "    - Product code  with 5 distinct categories\n",
    "    - Categorical Features\n",
    "5.\tcard1 -  card6\n",
    "    - Payment card information\n",
    "    - Card 4 contains 4 distinct categories of the card used for the transaction\n",
    "    - Card5 has 120 unique values\n",
    "    - Card6 has 4 distinct categories\n",
    "    - Categorical Features\n",
    "    - Actual values are masked for some columns\n",
    "6.\taddr1 - addr2\n",
    "    - addr1 - billing region\n",
    "    - addr2 -  billing country\n",
    "    - Categorical Features\n",
    "7.\tdist1 - dist2\n",
    "    - Distance\n",
    "    - Categorical Features\n",
    "8.\tP_emaildomain\n",
    "    - purchaser email domains\n",
    "    - Categorical Features\n",
    "9.\tR_emaildomain\n",
    "    - recipient email domains\n",
    "    - Categorical Features\n",
    "10.\tC1 - C14\n",
    "    - counting, such as how many addresses are found to be associated with the payment card, etc.\n",
    "    - The actual meaning is masked\n",
    "11.\tD1 - D15\n",
    "    - timedelta, such as days between previous transaction, etc\n",
    "12.\tM1 - M9\n",
    "    - match, such as names on card and address, etc.\n",
    "    - Categorical Features\n",
    "13.\tV1 - V339\n",
    "    - Vesta engineered rich features, including ranking, counting, and other entity relations.\n",
    "\n",
    "\n",
    "## Identity Dataset :\n",
    "\n",
    "1.\tTransactionID\n",
    "    - ID of the transaction and is used to connect to transaction dataset\n",
    "2.\tDeviceType\n",
    "    - Device type used for transaction mobile or desktop\n",
    "    - Categorical Features\n",
    "3.\tDeviceInfo\n",
    "    - Information about the device used for transaction\n",
    "    -   Categorical Features\n",
    "4.\tid-01 to id-38\n",
    "    - Masked information about the device\n",
    "\n"
   ],
   "metadata": {
    "collapsed": false
   }
  },
  {
   "cell_type": "markdown",
   "source": [
    "### Install libraries"
   ],
   "metadata": {
    "collapsed": false
   }
  },
  {
   "cell_type": "code",
   "execution_count": 1,
   "outputs": [],
   "source": [
    "import numpy as np\n",
    "import pandas as pd\n",
    "import matplotlib.pyplot as plt\n",
    "from imblearn import over_sampling\n",
    "from utils.preprocess import preprocess\n",
    "from utils.reduce_memory import reduce_mem_usage\n",
    "from sklearn.model_selection import train_test_split\n"
   ],
   "metadata": {
    "collapsed": false,
    "pycharm": {
     "name": "#%%\n"
    }
   }
  },
  {
   "cell_type": "markdown",
   "source": [
    "### Load the data\n",
    "\n",
    "Download the dataset from Kaggle and unzip it 'data' folder parallel to the notebook."
   ],
   "metadata": {
    "collapsed": false
   }
  },
  {
   "cell_type": "code",
   "execution_count": 2,
   "outputs": [],
   "source": [
    "root_dir = './data/'\n",
    "test_iden = pd.read_csv(root_dir + 'test_identity.csv')\n",
    "test_tran = pd.read_csv(root_dir + 'test_transaction.csv')\n",
    "train_iden = pd.read_csv(root_dir + 'train_identity.csv')\n",
    "train_tran = pd.read_csv(root_dir + 'train_transaction.csv')"
   ],
   "metadata": {
    "collapsed": false,
    "pycharm": {
     "name": "#%%\n"
    }
   }
  },
  {
   "cell_type": "markdown",
   "source": [
    "Due to the large size, to keep loading size down we optimize data types to reduce memory usage."
   ],
   "metadata": {
    "collapsed": false
   }
  },
  {
   "cell_type": "code",
   "execution_count": 3,
   "outputs": [
    {
     "name": "stdout",
     "output_type": "stream",
     "text": [
      "Before Type down-casting  : The shape of the Train (590540, 394) , Test (506691, 393)\n",
      "Memory usage of dataframe is 1519.24 MB\n",
      "Memory usage after optimization is: 425.24 MB\n",
      "Decreased by 72.0%\n",
      "Memory usage of dataframe is 1775.15 MB\n",
      "Memory usage after optimization is: 487.16 MB\n",
      "Decreased by 72.6%\n",
      "Before Type down-casting  : The shape of the Train (590540, 394) , Test (506691, 393)\n"
     ]
    }
   ],
   "source": [
    "print(f\"Before Type down-casting  : The shape of the Train {train_tran.shape} , Test {test_tran.shape}\")\n",
    "test_tran = reduce_mem_usage(test_tran)\n",
    "train_tran = reduce_mem_usage(train_tran)\n",
    "print(f\"Before Type down-casting  : The shape of the Train {train_tran.shape} , Test {test_tran.shape}\")"
   ],
   "metadata": {
    "collapsed": false,
    "pycharm": {
     "name": "#%%\n"
    }
   }
  },
  {
   "cell_type": "code",
   "execution_count": 4,
   "outputs": [],
   "source": [
    "#Merge the Transaction and Identity data set to create the 'Test' set.\n",
    "train = pd.merge(train_tran, train_iden, on = 'TransactionID', how = 'left')\n",
    "test = pd.merge(test_tran, test_iden, on = 'TransactionID', how = 'left')"
   ],
   "metadata": {
    "collapsed": false,
    "pycharm": {
     "name": "#%%\n"
    }
   }
  },
  {
   "cell_type": "code",
   "execution_count": 5,
   "outputs": [
    {
     "name": "stdout",
     "output_type": "stream",
     "text": [
      "After merging  : The shape of the Train (590540, 434) , Test (506691, 433)\n"
     ]
    }
   ],
   "source": [
    "print(f\"After merging  : The shape of the Train {train.shape} , Test {test.shape}\")"
   ],
   "metadata": {
    "collapsed": false,
    "pycharm": {
     "name": "#%%\n"
    }
   }
  },
  {
   "cell_type": "code",
   "execution_count": 6,
   "outputs": [
    {
     "name": "stdout",
     "output_type": "stream",
     "text": [
      "Train size(472432, 434)\n",
      "DevTest size(118108, 434)\n"
     ]
    }
   ],
   "source": [
    "SEED= 42\n",
    "train, dev_test = train_test_split(train, test_size=0.2, random_state=int(SEED))\n",
    "\n",
    "print(\"Train size\"+ str(train.shape))\n",
    "print(\"DevTest size\"+ str(dev_test.shape))"
   ],
   "metadata": {
    "collapsed": false,
    "pycharm": {
     "name": "#%%\n"
    }
   }
  },
  {
   "cell_type": "code",
   "execution_count": 7,
   "outputs": [],
   "source": [
    "del train_tran, train_iden, test_iden, test_tran"
   ],
   "metadata": {
    "collapsed": false,
    "pycharm": {
     "name": "#%%\n"
    }
   }
  },
  {
   "cell_type": "markdown",
   "source": [
    "Test_dataset and train_dataset had a mismatch in the name of id features.\n",
    "In the train_dataset id features were present with the name id_x where x was a value between\n",
    "01 and 38 whereas in the test_dataset id features were of the form id-x.\n",
    "So, we changed the format of id features in the test_dataset from id-x to id_x."
   ],
   "metadata": {
    "collapsed": false
   }
  },
  {
   "cell_type": "code",
   "execution_count": 8,
   "outputs": [],
   "source": [
    "test.columns  = [col.replace('-','_') for col in test.columns]"
   ],
   "metadata": {
    "collapsed": false,
    "pycharm": {
     "name": "#%%\n"
    }
   }
  },
  {
   "cell_type": "code",
   "execution_count": 9,
   "outputs": [
    {
     "data": {
      "text/plain": "           D1     D2    D3     D4     D5     D6     D7      D8    D9    D10  \\\n5307      0.0    NaN   NaN    0.0    NaN    NaN    NaN     NaN   NaN    0.0   \n191582    0.0    NaN   NaN    0.0    NaN    0.0    NaN     NaN   NaN    0.0   \n260168    7.0    7.0   6.0  420.0    6.0    NaN    NaN     NaN   NaN   71.0   \n18516   211.0  211.0   NaN  211.0  211.0  211.0  211.0  162.75  0.75  211.0   \n47538     0.0    NaN   NaN    NaN    NaN    NaN    NaN  204.00  0.00    NaN   \n62390     0.0    NaN   NaN    0.0    NaN    NaN    NaN     NaN   NaN    0.0   \n288883    0.0    NaN   NaN    0.0    NaN    NaN    NaN     NaN   NaN    0.0   \n397255    0.0    NaN   NaN    NaN    NaN    NaN    NaN     NaN   NaN    0.0   \n465998   13.0   13.0  14.0   14.0   14.0    NaN    NaN     NaN   NaN   14.0   \n323478    0.0    NaN   NaN    0.0    NaN    NaN    NaN     NaN   NaN    0.0   \n\n         D11  D12  D13  D14  \n5307     0.0  NaN  NaN  NaN  \n191582   NaN  0.0  0.0  0.0  \n260168   NaN  NaN  NaN  NaN  \n18516    NaN  NaN  0.0  NaN  \n47538    NaN  NaN  NaN  NaN  \n62390    0.0  NaN  NaN  NaN  \n288883   NaN  NaN  NaN  NaN  \n397255   0.0  NaN  NaN  NaN  \n465998  14.0  NaN  NaN  NaN  \n323478   0.0  NaN  NaN  NaN  ",
      "text/html": "<div>\n<style scoped>\n    .dataframe tbody tr th:only-of-type {\n        vertical-align: middle;\n    }\n\n    .dataframe tbody tr th {\n        vertical-align: top;\n    }\n\n    .dataframe thead th {\n        text-align: right;\n    }\n</style>\n<table border=\"1\" class=\"dataframe\">\n  <thead>\n    <tr style=\"text-align: right;\">\n      <th></th>\n      <th>D1</th>\n      <th>D2</th>\n      <th>D3</th>\n      <th>D4</th>\n      <th>D5</th>\n      <th>D6</th>\n      <th>D7</th>\n      <th>D8</th>\n      <th>D9</th>\n      <th>D10</th>\n      <th>D11</th>\n      <th>D12</th>\n      <th>D13</th>\n      <th>D14</th>\n    </tr>\n  </thead>\n  <tbody>\n    <tr>\n      <th>5307</th>\n      <td>0.0</td>\n      <td>NaN</td>\n      <td>NaN</td>\n      <td>0.0</td>\n      <td>NaN</td>\n      <td>NaN</td>\n      <td>NaN</td>\n      <td>NaN</td>\n      <td>NaN</td>\n      <td>0.0</td>\n      <td>0.0</td>\n      <td>NaN</td>\n      <td>NaN</td>\n      <td>NaN</td>\n    </tr>\n    <tr>\n      <th>191582</th>\n      <td>0.0</td>\n      <td>NaN</td>\n      <td>NaN</td>\n      <td>0.0</td>\n      <td>NaN</td>\n      <td>0.0</td>\n      <td>NaN</td>\n      <td>NaN</td>\n      <td>NaN</td>\n      <td>0.0</td>\n      <td>NaN</td>\n      <td>0.0</td>\n      <td>0.0</td>\n      <td>0.0</td>\n    </tr>\n    <tr>\n      <th>260168</th>\n      <td>7.0</td>\n      <td>7.0</td>\n      <td>6.0</td>\n      <td>420.0</td>\n      <td>6.0</td>\n      <td>NaN</td>\n      <td>NaN</td>\n      <td>NaN</td>\n      <td>NaN</td>\n      <td>71.0</td>\n      <td>NaN</td>\n      <td>NaN</td>\n      <td>NaN</td>\n      <td>NaN</td>\n    </tr>\n    <tr>\n      <th>18516</th>\n      <td>211.0</td>\n      <td>211.0</td>\n      <td>NaN</td>\n      <td>211.0</td>\n      <td>211.0</td>\n      <td>211.0</td>\n      <td>211.0</td>\n      <td>162.75</td>\n      <td>0.75</td>\n      <td>211.0</td>\n      <td>NaN</td>\n      <td>NaN</td>\n      <td>0.0</td>\n      <td>NaN</td>\n    </tr>\n    <tr>\n      <th>47538</th>\n      <td>0.0</td>\n      <td>NaN</td>\n      <td>NaN</td>\n      <td>NaN</td>\n      <td>NaN</td>\n      <td>NaN</td>\n      <td>NaN</td>\n      <td>204.00</td>\n      <td>0.00</td>\n      <td>NaN</td>\n      <td>NaN</td>\n      <td>NaN</td>\n      <td>NaN</td>\n      <td>NaN</td>\n    </tr>\n    <tr>\n      <th>62390</th>\n      <td>0.0</td>\n      <td>NaN</td>\n      <td>NaN</td>\n      <td>0.0</td>\n      <td>NaN</td>\n      <td>NaN</td>\n      <td>NaN</td>\n      <td>NaN</td>\n      <td>NaN</td>\n      <td>0.0</td>\n      <td>0.0</td>\n      <td>NaN</td>\n      <td>NaN</td>\n      <td>NaN</td>\n    </tr>\n    <tr>\n      <th>288883</th>\n      <td>0.0</td>\n      <td>NaN</td>\n      <td>NaN</td>\n      <td>0.0</td>\n      <td>NaN</td>\n      <td>NaN</td>\n      <td>NaN</td>\n      <td>NaN</td>\n      <td>NaN</td>\n      <td>0.0</td>\n      <td>NaN</td>\n      <td>NaN</td>\n      <td>NaN</td>\n      <td>NaN</td>\n    </tr>\n    <tr>\n      <th>397255</th>\n      <td>0.0</td>\n      <td>NaN</td>\n      <td>NaN</td>\n      <td>NaN</td>\n      <td>NaN</td>\n      <td>NaN</td>\n      <td>NaN</td>\n      <td>NaN</td>\n      <td>NaN</td>\n      <td>0.0</td>\n      <td>0.0</td>\n      <td>NaN</td>\n      <td>NaN</td>\n      <td>NaN</td>\n    </tr>\n    <tr>\n      <th>465998</th>\n      <td>13.0</td>\n      <td>13.0</td>\n      <td>14.0</td>\n      <td>14.0</td>\n      <td>14.0</td>\n      <td>NaN</td>\n      <td>NaN</td>\n      <td>NaN</td>\n      <td>NaN</td>\n      <td>14.0</td>\n      <td>14.0</td>\n      <td>NaN</td>\n      <td>NaN</td>\n      <td>NaN</td>\n    </tr>\n    <tr>\n      <th>323478</th>\n      <td>0.0</td>\n      <td>NaN</td>\n      <td>NaN</td>\n      <td>0.0</td>\n      <td>NaN</td>\n      <td>NaN</td>\n      <td>NaN</td>\n      <td>NaN</td>\n      <td>NaN</td>\n      <td>0.0</td>\n      <td>0.0</td>\n      <td>NaN</td>\n      <td>NaN</td>\n      <td>NaN</td>\n    </tr>\n  </tbody>\n</table>\n</div>"
     },
     "execution_count": 9,
     "metadata": {},
     "output_type": "execute_result"
    }
   ],
   "source": [
    "# OK, the problem here is that D features are mostly NaNs!\n",
    "d_features=[\"D\"+str(x) for x in range(1,15)]\n",
    "train[d_features].head(10)"
   ],
   "metadata": {
    "collapsed": false,
    "pycharm": {
     "name": "#%%\n"
    }
   }
  },
  {
   "cell_type": "code",
   "execution_count": 10,
   "outputs": [
    {
     "data": {
      "text/plain": "         M1   M2   M3   M4   M5   M6   M7   M8\n5307      T    T    T   M0    T    T    F    F\n191582  NaN  NaN  NaN   M2  NaN  NaN  NaN  NaN\n260168  NaN  NaN  NaN  NaN  NaN    F  NaN  NaN\n18516   NaN  NaN  NaN  NaN  NaN  NaN  NaN  NaN\n47538   NaN  NaN  NaN  NaN  NaN  NaN  NaN  NaN\n62390     T    T    T  NaN  NaN  NaN  NaN  NaN\n288883  NaN  NaN  NaN  NaN  NaN    T  NaN  NaN\n397255    T    T    T  NaN  NaN    F    F    F\n465998    T    T    T  NaN  NaN    F    F    F\n323478    T    T    T   M0    F    F  NaN  NaN",
      "text/html": "<div>\n<style scoped>\n    .dataframe tbody tr th:only-of-type {\n        vertical-align: middle;\n    }\n\n    .dataframe tbody tr th {\n        vertical-align: top;\n    }\n\n    .dataframe thead th {\n        text-align: right;\n    }\n</style>\n<table border=\"1\" class=\"dataframe\">\n  <thead>\n    <tr style=\"text-align: right;\">\n      <th></th>\n      <th>M1</th>\n      <th>M2</th>\n      <th>M3</th>\n      <th>M4</th>\n      <th>M5</th>\n      <th>M6</th>\n      <th>M7</th>\n      <th>M8</th>\n    </tr>\n  </thead>\n  <tbody>\n    <tr>\n      <th>5307</th>\n      <td>T</td>\n      <td>T</td>\n      <td>T</td>\n      <td>M0</td>\n      <td>T</td>\n      <td>T</td>\n      <td>F</td>\n      <td>F</td>\n    </tr>\n    <tr>\n      <th>191582</th>\n      <td>NaN</td>\n      <td>NaN</td>\n      <td>NaN</td>\n      <td>M2</td>\n      <td>NaN</td>\n      <td>NaN</td>\n      <td>NaN</td>\n      <td>NaN</td>\n    </tr>\n    <tr>\n      <th>260168</th>\n      <td>NaN</td>\n      <td>NaN</td>\n      <td>NaN</td>\n      <td>NaN</td>\n      <td>NaN</td>\n      <td>F</td>\n      <td>NaN</td>\n      <td>NaN</td>\n    </tr>\n    <tr>\n      <th>18516</th>\n      <td>NaN</td>\n      <td>NaN</td>\n      <td>NaN</td>\n      <td>NaN</td>\n      <td>NaN</td>\n      <td>NaN</td>\n      <td>NaN</td>\n      <td>NaN</td>\n    </tr>\n    <tr>\n      <th>47538</th>\n      <td>NaN</td>\n      <td>NaN</td>\n      <td>NaN</td>\n      <td>NaN</td>\n      <td>NaN</td>\n      <td>NaN</td>\n      <td>NaN</td>\n      <td>NaN</td>\n    </tr>\n    <tr>\n      <th>62390</th>\n      <td>T</td>\n      <td>T</td>\n      <td>T</td>\n      <td>NaN</td>\n      <td>NaN</td>\n      <td>NaN</td>\n      <td>NaN</td>\n      <td>NaN</td>\n    </tr>\n    <tr>\n      <th>288883</th>\n      <td>NaN</td>\n      <td>NaN</td>\n      <td>NaN</td>\n      <td>NaN</td>\n      <td>NaN</td>\n      <td>T</td>\n      <td>NaN</td>\n      <td>NaN</td>\n    </tr>\n    <tr>\n      <th>397255</th>\n      <td>T</td>\n      <td>T</td>\n      <td>T</td>\n      <td>NaN</td>\n      <td>NaN</td>\n      <td>F</td>\n      <td>F</td>\n      <td>F</td>\n    </tr>\n    <tr>\n      <th>465998</th>\n      <td>T</td>\n      <td>T</td>\n      <td>T</td>\n      <td>NaN</td>\n      <td>NaN</td>\n      <td>F</td>\n      <td>F</td>\n      <td>F</td>\n    </tr>\n    <tr>\n      <th>323478</th>\n      <td>T</td>\n      <td>T</td>\n      <td>T</td>\n      <td>M0</td>\n      <td>F</td>\n      <td>F</td>\n      <td>NaN</td>\n      <td>NaN</td>\n    </tr>\n  </tbody>\n</table>\n</div>"
     },
     "execution_count": 10,
     "metadata": {},
     "output_type": "execute_result"
    }
   ],
   "source": [
    "m_features=[\"M\"+str(x) for x in range(1,9)]\n",
    "train[m_features].head(10)\n"
   ],
   "metadata": {
    "collapsed": false,
    "pycharm": {
     "name": "#%%\n"
    }
   }
  },
  {
   "cell_type": "code",
   "execution_count": 11,
   "outputs": [
    {
     "data": {
      "text/plain": "<Figure size 432x288 with 1 Axes>",
      "image/png": "[encoded data removed]"
     },
     "metadata": {
      "needs_background": "light"
     },
     "output_type": "display_data"
    }
   ],
   "source": [
    "train['isFraud'].value_counts(normalize = True).plot(kind= 'barh')\n",
    "plt.title('% of Target class in training dataset')\n",
    "plt.ylabel('isFraud (1 = Fraud)')\n",
    "plt.show()\n"
   ],
   "metadata": {
    "collapsed": false,
    "pycharm": {
     "name": "#%%\n"
    }
   }
  },
  {
   "cell_type": "markdown",
   "source": [
    "## Feature Preprocessing\n",
    "\n",
    "Systematically, deal with features by considering the following,\n",
    "- 'M' columns - look like true or false lets convert them to 1, 0\n",
    "- 'D' columns - these are fine all numerical\n",
    "- 'C' columns - numerical except for 4,6\n",
    "\n",
    "We deal with categorical variables using dummy vars."
   ],
   "metadata": {
    "collapsed": false
   }
  },
  {
   "cell_type": "code",
   "execution_count": 12,
   "outputs": [],
   "source": [
    "train = preprocess(train)\n",
    "test = preprocess(test)\n",
    "dev_test = preprocess(dev_test)"
   ],
   "metadata": {
    "collapsed": false,
    "pycharm": {
     "name": "#%%\n"
    }
   }
  },
  {
   "cell_type": "code",
   "execution_count": 13,
   "outputs": [
    {
     "data": {
      "text/plain": "        TransactionID  isFraud  TransactionDT  TransactionAmt ProductCD  \\\n5307          2992307        0         174911         59.0000         W   \n191582        3178582        0        4301977         23.3750         C   \n260168        3247168        0        6229929         35.9375         W   \n18516         3005516        0         497176        100.0000         R   \n47538         3034538        0        1124702         75.0000         H   \n\n        card1  card2  card3       card4  card5  ... id_02_to_mean_card4  \\\n5307     4988  334.0  150.0        visa  226.0  ...                 NaN   \n191582   3867  296.0  185.0        visa  226.0  ...            2.700445   \n260168  12577  268.0  150.0        visa  166.0  ...                 NaN   \n18516    6019  583.0  150.0        visa  226.0  ...            0.579748   \n47538   16075  514.0  150.0  mastercard  102.0  ...            0.481128   \n\n       id_02_to_std_card4 id_02_to_mean_addr1  id_02_to_std_addr1  \\\n5307                  NaN                 NaN                 NaN   \n191582           2.944736                 NaN                 NaN   \n260168                NaN                 NaN                 NaN   \n18516            0.632194            0.815571            0.858382   \n47538            0.548746            0.815978            0.835990   \n\n        D15_to_mean_card1 D15_to_std_card1 D15_to_mean_card4  \\\n5307             0.000000         0.000000          0.000000   \n191582           0.000000         0.000000          0.000000   \n260168           2.597656         2.148405          2.490234   \n18516            0.000000         0.000000          0.000000   \n47538                 NaN              NaN               NaN   \n\n        D15_to_std_card4  D15_to_mean_addr1  D15_to_std_addr1  \n5307            0.000000           0.000000          0.000000  \n191582          0.000000                NaN               NaN  \n260168          2.056071           2.582031          2.174831  \n18516           0.000000           0.000000          0.000000  \n47538                NaN                NaN               NaN  \n\n[5 rows x 471 columns]",
      "text/html": "<div>\n<style scoped>\n    .dataframe tbody tr th:only-of-type {\n        vertical-align: middle;\n    }\n\n    .dataframe tbody tr th {\n        vertical-align: top;\n    }\n\n    .dataframe thead th {\n        text-align: right;\n    }\n</style>\n<table border=\"1\" class=\"dataframe\">\n  <thead>\n    <tr style=\"text-align: right;\">\n      <th></th>\n      <th>TransactionID</th>\n      <th>isFraud</th>\n      <th>TransactionDT</th>\n      <th>TransactionAmt</th>\n      <th>ProductCD</th>\n      <th>card1</th>\n      <th>card2</th>\n      <th>card3</th>\n      <th>card4</th>\n      <th>card5</th>\n      <th>...</th>\n      <th>id_02_to_mean_card4</th>\n      <th>id_02_to_std_card4</th>\n      <th>id_02_to_mean_addr1</th>\n      <th>id_02_to_std_addr1</th>\n      <th>D15_to_mean_card1</th>\n      <th>D15_to_std_card1</th>\n      <th>D15_to_mean_card4</th>\n      <th>D15_to_std_card4</th>\n      <th>D15_to_mean_addr1</th>\n      <th>D15_to_std_addr1</th>\n    </tr>\n  </thead>\n  <tbody>\n    <tr>\n      <th>5307</th>\n      <td>2992307</td>\n      <td>0</td>\n      <td>174911</td>\n      <td>59.0000</td>\n      <td>W</td>\n      <td>4988</td>\n      <td>334.0</td>\n      <td>150.0</td>\n      <td>visa</td>\n      <td>226.0</td>\n      <td>...</td>\n      <td>NaN</td>\n      <td>NaN</td>\n      <td>NaN</td>\n      <td>NaN</td>\n      <td>0.000000</td>\n      <td>0.000000</td>\n      <td>0.000000</td>\n      <td>0.000000</td>\n      <td>0.000000</td>\n      <td>0.000000</td>\n    </tr>\n    <tr>\n      <th>191582</th>\n      <td>3178582</td>\n      <td>0</td>\n      <td>4301977</td>\n      <td>23.3750</td>\n      <td>C</td>\n      <td>3867</td>\n      <td>296.0</td>\n      <td>185.0</td>\n      <td>visa</td>\n      <td>226.0</td>\n      <td>...</td>\n      <td>2.700445</td>\n      <td>2.944736</td>\n      <td>NaN</td>\n      <td>NaN</td>\n      <td>0.000000</td>\n      <td>0.000000</td>\n      <td>0.000000</td>\n      <td>0.000000</td>\n      <td>NaN</td>\n      <td>NaN</td>\n    </tr>\n    <tr>\n      <th>260168</th>\n      <td>3247168</td>\n      <td>0</td>\n      <td>6229929</td>\n      <td>35.9375</td>\n      <td>W</td>\n      <td>12577</td>\n      <td>268.0</td>\n      <td>150.0</td>\n      <td>visa</td>\n      <td>166.0</td>\n      <td>...</td>\n      <td>NaN</td>\n      <td>NaN</td>\n      <td>NaN</td>\n      <td>NaN</td>\n      <td>2.597656</td>\n      <td>2.148405</td>\n      <td>2.490234</td>\n      <td>2.056071</td>\n      <td>2.582031</td>\n      <td>2.174831</td>\n    </tr>\n    <tr>\n      <th>18516</th>\n      <td>3005516</td>\n      <td>0</td>\n      <td>497176</td>\n      <td>100.0000</td>\n      <td>R</td>\n      <td>6019</td>\n      <td>583.0</td>\n      <td>150.0</td>\n      <td>visa</td>\n      <td>226.0</td>\n      <td>...</td>\n      <td>0.579748</td>\n      <td>0.632194</td>\n      <td>0.815571</td>\n      <td>0.858382</td>\n      <td>0.000000</td>\n      <td>0.000000</td>\n      <td>0.000000</td>\n      <td>0.000000</td>\n      <td>0.000000</td>\n      <td>0.000000</td>\n    </tr>\n    <tr>\n      <th>47538</th>\n      <td>3034538</td>\n      <td>0</td>\n      <td>1124702</td>\n      <td>75.0000</td>\n      <td>H</td>\n      <td>16075</td>\n      <td>514.0</td>\n      <td>150.0</td>\n      <td>mastercard</td>\n      <td>102.0</td>\n      <td>...</td>\n      <td>0.481128</td>\n      <td>0.548746</td>\n      <td>0.815978</td>\n      <td>0.835990</td>\n      <td>NaN</td>\n      <td>NaN</td>\n      <td>NaN</td>\n      <td>NaN</td>\n      <td>NaN</td>\n      <td>NaN</td>\n    </tr>\n  </tbody>\n</table>\n<p>5 rows × 471 columns</p>\n</div>"
     },
     "execution_count": 13,
     "metadata": {},
     "output_type": "execute_result"
    }
   ],
   "source": [
    "train.head()"
   ],
   "metadata": {
    "collapsed": false,
    "pycharm": {
     "name": "#%%\n"
    }
   }
  },
  {
   "cell_type": "markdown",
   "source": [
    "### What features are we dropping and why?\n",
    "\n",
    "TransactionID - Only a unique identifier for identity.\n",
    "\n",
    "Id Columns - All Id columns contain at least 75% NaN values\n",
    "\n",
    "V Columns - V columns consists of Vesta engineered features. They are large is number, have additional training overhead\n",
    "            and do not add any significant performance improvement (As per Kaggle data discussion )."
   ],
   "metadata": {
    "collapsed": false
   }
  },
  {
   "cell_type": "code",
   "execution_count": 14,
   "outputs": [
    {
     "data": {
      "text/plain": "<AxesSubplot:title={'center':'NaN as a % in ID columns'}>"
     },
     "execution_count": 14,
     "metadata": {},
     "output_type": "execute_result"
    },
    {
     "data": {
      "text/plain": "<Figure size 432x288 with 1 Axes>",
      "image/png": "[encoded data removed]"
     },
     "metadata": {
      "needs_background": "light"
     },
     "output_type": "display_data"
    }
   ],
   "source": [
    "id_cols = [col for col in train.columns if col.startswith('id')]\n",
    "df_id = train[id_cols]\n",
    "nulls = df_id.isnull().sum()/len(df_id) #as a percentage\n",
    "nulls.sort_values(ascending=False).plot.bar(title='NaN as a % in ID columns')"
   ],
   "metadata": {
    "collapsed": false,
    "pycharm": {
     "name": "#%%\n"
    }
   }
  },
  {
   "cell_type": "code",
   "execution_count": 15,
   "outputs": [],
   "source": [
    "v_cols = [col for col in train.columns if col.startswith('V')]\n",
    "train.drop(v_cols,axis =1, inplace = True)\n",
    "train.drop(id_cols, axis = 1,inplace = True)\n",
    "test.drop(v_cols,axis =1, inplace = True)\n",
    "test.drop(id_cols, axis = 1,inplace = True)\n",
    "dev_test.drop(v_cols,axis =1, inplace = True)\n",
    "dev_test.drop(id_cols, axis = 1,inplace = True)"
   ],
   "metadata": {
    "collapsed": false,
    "pycharm": {
     "name": "#%%\n"
    }
   }
  },
  {
   "cell_type": "code",
   "execution_count": 16,
   "outputs": [],
   "source": [
    "categorical_features = list(set(train.columns) - set(train._get_numeric_data().columns))\n",
    "#we get dummy for some features only\n",
    "all_cat_col_names = [ col for col in categorical_features\n",
    "                    if len(train[col].unique()) < 15]\n",
    "\n",
    "large_cats_col_names = list(set(train.columns) - set(train._get_numeric_data()) - set(all_cat_col_names))"
   ],
   "metadata": {
    "collapsed": false,
    "pycharm": {
     "name": "#%%\n"
    }
   }
  },
  {
   "cell_type": "markdown",
   "source": [
    "One hot encoding of all the categorical variables."
   ],
   "metadata": {
    "collapsed": false
   }
  },
  {
   "cell_type": "code",
   "execution_count": 17,
   "outputs": [
    {
     "name": "stdout",
     "output_type": "stream",
     "text": [
      "encoding M8\n",
      "encoding M7\n",
      "encoding card4\n",
      "encoding M5\n",
      "encoding M3\n",
      "encoding device_name\n",
      "encoding card6\n",
      "encoding M4\n",
      "encoding DeviceType\n",
      "encoding P_emaildomain_3\n",
      "encoding R_emaildomain_3\n",
      "encoding R_emaildomain_2\n",
      "encoding M6\n",
      "encoding P_emaildomain_2\n",
      "encoding ProductCD\n",
      "encoding M1\n",
      "encoding OS_id_30\n",
      "encoding M2\n",
      "encoding M9\n"
     ]
    }
   ],
   "source": [
    "from sklearn.preprocessing import OneHotEncoder  #the disco import\n",
    "def dummy_transform(df,encoder,col):\n",
    "  new_col = [col+'_' + str(i)  for i in encoder.categories_[0].tolist()]\n",
    "  dummy_arr = encoder.transform(df[col].to_numpy().reshape(-1, 1))\n",
    "  dummy_df = pd.DataFrame(dummy_arr, columns = new_col)\n",
    "\n",
    "  # Allows nice concat-ing\n",
    "  dummy_df.reset_index(drop=True, inplace=True)\n",
    "  df.reset_index(drop=True, inplace=True)\n",
    "  return pd.concat([df, dummy_df],axis =1)\n",
    "\n",
    "\n",
    "for col in all_cat_col_names:\n",
    "  print('encoding',col)\n",
    "  enc = OneHotEncoder(handle_unknown='ignore',sparse=False)\n",
    "  dummy_train = enc.fit_transform(train[col].to_numpy().reshape(-1, 1))\n",
    "\n",
    "  train = dummy_transform(train,enc,col)\n",
    "  dev_test = dummy_transform(dev_test,enc,col)\n",
    "  test = dummy_transform(test,enc,col)"
   ],
   "metadata": {
    "collapsed": false,
    "pycharm": {
     "name": "#%%\n"
    }
   }
  },
  {
   "cell_type": "code",
   "execution_count": 18,
   "outputs": [
    {
     "data": {
      "text/plain": "((472432, 187), (118108, 187), (506691, 186))"
     },
     "execution_count": 18,
     "metadata": {},
     "output_type": "execute_result"
    }
   ],
   "source": [
    "(train.shape, dev_test.shape,test.shape)\n"
   ],
   "metadata": {
    "collapsed": false,
    "pycharm": {
     "name": "#%%\n"
    }
   }
  },
  {
   "cell_type": "code",
   "execution_count": 19,
   "outputs": [
    {
     "name": "stdout",
     "output_type": "stream",
     "text": [
      "Before dropping: The shape of the Train (472432, 187) \n",
      "After dropping: The shape of the Train (472432, 168) \n"
     ]
    }
   ],
   "source": [
    "print(f\"Before dropping: The shape of the Train {train.shape} \")\n",
    "\n",
    "train.drop(all_cat_col_names,axis =1,inplace = True )\n",
    "print(f\"After dropping: The shape of the Train {train.shape} \")"
   ],
   "metadata": {
    "collapsed": false,
    "pycharm": {
     "name": "#%%\n"
    }
   }
  },
  {
   "cell_type": "code",
   "execution_count": 20,
   "outputs": [
    {
     "name": "stdout",
     "output_type": "stream",
     "text": [
      "Before dropping: The shape of the test (506691, 186) \n",
      "After dropping: The shape of the test (506691, 167) \n"
     ]
    }
   ],
   "source": [
    "print(f\"Before dropping: The shape of the test {test.shape} \")\n",
    "\n",
    "test.drop(all_cat_col_names,axis =1,inplace = True )\n",
    "print(f\"After dropping: The shape of the test {test.shape} \")"
   ],
   "metadata": {
    "collapsed": false,
    "pycharm": {
     "name": "#%%\n"
    }
   }
  },
  {
   "cell_type": "code",
   "execution_count": 21,
   "outputs": [
    {
     "name": "stdout",
     "output_type": "stream",
     "text": [
      "Before dropping: The shape of the test (118108, 187) \n",
      "After dropping: The shape of the test (118108, 168) \n"
     ]
    }
   ],
   "source": [
    "print(f\"Before dropping: The shape of the test {dev_test.shape} \")\n",
    "dev_test.drop(all_cat_col_names,axis =1,inplace = True )\n",
    "print(f\"After dropping: The shape of the test {dev_test.shape} \")"
   ],
   "metadata": {
    "collapsed": false,
    "pycharm": {
     "name": "#%%\n"
    }
   }
  },
  {
   "cell_type": "code",
   "execution_count": 22,
   "outputs": [
    {
     "data": {
      "text/plain": "   card1  card2  card3  card5  card4_american express  card4_discover  \\\n0   4988  334.0  150.0  226.0                     0.0             0.0   \n1   3867  296.0  185.0  226.0                     0.0             0.0   \n2  12577  268.0  150.0  166.0                     0.0             0.0   \n3   6019  583.0  150.0  226.0                     0.0             0.0   \n4  16075  514.0  150.0  102.0                     0.0             0.0   \n\n   card4_mastercard  card4_visa  card4_nan  card6_charge card  card6_credit  \\\n0               0.0         1.0        0.0                0.0           0.0   \n1               0.0         1.0        0.0                0.0           1.0   \n2               0.0         1.0        0.0                0.0           0.0   \n3               0.0         1.0        0.0                0.0           1.0   \n4               1.0         0.0        0.0                0.0           1.0   \n\n   card6_debit  card6_debit or credit  card6_nan  \n0          1.0                    0.0        0.0  \n1          0.0                    0.0        0.0  \n2          1.0                    0.0        0.0  \n3          0.0                    0.0        0.0  \n4          0.0                    0.0        0.0  ",
      "text/html": "<div>\n<style scoped>\n    .dataframe tbody tr th:only-of-type {\n        vertical-align: middle;\n    }\n\n    .dataframe tbody tr th {\n        vertical-align: top;\n    }\n\n    .dataframe thead th {\n        text-align: right;\n    }\n</style>\n<table border=\"1\" class=\"dataframe\">\n  <thead>\n    <tr style=\"text-align: right;\">\n      <th></th>\n      <th>card1</th>\n      <th>card2</th>\n      <th>card3</th>\n      <th>card5</th>\n      <th>card4_american express</th>\n      <th>card4_discover</th>\n      <th>card4_mastercard</th>\n      <th>card4_visa</th>\n      <th>card4_nan</th>\n      <th>card6_charge card</th>\n      <th>card6_credit</th>\n      <th>card6_debit</th>\n      <th>card6_debit or credit</th>\n      <th>card6_nan</th>\n    </tr>\n  </thead>\n  <tbody>\n    <tr>\n      <th>0</th>\n      <td>4988</td>\n      <td>334.0</td>\n      <td>150.0</td>\n      <td>226.0</td>\n      <td>0.0</td>\n      <td>0.0</td>\n      <td>0.0</td>\n      <td>1.0</td>\n      <td>0.0</td>\n      <td>0.0</td>\n      <td>0.0</td>\n      <td>1.0</td>\n      <td>0.0</td>\n      <td>0.0</td>\n    </tr>\n    <tr>\n      <th>1</th>\n      <td>3867</td>\n      <td>296.0</td>\n      <td>185.0</td>\n      <td>226.0</td>\n      <td>0.0</td>\n      <td>0.0</td>\n      <td>0.0</td>\n      <td>1.0</td>\n      <td>0.0</td>\n      <td>0.0</td>\n      <td>1.0</td>\n      <td>0.0</td>\n      <td>0.0</td>\n      <td>0.0</td>\n    </tr>\n    <tr>\n      <th>2</th>\n      <td>12577</td>\n      <td>268.0</td>\n      <td>150.0</td>\n      <td>166.0</td>\n      <td>0.0</td>\n      <td>0.0</td>\n      <td>0.0</td>\n      <td>1.0</td>\n      <td>0.0</td>\n      <td>0.0</td>\n      <td>0.0</td>\n      <td>1.0</td>\n      <td>0.0</td>\n      <td>0.0</td>\n    </tr>\n    <tr>\n      <th>3</th>\n      <td>6019</td>\n      <td>583.0</td>\n      <td>150.0</td>\n      <td>226.0</td>\n      <td>0.0</td>\n      <td>0.0</td>\n      <td>0.0</td>\n      <td>1.0</td>\n      <td>0.0</td>\n      <td>0.0</td>\n      <td>1.0</td>\n      <td>0.0</td>\n      <td>0.0</td>\n      <td>0.0</td>\n    </tr>\n    <tr>\n      <th>4</th>\n      <td>16075</td>\n      <td>514.0</td>\n      <td>150.0</td>\n      <td>102.0</td>\n      <td>0.0</td>\n      <td>0.0</td>\n      <td>1.0</td>\n      <td>0.0</td>\n      <td>0.0</td>\n      <td>0.0</td>\n      <td>1.0</td>\n      <td>0.0</td>\n      <td>0.0</td>\n      <td>0.0</td>\n    </tr>\n  </tbody>\n</table>\n</div>"
     },
     "execution_count": 22,
     "metadata": {},
     "output_type": "execute_result"
    }
   ],
   "source": [
    "a=[c for c in train.columns if c.startswith('card')]\n",
    "train[a].head()"
   ],
   "metadata": {
    "collapsed": false,
    "pycharm": {
     "name": "#%%\n"
    }
   }
  },
  {
   "cell_type": "code",
   "execution_count": 23,
   "outputs": [
    {
     "data": {
      "text/plain": "array([0, 1], dtype=int8)"
     },
     "execution_count": 23,
     "metadata": {},
     "output_type": "execute_result"
    }
   ],
   "source": [
    "train['isFraud'].unique()"
   ],
   "metadata": {
    "collapsed": false,
    "pycharm": {
     "name": "#%%\n"
    }
   }
  },
  {
   "cell_type": "code",
   "execution_count": 24,
   "outputs": [
    {
     "data": {
      "text/plain": "((472432, 168), (118108, 168))"
     },
     "execution_count": 24,
     "metadata": {},
     "output_type": "execute_result"
    }
   ],
   "source": [
    "(train.shape, dev_test.shape)"
   ],
   "metadata": {
    "collapsed": false,
    "pycharm": {
     "name": "#%%\n"
    }
   }
  },
  {
   "cell_type": "markdown",
   "source": [
    "We need to deal with the variables with high number of cats."
   ],
   "metadata": {
    "collapsed": false
   }
  },
  {
   "cell_type": "code",
   "execution_count": 25,
   "outputs": [],
   "source": [
    "def frequency_encoder(x,groupby):\n",
    "  if x == None:\n",
    "    return groupby.get(np.nan)\n",
    "  else:\n",
    "    return groupby.get(x)\n",
    "\n",
    "\n",
    "  # large_cats\n",
    "for col in large_cats_col_names:\n",
    "  freq_enc = (train.groupby(col,dropna=False  # to prevent loss of information\n",
    "                            ).size()) / len(train)\n",
    "  train[col+'freq'] = train[col].apply(lambda x : frequency_encoder(x,freq_enc))\n",
    "  test[col+'freq'] = test[col].apply(lambda x : frequency_encoder(x,freq_enc))\n",
    "  dev_test[col+'freq'] = dev_test[col].apply(lambda x : frequency_encoder(x,freq_enc))\n",
    "\n",
    "train.drop(large_cats_col_names,axis = 1,inplace = True)\n",
    "test.drop(large_cats_col_names,axis = 1,inplace = True)\n",
    "dev_test.drop(large_cats_col_names,axis = 1,inplace = True)\n"
   ],
   "metadata": {
    "collapsed": false,
    "pycharm": {
     "name": "#%%\n"
    }
   }
  },
  {
   "cell_type": "markdown",
   "source": [
    "### Column Imputation\n",
    "\n",
    "How are we dealing with NaN/Missing/Infinite Values?\n",
    "\n",
    "\n",
    "To use SMOTE we must remove np.infs and NaNs,\n",
    "  - So we initially drop columns with less than 80% non-NA values.\n",
    "  - Then, we drop rows containing NaN values\n",
    "\n",
    "Using this resulted in a higher performance on balanced score measures than\n",
    "keeping NaNs and not using SMOTE.\n"
   ],
   "metadata": {
    "collapsed": false
   }
  },
  {
   "cell_type": "code",
   "execution_count": 26,
   "outputs": [],
   "source": [
    "high_NA_columns = train.columns[train.isnull().sum()/len(train)>0.2]\n",
    "## We need train_na asa separate DF for further processing.\n",
    "train_na = train.drop(high_NA_columns, axis=1)\n",
    "test= test.drop(high_NA_columns, axis=1)\n",
    "dev_test = dev_test.drop(high_NA_columns, axis=1)"
   ],
   "metadata": {
    "collapsed": false,
    "pycharm": {
     "name": "#%%\n"
    }
   }
  },
  {
   "cell_type": "code",
   "execution_count": 27,
   "outputs": [
    {
     "data": {
      "text/plain": "<Figure size 432x288 with 1 Axes>",
      "image/png": "[encoded data removed]"
     },
     "metadata": {
      "needs_background": "light"
     },
     "output_type": "display_data"
    }
   ],
   "source": [
    "# nulls = train_na.isnull().sum()/len(train_na) #as a percentage\n",
    "# nulls.sort_values(ascending=False)\n",
    "# # nulls.sort_values(ascending=False).plot.barh(title='NaN as a %')\n",
    "\n",
    "nulls = train_na.isnull().sum()/len(train_na) #as a percentage\n",
    "nulls[nulls.values > 0].sort_values(ascending=False).plot.bar()\n",
    "plt.title('Columns with non-zero NaN %')\n",
    "plt.ylabel('NaNs as %')\n",
    "plt.show()\n",
    "\n",
    "train_no_na = train_na[~train_na.isin([np.nan, np.inf, -np.inf]).any(1)]\n"
   ],
   "metadata": {
    "collapsed": false,
    "pycharm": {
     "name": "#%%\n"
    }
   }
  },
  {
   "cell_type": "markdown",
   "source": [
    "### Outlier removal\n",
    "\n",
    "Since we are using ensemble tree methods that are robust to\n",
    "outliers we choose not to perform outlier removal. Doing it in a\n",
    "feature agnostic manner would destroy information on anomalies and doing\n",
    "so otherwise would require pruning each column."
   ],
   "metadata": {
    "collapsed": false
   }
  },
  {
   "cell_type": "markdown",
   "source": [
    "### Feature engineering (Creation)\n",
    "##### Splitting email domains\n",
    "       - Domain name of an email looks like important feature and we extracted the domain\n",
    "         from\n",
    "##### Checking decimals in the transaction Amount\n",
    "##### Extracting device info\n",
    "      - device name\n",
    "          Extaction\n",
    "          Correction\n",
    "      - device version\n",
    "      - Operating system ID\n",
    "      - Operating system version\n",
    "      - browser ID\n",
    "      - browser version\n",
    "      - screen width\n",
    "      - screen height\n",
    "\n",
    "#### Aggregating columns to generate new features\n",
    "      Generating new features by dividing certain numerical features by calculating\n",
    "      certain groups' mean or std value of different features\n",
    "#### Changing data types of categorical columns to category\n",
    "      Generating new features to make sure that every cell has only one value,\n",
    "      such as splitting “id_30” into “screen_width” and “screen_height”\n",
    "#### Converting M columns to 1 and 0\n",
    "      Replacing the values of M columns- object features to 0 and 1\n",
    "#### Transaction Amount Transformations\n",
    "      Generating new features to get the number of decimal places in the transaction amount,\n",
    "      the decimal value of the transaction amount and the logarithm of transaction amount"
   ],
   "metadata": {
    "collapsed": false
   }
  },
  {
   "cell_type": "markdown",
   "source": [
    "### Class Balancing\n",
    "To perform class balancing we use SMOTE from Imbalanced Learn, to create samples\n",
    "of minority data."
   ],
   "metadata": {
    "collapsed": false
   }
  },
  {
   "cell_type": "code",
   "execution_count": 28,
   "outputs": [],
   "source": [
    "# Class balancing only for train data for comparing it later on.\n",
    "\n",
    "train_no_na = train_na[~train_na.isin([np.nan, np.inf, -np.inf]).any(1)]\n",
    "test = test[~test.isin([np.nan, np.inf, -np.inf]).any(1)]\n",
    "dev_test = dev_test[~dev_test.isin([np.nan, np.inf, -np.inf]).any(1)]\n",
    "# train_no_na = train_no_na._get_numeric_data()\n",
    "X_train, y_train = train_no_na.drop('isFraud',axis = 1), train_no_na['isFraud']\n",
    "oversample = over_sampling.SMOTE()\n",
    "X_train, y_train = oversample.fit_resample(X_train, y_train)\n",
    "X_train.drop('TransactionID', axis=1, inplace = True)\n",
    "\n",
    "# Dev test data for model checking\n",
    "X_test, y_test = dev_test.drop(['isFraud', 'TransactionID'], axis = 1), dev_test['isFraud']\n"
   ],
   "metadata": {
    "collapsed": false,
    "pycharm": {
     "name": "#%%\n"
    }
   }
  },
  {
   "cell_type": "code",
   "execution_count": 29,
   "outputs": [
    {
     "data": {
      "text/plain": "<Figure size 432x288 with 1 Axes>",
      "image/png": "[encoded data removed]"
     },
     "metadata": {
      "needs_background": "light"
     },
     "output_type": "display_data"
    }
   ],
   "source": [
    "y_train.value_counts(normalize = True).plot(kind= 'barh')\n",
    "plt.title('% of class')\n",
    "plt.ylabel('isFraud (1 = Fraud)')\n",
    "plt.show()"
   ],
   "metadata": {
    "collapsed": false,
    "pycharm": {
     "name": "#%%\n"
    }
   }
  },
  {
   "cell_type": "markdown",
   "source": [
    "## Model Creation & Fitting\n",
    "### Individual models"
   ],
   "metadata": {
    "collapsed": false
   }
  },
  {
   "cell_type": "markdown",
   "source": [
    "#### XGBoost model fitting"
   ],
   "metadata": {
    "collapsed": false
   }
  },
  {
   "cell_type": "code",
   "execution_count": 30,
   "outputs": [],
   "source": [
    "from sklearn.metrics import accuracy_score\n",
    "\n",
    "import xgboost as xgb\n",
    "\n",
    "xgb_cl = xgb.XGBClassifier(\n",
    "    # tree_method='gpu_hist', gpu_id=0,\n",
    "    # max_depth = 10,\n",
    "    n_estimators=500,\n",
    "    learning_rate = 0.01\n",
    "    )\n",
    "eval_set  = [(X_train, y_train), (X_test, y_test)]\n",
    "\n",
    "xgb_cl.fit(X_train, y_train,\n",
    "           eval_set = eval_set,\n",
    "           eval_metric = 'auc',\n",
    "           verbose=False,\n",
    "           early_stopping_rounds=10,\n",
    "           )\n",
    "\n",
    "preds = xgb_cl.predict(X_test)\n",
    "accuracy_score(y_test, preds)\n",
    "xgb_cl.save_model(\"xgb.json\")"
   ],
   "metadata": {
    "collapsed": false,
    "pycharm": {
     "name": "#%%\n"
    }
   }
  },
  {
   "cell_type": "code",
   "execution_count": 31,
   "outputs": [
    {
     "data": {
      "text/plain": "0.9773168382843174"
     },
     "execution_count": 31,
     "metadata": {},
     "output_type": "execute_result"
    }
   ],
   "source": [
    "accuracy_score(y_test, preds)"
   ],
   "metadata": {
    "collapsed": false,
    "pycharm": {
     "name": "#%%\n"
    }
   }
  },
  {
   "cell_type": "code",
   "execution_count": 32,
   "outputs": [
    {
     "data": {
      "text/plain": "<sklearn.metrics._plot.confusion_matrix.ConfusionMatrixDisplay at 0x2b0f0447e80>"
     },
     "execution_count": 32,
     "metadata": {},
     "output_type": "execute_result"
    },
    {
     "data": {
      "text/plain": "<Figure size 432x288 with 2 Axes>",
      "image/png": "[encoded data removed]"
     },
     "metadata": {
      "needs_background": "light"
     },
     "output_type": "display_data"
    }
   ],
   "source": [
    "from sklearn.metrics import ConfusionMatrixDisplay\n",
    "ConfusionMatrixDisplay.from_predictions(y_test, preds,normalize='true')"
   ],
   "metadata": {
    "collapsed": false,
    "pycharm": {
     "name": "#%%\n"
    }
   }
  },
  {
   "cell_type": "markdown",
   "source": [
    "#### XGBoost tuning"
   ],
   "metadata": {
    "collapsed": false,
    "pycharm": {
     "name": "#%% md\n"
    }
   }
  },
  {
   "cell_type": "code",
   "execution_count": null,
   "outputs": [],
   "source": [
    "from sklearn.model_selection import RandomizedSearchCV\n",
    "from sklearn.model_selection import GridSearchCV\n",
    "\n",
    "import xgboost as xgb\n",
    "\n",
    "xgb_cl = xgb.XGBClassifier(\n",
    "    # tree_method='gpu_hist', gpu_id=0\n",
    "    )\n",
    "params = { 'max_depth': [3, 5, 10, 15],\n",
    "           'learning_rate': [0.01, 0.1],\n",
    "           'subsample': np.arange(0.4, 1.0, 0.2),\n",
    "           'colsample_bytree': np.arange(0.4, 1.0, 0.2),\n",
    "           'colsample_bylevel': np.arange(0.4, 1.0, 0.2),\n",
    "           'n_estimators': [100, 500, 1000]\n",
    "\n",
    "          }\n",
    "fit_params = {\n",
    "          'early_stopping_rounds': 10,\n",
    "          'eval_set' : eval_set,\n",
    "          'eval_metric': 'auc',\n",
    "          'verbose': True\n",
    "}\n",
    "\n",
    "clf = RandomizedSearchCV(estimator=xgb_cl,\n",
    "                         param_distributions=params,\n",
    "                         n_jobs = -1,\n",
    "                          scoring='roc_auc',\n",
    "                         n_iter=5,\n",
    "                        #  verbose=3\n",
    "                         )\n",
    "\n",
    "search = clf.fit(X_train, y_train,**fit_params)\n",
    "# path = '/content/drive/MyDrive/Python/ID5059-GroupProject/'\n",
    "# clf.best_estimator_.save_model(path + 'optim_xgb.json')\n",
    "clf.best_estimator_.save_model('optim_xgb.json')\n",
    "preds_optimised = clf.predict(X_test)"
   ],
   "metadata": {
    "collapsed": false,
    "pycharm": {
     "name": "#%%\n"
    }
   }
  },
  {
   "cell_type": "markdown",
   "source": [
    "### Random forest"
   ],
   "metadata": {
    "collapsed": false,
    "pycharm": {
     "name": "#%% md\n"
    }
   }
  },
  {
   "cell_type": "code",
   "execution_count": null,
   "outputs": [],
   "source": [
    "\n",
    "# from sklearn.ensemble import RandomForestClassifier, BaggingClassifier\n",
    "# from sklearn.model_selection import GridSearchCV\n",
    "# # Create a base model\n",
    "# rf = RandomForestClassifier(n_estimators= 100, max_depth = 2, oob_score = True, random_state = 10000)\n",
    "# # Create a parameter grid to conduct a grid search for hyperparameters\n",
    "# param_grid = { 'bootstrap' : [True],\n",
    "#            'max_depth': [3, 5, 6, 10, 15, 20],\n",
    "#            'n_estimators': [100, 500, 1000]}\n",
    "# # Instantiate the grid search model\n",
    "# grid_search = GridSearchCV(estimator = rf, param_grid = param_grid, cv = 2, n_jobs = -1, verbose = 0)\n",
    "# # Fit the grid search to the data and calculate its oob score\n",
    "# grid_search.fit(X_train, y_train)\n",
    "# grid_search.best_params_"
   ],
   "metadata": {
    "collapsed": false,
    "pycharm": {
     "name": "#%%\n",
     "is_executing": true
    }
   }
  },
  {
   "cell_type": "code",
   "execution_count": 31,
   "outputs": [
    {
     "name": "stdout",
     "output_type": "stream",
     "text": [
      "AUC = 0.6706481060834326\n"
     ]
    }
   ],
   "source": [
    "from sklearn.ensemble import RandomForestClassifier\n",
    "from sklearn.metrics import roc_auc_score\n",
    "\n",
    "# Create a random forest classifier model with the best hypermarket fits\n",
    "rf_final = RandomForestClassifier(n_estimators = 100, max_depth = 5, n_jobs = -1, oob_score = True, random_state = 10000)\n",
    "rf_final = rf_final.fit(X_train, y_train)\n",
    "y_pred = rf_final.predict(X_test)\n",
    "score = roc_auc_score(y_test, y_pred)\n",
    "# Print AUC score\n",
    "print(f\"AUC = {score}\")"
   ],
   "metadata": {
    "collapsed": false,
    "pycharm": {
     "name": "#%%\n"
    }
   }
  },
  {
   "cell_type": "code",
   "execution_count": 34,
   "outputs": [
    {
     "data": {
      "text/plain": "<sklearn.metrics._plot.confusion_matrix.ConfusionMatrixDisplay at 0x2b0ef735580>"
     },
     "execution_count": 34,
     "metadata": {},
     "output_type": "execute_result"
    },
    {
     "data": {
      "text/plain": "<Figure size 432x288 with 2 Axes>",
      "image/png": "[encoded data removed]"
     },
     "metadata": {
      "needs_background": "light"
     },
     "output_type": "display_data"
    }
   ],
   "source": [
    "ConfusionMatrixDisplay.from_predictions(y_test, y_pred,normalize='true')"
   ],
   "metadata": {
    "collapsed": false,
    "pycharm": {
     "name": "#%%\n"
    }
   }
  },
  {
   "cell_type": "markdown",
   "source": [
    "## Bagging Classifier"
   ],
   "metadata": {
    "collapsed": false,
    "pycharm": {
     "name": "#%% md\n"
    }
   }
  },
  {
   "cell_type": "code",
   "execution_count": null,
   "outputs": [],
   "source": [
    "# Model Tuning\n",
    "from sklearn.ensemble import BaggingClassifier\n",
    "from sklearn.model_selection import GridSearchCV\n",
    "from random import  sample\n",
    "# param_grid = [\n",
    "#   {'base_estimator__max_depth' : [1, 3, 5, 7, None],\n",
    "#    'base_estimator__min_samples_split' : [0.01, 2],\n",
    "#    'base_estimator__min_samples_leaf' : [0.01, 2]\n",
    "#    }\n",
    "#  ]\n",
    "# ind = sample(range(len(X_train)), 10000)\n",
    "#\n",
    "# from sklearn.tree import DecisionTreeClassifier\n",
    "# tree = DecisionTreeClassifier(max_features='auto',\n",
    "#                               ccp_alpha=0.0015,\n",
    "#                               )\n",
    "# bag = BaggingClassifier(base_estimator = tree,\n",
    "#                         n_estimators=1000,\n",
    "#                         max_samples=0.6,\n",
    "#                         oob_score=True,\n",
    "#                         n_jobs=-1\n",
    "#                         )\n",
    "# score = \"roc_auc\"\n",
    "# bag_clf = GridSearchCV(bag,\n",
    "#                        param_grid,\n",
    "#                        scoring=score,\n",
    "#                        n_jobs = -1)\n",
    "# bag_clf.fit(X_train.iloc[ind], y_train.iloc[ind])\n",
    "# print(\"Best parameters set found on development set:\")\n",
    "# print(bag_clf.best_params_)\n",
    "# print(\"Grid scores on development set:\")\n",
    "# means = bag_clf.cv_results_[\"mean_test_score\"]\n",
    "# stds = bag_clf.cv_results_[\"std_test_score\"]\n",
    "# for mean, std, params in zip(means, stds, bag_clf.cv_results_[\"params\"]):\n",
    "#     print(\"%0.3f (+/-%0.03f) for %r\" % (mean, std * 2, params))"
   ],
   "metadata": {
    "collapsed": false,
    "pycharm": {
     "name": "#%%\n"
    }
   }
  },
  {
   "cell_type": "code",
   "execution_count": 32,
   "outputs": [
    {
     "name": "stdout",
     "output_type": "stream",
     "text": [
      "AUC = 0.661838283604498\n"
     ]
    }
   ],
   "source": [
    "from random import sample\n",
    "# Predictions\n",
    "ind = sample(range(len(X_train)), 10000)\n",
    "from sklearn.ensemble import BaggingClassifier\n",
    "from sklearn.tree import DecisionTreeClassifier\n",
    "# The below parameters are the optimal parameters from GridSearchCV\n",
    "tree = DecisionTreeClassifier(max_features='auto',\n",
    "                              ccp_alpha=0.0015,\n",
    "                              max_depth=7,\n",
    "                              min_samples_leaf=0.01\n",
    "                              )\n",
    "bag_clf = BaggingClassifier(base_estimator = tree,\n",
    "                        n_estimators=1000,\n",
    "                        max_samples=0.6,\n",
    "                        oob_score=True,\n",
    "                        n_jobs=-1\n",
    "                        )\n",
    "bag_clf.fit(X_train.iloc[ind], y_train.iloc[ind])\n",
    "y_pred = bag_clf.predict(X_test)\n",
    "score = roc_auc_score(y_test, y_pred)\n",
    "# Print AUC score\n",
    "print(f\"AUC = {score}\")"
   ],
   "metadata": {
    "collapsed": false,
    "pycharm": {
     "name": "#%%\n"
    }
   }
  },
  {
   "cell_type": "code",
   "execution_count": 37,
   "outputs": [
    {
     "data": {
      "text/plain": "<sklearn.metrics._plot.confusion_matrix.ConfusionMatrixDisplay at 0x2b0ef8e54f0>"
     },
     "execution_count": 37,
     "metadata": {},
     "output_type": "execute_result"
    },
    {
     "data": {
      "text/plain": "<Figure size 432x288 with 2 Axes>",
      "image/png": "[encoded data removed]"
     },
     "metadata": {
      "needs_background": "light"
     },
     "output_type": "display_data"
    }
   ],
   "source": [
    "ConfusionMatrixDisplay.from_predictions(y_test, y_pred,normalize='true')"
   ],
   "metadata": {
    "collapsed": false,
    "pycharm": {
     "name": "#%%\n"
    }
   }
  },
  {
   "cell_type": "markdown",
   "source": [
    "### Light Gradient Boosting Machine (LGBM)"
   ],
   "metadata": {
    "collapsed": false,
    "pycharm": {
     "name": "#%% md\n"
    }
   }
  },
  {
   "cell_type": "code",
   "execution_count": 33,
   "outputs": [
    {
     "name": "stdout",
     "output_type": "stream",
     "text": [
      "[LightGBM] [Warning] Find whitespaces in feature_names, replace with underlines\n",
      "[LightGBM] [Info] Number of positive: 270230, number of negative: 270230\n",
      "[LightGBM] [Warning] Auto-choosing row-wise multi-threading, the overhead of testing was 0.112457 seconds.\n",
      "You can set `force_row_wise=true` to remove the overhead.\n",
      "And if memory is not enough, you can set `force_col_wise=true`.\n",
      "[LightGBM] [Info] Total Bins 24893\n",
      "[LightGBM] [Info] Number of data points in the train set: 540460, number of used features: 116\n",
      "[LightGBM] [Warning] Find whitespaces in feature_names, replace with underlines\n",
      "[LightGBM] [Info] [binary:BoostFromScore]: pavg=0.500000 -> initscore=0.000000\n",
      "[1]\ttraining's auc: 0.983862\tvalid_1's auc: 0.771955\n",
      "[2]\ttraining's auc: 0.991206\tvalid_1's auc: 0.822493\n",
      "[3]\ttraining's auc: 0.993494\tvalid_1's auc: 0.829595\n",
      "[4]\ttraining's auc: 0.994221\tvalid_1's auc: 0.833124\n",
      "[5]\ttraining's auc: 0.994577\tvalid_1's auc: 0.835605\n",
      "[6]\ttraining's auc: 0.995222\tvalid_1's auc: 0.843672\n",
      "[7]\ttraining's auc: 0.995437\tvalid_1's auc: 0.841582\n",
      "[8]\ttraining's auc: 0.995707\tvalid_1's auc: 0.847822\n",
      "[9]\ttraining's auc: 0.995784\tvalid_1's auc: 0.849155\n",
      "[10]\ttraining's auc: 0.995944\tvalid_1's auc: 0.852132\n",
      "[11]\ttraining's auc: 0.996049\tvalid_1's auc: 0.85296\n",
      "[12]\ttraining's auc: 0.996092\tvalid_1's auc: 0.853463\n",
      "[13]\ttraining's auc: 0.99617\tvalid_1's auc: 0.855718\n",
      "[14]\ttraining's auc: 0.996203\tvalid_1's auc: 0.855786\n",
      "[15]\ttraining's auc: 0.996226\tvalid_1's auc: 0.857162\n",
      "[16]\ttraining's auc: 0.996296\tvalid_1's auc: 0.856459\n",
      "[17]\ttraining's auc: 0.996307\tvalid_1's auc: 0.857315\n",
      "[18]\ttraining's auc: 0.996474\tvalid_1's auc: 0.858732\n",
      "[19]\ttraining's auc: 0.996458\tvalid_1's auc: 0.858155\n",
      "[20]\ttraining's auc: 0.996454\tvalid_1's auc: 0.858932\n",
      "[21]\ttraining's auc: 0.99648\tvalid_1's auc: 0.859472\n",
      "[22]\ttraining's auc: 0.996493\tvalid_1's auc: 0.860355\n",
      "[23]\ttraining's auc: 0.996533\tvalid_1's auc: 0.860436\n",
      "[24]\ttraining's auc: 0.996519\tvalid_1's auc: 0.860468\n",
      "[25]\ttraining's auc: 0.996585\tvalid_1's auc: 0.860964\n",
      "[26]\ttraining's auc: 0.996586\tvalid_1's auc: 0.860575\n",
      "[27]\ttraining's auc: 0.996599\tvalid_1's auc: 0.86136\n",
      "[28]\ttraining's auc: 0.996654\tvalid_1's auc: 0.861773\n",
      "[29]\ttraining's auc: 0.99663\tvalid_1's auc: 0.861386\n",
      "[30]\ttraining's auc: 0.996653\tvalid_1's auc: 0.862101\n",
      "[31]\ttraining's auc: 0.996654\tvalid_1's auc: 0.862692\n",
      "[32]\ttraining's auc: 0.996632\tvalid_1's auc: 0.862312\n",
      "[33]\ttraining's auc: 0.996648\tvalid_1's auc: 0.862772\n",
      "[34]\ttraining's auc: 0.996653\tvalid_1's auc: 0.863097\n",
      "[35]\ttraining's auc: 0.996663\tvalid_1's auc: 0.863319\n",
      "[36]\ttraining's auc: 0.996718\tvalid_1's auc: 0.86389\n",
      "[37]\ttraining's auc: 0.996717\tvalid_1's auc: 0.863867\n",
      "[38]\ttraining's auc: 0.99672\tvalid_1's auc: 0.863869\n",
      "[39]\ttraining's auc: 0.996738\tvalid_1's auc: 0.864112\n",
      "[40]\ttraining's auc: 0.996742\tvalid_1's auc: 0.863872\n",
      "[41]\ttraining's auc: 0.996802\tvalid_1's auc: 0.864305\n",
      "[42]\ttraining's auc: 0.99683\tvalid_1's auc: 0.864795\n",
      "[43]\ttraining's auc: 0.996827\tvalid_1's auc: 0.865015\n",
      "[44]\ttraining's auc: 0.996825\tvalid_1's auc: 0.865244\n",
      "[45]\ttraining's auc: 0.996847\tvalid_1's auc: 0.866144\n",
      "[46]\ttraining's auc: 0.996847\tvalid_1's auc: 0.866245\n",
      "[47]\ttraining's auc: 0.996838\tvalid_1's auc: 0.866129\n",
      "[48]\ttraining's auc: 0.996828\tvalid_1's auc: 0.866151\n",
      "[49]\ttraining's auc: 0.996831\tvalid_1's auc: 0.866215\n",
      "[50]\ttraining's auc: 0.996831\tvalid_1's auc: 0.866479\n",
      "[51]\ttraining's auc: 0.99684\tvalid_1's auc: 0.866371\n",
      "[52]\ttraining's auc: 0.996837\tvalid_1's auc: 0.866509\n",
      "[53]\ttraining's auc: 0.996851\tvalid_1's auc: 0.866609\n",
      "[54]\ttraining's auc: 0.996848\tvalid_1's auc: 0.866526\n",
      "[55]\ttraining's auc: 0.996853\tvalid_1's auc: 0.866476\n",
      "[56]\ttraining's auc: 0.996865\tvalid_1's auc: 0.866637\n",
      "[57]\ttraining's auc: 0.996886\tvalid_1's auc: 0.866841\n",
      "[58]\ttraining's auc: 0.996904\tvalid_1's auc: 0.86701\n",
      "[59]\ttraining's auc: 0.996901\tvalid_1's auc: 0.867315\n",
      "[60]\ttraining's auc: 0.996914\tvalid_1's auc: 0.867538\n",
      "[61]\ttraining's auc: 0.996905\tvalid_1's auc: 0.867438\n",
      "[62]\ttraining's auc: 0.996903\tvalid_1's auc: 0.8674\n",
      "[63]\ttraining's auc: 0.996897\tvalid_1's auc: 0.867448\n",
      "[64]\ttraining's auc: 0.996904\tvalid_1's auc: 0.867441\n",
      "[65]\ttraining's auc: 0.996931\tvalid_1's auc: 0.867422\n",
      "[66]\ttraining's auc: 0.996935\tvalid_1's auc: 0.867518\n",
      "[67]\ttraining's auc: 0.996937\tvalid_1's auc: 0.867646\n",
      "[68]\ttraining's auc: 0.996929\tvalid_1's auc: 0.867672\n",
      "[69]\ttraining's auc: 0.996931\tvalid_1's auc: 0.867867\n",
      "[70]\ttraining's auc: 0.996945\tvalid_1's auc: 0.868138\n",
      "[71]\ttraining's auc: 0.996955\tvalid_1's auc: 0.868462\n",
      "[72]\ttraining's auc: 0.996962\tvalid_1's auc: 0.868474\n",
      "[73]\ttraining's auc: 0.99696\tvalid_1's auc: 0.868545\n",
      "[74]\ttraining's auc: 0.996974\tvalid_1's auc: 0.869069\n",
      "[75]\ttraining's auc: 0.996989\tvalid_1's auc: 0.869208\n",
      "[76]\ttraining's auc: 0.996989\tvalid_1's auc: 0.869283\n",
      "[77]\ttraining's auc: 0.996998\tvalid_1's auc: 0.869442\n",
      "[78]\ttraining's auc: 0.996995\tvalid_1's auc: 0.869437\n",
      "[79]\ttraining's auc: 0.997013\tvalid_1's auc: 0.869364\n",
      "[80]\ttraining's auc: 0.997021\tvalid_1's auc: 0.869485\n",
      "[81]\ttraining's auc: 0.997021\tvalid_1's auc: 0.869459\n",
      "[82]\ttraining's auc: 0.997068\tvalid_1's auc: 0.869578\n",
      "[83]\ttraining's auc: 0.997084\tvalid_1's auc: 0.869696\n",
      "[84]\ttraining's auc: 0.997086\tvalid_1's auc: 0.869671\n",
      "[85]\ttraining's auc: 0.997087\tvalid_1's auc: 0.869636\n",
      "[86]\ttraining's auc: 0.997089\tvalid_1's auc: 0.869734\n",
      "[87]\ttraining's auc: 0.997089\tvalid_1's auc: 0.869838\n",
      "[88]\ttraining's auc: 0.997122\tvalid_1's auc: 0.870026\n",
      "[89]\ttraining's auc: 0.997132\tvalid_1's auc: 0.870308\n",
      "[90]\ttraining's auc: 0.997148\tvalid_1's auc: 0.870377\n",
      "[91]\ttraining's auc: 0.997159\tvalid_1's auc: 0.870405\n",
      "[92]\ttraining's auc: 0.997159\tvalid_1's auc: 0.870405\n",
      "[93]\ttraining's auc: 0.997157\tvalid_1's auc: 0.870389\n",
      "[94]\ttraining's auc: 0.997158\tvalid_1's auc: 0.870413\n",
      "[95]\ttraining's auc: 0.99717\tvalid_1's auc: 0.870668\n",
      "[96]\ttraining's auc: 0.997167\tvalid_1's auc: 0.870524\n",
      "[97]\ttraining's auc: 0.997177\tvalid_1's auc: 0.87074\n",
      "[98]\ttraining's auc: 0.997177\tvalid_1's auc: 0.870877\n",
      "[99]\ttraining's auc: 0.997184\tvalid_1's auc: 0.870969\n",
      "[100]\ttraining's auc: 0.997184\tvalid_1's auc: 0.870971\n",
      "[101]\ttraining's auc: 0.997194\tvalid_1's auc: 0.871064\n",
      "[102]\ttraining's auc: 0.997191\tvalid_1's auc: 0.871078\n",
      "[103]\ttraining's auc: 0.997194\tvalid_1's auc: 0.8712\n",
      "[104]\ttraining's auc: 0.997202\tvalid_1's auc: 0.871329\n",
      "[105]\ttraining's auc: 0.997207\tvalid_1's auc: 0.871467\n",
      "[106]\ttraining's auc: 0.997208\tvalid_1's auc: 0.871363\n",
      "[107]\ttraining's auc: 0.997237\tvalid_1's auc: 0.871386\n",
      "[108]\ttraining's auc: 0.997241\tvalid_1's auc: 0.871615\n",
      "[109]\ttraining's auc: 0.997241\tvalid_1's auc: 0.871579\n",
      "[110]\ttraining's auc: 0.997251\tvalid_1's auc: 0.87183\n",
      "[111]\ttraining's auc: 0.997256\tvalid_1's auc: 0.871757\n",
      "[112]\ttraining's auc: 0.997283\tvalid_1's auc: 0.871975\n",
      "[113]\ttraining's auc: 0.997287\tvalid_1's auc: 0.871917\n",
      "[114]\ttraining's auc: 0.997291\tvalid_1's auc: 0.871971\n",
      "[115]\ttraining's auc: 0.997298\tvalid_1's auc: 0.872407\n",
      "[116]\ttraining's auc: 0.997314\tvalid_1's auc: 0.872697\n",
      "[117]\ttraining's auc: 0.997329\tvalid_1's auc: 0.872652\n",
      "[118]\ttraining's auc: 0.997339\tvalid_1's auc: 0.872828\n",
      "[119]\ttraining's auc: 0.997342\tvalid_1's auc: 0.872874\n",
      "[120]\ttraining's auc: 0.997355\tvalid_1's auc: 0.872856\n",
      "[121]\ttraining's auc: 0.997376\tvalid_1's auc: 0.872948\n",
      "[122]\ttraining's auc: 0.99738\tvalid_1's auc: 0.872924\n",
      "[123]\ttraining's auc: 0.997401\tvalid_1's auc: 0.873162\n",
      "[124]\ttraining's auc: 0.997404\tvalid_1's auc: 0.873206\n",
      "[125]\ttraining's auc: 0.997409\tvalid_1's auc: 0.873199\n",
      "[126]\ttraining's auc: 0.997413\tvalid_1's auc: 0.873329\n",
      "[127]\ttraining's auc: 0.99742\tvalid_1's auc: 0.873351\n",
      "[128]\ttraining's auc: 0.997425\tvalid_1's auc: 0.8734\n",
      "[129]\ttraining's auc: 0.997427\tvalid_1's auc: 0.873405\n",
      "[130]\ttraining's auc: 0.997429\tvalid_1's auc: 0.873382\n",
      "[131]\ttraining's auc: 0.997439\tvalid_1's auc: 0.873541\n",
      "[132]\ttraining's auc: 0.997444\tvalid_1's auc: 0.873662\n",
      "[133]\ttraining's auc: 0.997446\tvalid_1's auc: 0.873683\n",
      "[134]\ttraining's auc: 0.997466\tvalid_1's auc: 0.873877\n",
      "[135]\ttraining's auc: 0.997473\tvalid_1's auc: 0.874134\n",
      "[136]\ttraining's auc: 0.997479\tvalid_1's auc: 0.87437\n",
      "[137]\ttraining's auc: 0.99748\tvalid_1's auc: 0.874402\n",
      "[138]\ttraining's auc: 0.997478\tvalid_1's auc: 0.874364\n",
      "[139]\ttraining's auc: 0.997488\tvalid_1's auc: 0.874562\n",
      "[140]\ttraining's auc: 0.99749\tvalid_1's auc: 0.87467\n",
      "[141]\ttraining's auc: 0.997491\tvalid_1's auc: 0.87463\n",
      "[142]\ttraining's auc: 0.997493\tvalid_1's auc: 0.874541\n",
      "[143]\ttraining's auc: 0.997497\tvalid_1's auc: 0.874475\n",
      "[144]\ttraining's auc: 0.997509\tvalid_1's auc: 0.87476\n",
      "[145]\ttraining's auc: 0.997523\tvalid_1's auc: 0.875052\n",
      "[146]\ttraining's auc: 0.997534\tvalid_1's auc: 0.875135\n",
      "[147]\ttraining's auc: 0.997533\tvalid_1's auc: 0.875114\n",
      "[148]\ttraining's auc: 0.997542\tvalid_1's auc: 0.875232\n",
      "[149]\ttraining's auc: 0.997547\tvalid_1's auc: 0.875423\n",
      "[150]\ttraining's auc: 0.997558\tvalid_1's auc: 0.875578\n",
      "[151]\ttraining's auc: 0.997558\tvalid_1's auc: 0.875483\n",
      "[152]\ttraining's auc: 0.997561\tvalid_1's auc: 0.875357\n",
      "[153]\ttraining's auc: 0.997566\tvalid_1's auc: 0.8755\n",
      "[154]\ttraining's auc: 0.99757\tvalid_1's auc: 0.875552\n",
      "[155]\ttraining's auc: 0.997581\tvalid_1's auc: 0.875538\n",
      "[156]\ttraining's auc: 0.997585\tvalid_1's auc: 0.875517\n",
      "[157]\ttraining's auc: 0.997592\tvalid_1's auc: 0.875808\n",
      "[158]\ttraining's auc: 0.997595\tvalid_1's auc: 0.875877\n",
      "[159]\ttraining's auc: 0.997603\tvalid_1's auc: 0.876022\n",
      "[160]\ttraining's auc: 0.997621\tvalid_1's auc: 0.876059\n",
      "[161]\ttraining's auc: 0.997621\tvalid_1's auc: 0.876109\n",
      "[162]\ttraining's auc: 0.99763\tvalid_1's auc: 0.876346\n",
      "[163]\ttraining's auc: 0.99763\tvalid_1's auc: 0.876206\n",
      "[164]\ttraining's auc: 0.997635\tvalid_1's auc: 0.876255\n",
      "[165]\ttraining's auc: 0.997636\tvalid_1's auc: 0.876209\n",
      "[166]\ttraining's auc: 0.997643\tvalid_1's auc: 0.876349\n",
      "[167]\ttraining's auc: 0.997643\tvalid_1's auc: 0.876248\n",
      "[168]\ttraining's auc: 0.997644\tvalid_1's auc: 0.876199\n",
      "[169]\ttraining's auc: 0.997647\tvalid_1's auc: 0.876367\n",
      "[170]\ttraining's auc: 0.997649\tvalid_1's auc: 0.876465\n",
      "[171]\ttraining's auc: 0.997666\tvalid_1's auc: 0.87648\n",
      "[172]\ttraining's auc: 0.99767\tvalid_1's auc: 0.876551\n",
      "[173]\ttraining's auc: 0.997684\tvalid_1's auc: 0.876724\n",
      "[174]\ttraining's auc: 0.997693\tvalid_1's auc: 0.876682\n",
      "[175]\ttraining's auc: 0.997695\tvalid_1's auc: 0.876671\n",
      "[176]\ttraining's auc: 0.997701\tvalid_1's auc: 0.876859\n",
      "[177]\ttraining's auc: 0.997715\tvalid_1's auc: 0.877095\n",
      "[178]\ttraining's auc: 0.997718\tvalid_1's auc: 0.877089\n",
      "[179]\ttraining's auc: 0.997722\tvalid_1's auc: 0.877123\n",
      "[180]\ttraining's auc: 0.997726\tvalid_1's auc: 0.877286\n",
      "[181]\ttraining's auc: 0.997728\tvalid_1's auc: 0.877352\n",
      "[182]\ttraining's auc: 0.997736\tvalid_1's auc: 0.877475\n",
      "[183]\ttraining's auc: 0.997743\tvalid_1's auc: 0.877633\n",
      "[184]\ttraining's auc: 0.997744\tvalid_1's auc: 0.877752\n",
      "[185]\ttraining's auc: 0.997746\tvalid_1's auc: 0.877716\n",
      "[186]\ttraining's auc: 0.997749\tvalid_1's auc: 0.877841\n",
      "[187]\ttraining's auc: 0.997757\tvalid_1's auc: 0.877845\n",
      "[188]\ttraining's auc: 0.997764\tvalid_1's auc: 0.877991\n",
      "[189]\ttraining's auc: 0.997766\tvalid_1's auc: 0.878012\n",
      "[190]\ttraining's auc: 0.997774\tvalid_1's auc: 0.878259\n",
      "[191]\ttraining's auc: 0.997781\tvalid_1's auc: 0.878434\n",
      "[192]\ttraining's auc: 0.997787\tvalid_1's auc: 0.878571\n",
      "[193]\ttraining's auc: 0.997791\tvalid_1's auc: 0.878606\n",
      "[194]\ttraining's auc: 0.997793\tvalid_1's auc: 0.878639\n",
      "[195]\ttraining's auc: 0.997795\tvalid_1's auc: 0.878652\n",
      "[196]\ttraining's auc: 0.997808\tvalid_1's auc: 0.87886\n",
      "[197]\ttraining's auc: 0.997814\tvalid_1's auc: 0.878978\n",
      "[198]\ttraining's auc: 0.997824\tvalid_1's auc: 0.879112\n",
      "[199]\ttraining's auc: 0.997829\tvalid_1's auc: 0.879157\n",
      "[200]\ttraining's auc: 0.997832\tvalid_1's auc: 0.879239\n",
      "[201]\ttraining's auc: 0.997835\tvalid_1's auc: 0.879204\n",
      "[202]\ttraining's auc: 0.997847\tvalid_1's auc: 0.879112\n",
      "[203]\ttraining's auc: 0.997849\tvalid_1's auc: 0.879192\n",
      "[204]\ttraining's auc: 0.997857\tvalid_1's auc: 0.879295\n",
      "[205]\ttraining's auc: 0.99786\tvalid_1's auc: 0.879481\n",
      "[206]\ttraining's auc: 0.997863\tvalid_1's auc: 0.879506\n",
      "[207]\ttraining's auc: 0.997869\tvalid_1's auc: 0.879554\n",
      "[208]\ttraining's auc: 0.99787\tvalid_1's auc: 0.879641\n",
      "[209]\ttraining's auc: 0.997881\tvalid_1's auc: 0.879773\n",
      "[210]\ttraining's auc: 0.997889\tvalid_1's auc: 0.879845\n",
      "[211]\ttraining's auc: 0.997893\tvalid_1's auc: 0.879902\n",
      "[212]\ttraining's auc: 0.997897\tvalid_1's auc: 0.88005\n",
      "[213]\ttraining's auc: 0.9979\tvalid_1's auc: 0.880118\n",
      "[214]\ttraining's auc: 0.997906\tvalid_1's auc: 0.8802\n",
      "[215]\ttraining's auc: 0.997911\tvalid_1's auc: 0.880252\n",
      "[216]\ttraining's auc: 0.997914\tvalid_1's auc: 0.880283\n",
      "[217]\ttraining's auc: 0.99792\tvalid_1's auc: 0.880525\n",
      "[218]\ttraining's auc: 0.997931\tvalid_1's auc: 0.880812\n",
      "[219]\ttraining's auc: 0.997935\tvalid_1's auc: 0.880859\n",
      "[220]\ttraining's auc: 0.997937\tvalid_1's auc: 0.8808\n",
      "[221]\ttraining's auc: 0.997941\tvalid_1's auc: 0.880791\n",
      "[222]\ttraining's auc: 0.997943\tvalid_1's auc: 0.880892\n",
      "[223]\ttraining's auc: 0.997947\tvalid_1's auc: 0.880919\n",
      "[224]\ttraining's auc: 0.997951\tvalid_1's auc: 0.880883\n",
      "[225]\ttraining's auc: 0.997953\tvalid_1's auc: 0.880971\n",
      "[226]\ttraining's auc: 0.997958\tvalid_1's auc: 0.880983\n",
      "[227]\ttraining's auc: 0.997964\tvalid_1's auc: 0.881038\n",
      "[228]\ttraining's auc: 0.997969\tvalid_1's auc: 0.881147\n",
      "[229]\ttraining's auc: 0.997975\tvalid_1's auc: 0.881333\n",
      "[230]\ttraining's auc: 0.997981\tvalid_1's auc: 0.881443\n",
      "[231]\ttraining's auc: 0.997989\tvalid_1's auc: 0.881479\n",
      "[232]\ttraining's auc: 0.997997\tvalid_1's auc: 0.881562\n",
      "[233]\ttraining's auc: 0.998001\tvalid_1's auc: 0.881598\n",
      "[234]\ttraining's auc: 0.998005\tvalid_1's auc: 0.881683\n",
      "[235]\ttraining's auc: 0.998008\tvalid_1's auc: 0.881756\n",
      "[236]\ttraining's auc: 0.99801\tvalid_1's auc: 0.881788\n",
      "[237]\ttraining's auc: 0.998015\tvalid_1's auc: 0.881916\n",
      "[238]\ttraining's auc: 0.998018\tvalid_1's auc: 0.881926\n",
      "[239]\ttraining's auc: 0.998023\tvalid_1's auc: 0.882013\n",
      "[240]\ttraining's auc: 0.998027\tvalid_1's auc: 0.882023\n",
      "[241]\ttraining's auc: 0.998029\tvalid_1's auc: 0.882017\n",
      "[242]\ttraining's auc: 0.998034\tvalid_1's auc: 0.882243\n",
      "[243]\ttraining's auc: 0.998038\tvalid_1's auc: 0.882234\n",
      "[244]\ttraining's auc: 0.998042\tvalid_1's auc: 0.882304\n",
      "[245]\ttraining's auc: 0.998046\tvalid_1's auc: 0.882411\n",
      "[246]\ttraining's auc: 0.998049\tvalid_1's auc: 0.882502\n",
      "[247]\ttraining's auc: 0.998051\tvalid_1's auc: 0.882585\n",
      "[248]\ttraining's auc: 0.998053\tvalid_1's auc: 0.882538\n",
      "[249]\ttraining's auc: 0.998056\tvalid_1's auc: 0.882668\n",
      "[250]\ttraining's auc: 0.998059\tvalid_1's auc: 0.882718\n",
      "[251]\ttraining's auc: 0.998063\tvalid_1's auc: 0.882758\n",
      "[252]\ttraining's auc: 0.998067\tvalid_1's auc: 0.882914\n",
      "[253]\ttraining's auc: 0.998071\tvalid_1's auc: 0.883055\n",
      "[254]\ttraining's auc: 0.998074\tvalid_1's auc: 0.883092\n",
      "[255]\ttraining's auc: 0.998078\tvalid_1's auc: 0.883132\n",
      "[256]\ttraining's auc: 0.998081\tvalid_1's auc: 0.883257\n",
      "[257]\ttraining's auc: 0.998084\tvalid_1's auc: 0.883286\n",
      "[258]\ttraining's auc: 0.998085\tvalid_1's auc: 0.883274\n",
      "[259]\ttraining's auc: 0.998091\tvalid_1's auc: 0.883349\n",
      "[260]\ttraining's auc: 0.998096\tvalid_1's auc: 0.883464\n",
      "[261]\ttraining's auc: 0.998101\tvalid_1's auc: 0.883486\n",
      "[262]\ttraining's auc: 0.998102\tvalid_1's auc: 0.883472\n",
      "[263]\ttraining's auc: 0.998106\tvalid_1's auc: 0.883641\n",
      "[264]\ttraining's auc: 0.998109\tvalid_1's auc: 0.883698\n",
      "[265]\ttraining's auc: 0.998114\tvalid_1's auc: 0.883748\n",
      "[266]\ttraining's auc: 0.99812\tvalid_1's auc: 0.8838\n",
      "[267]\ttraining's auc: 0.998123\tvalid_1's auc: 0.883832\n",
      "[268]\ttraining's auc: 0.998124\tvalid_1's auc: 0.883835\n",
      "[269]\ttraining's auc: 0.998129\tvalid_1's auc: 0.883891\n",
      "[270]\ttraining's auc: 0.99813\tvalid_1's auc: 0.883873\n",
      "[271]\ttraining's auc: 0.998134\tvalid_1's auc: 0.883929\n",
      "[272]\ttraining's auc: 0.998139\tvalid_1's auc: 0.884029\n",
      "[273]\ttraining's auc: 0.998142\tvalid_1's auc: 0.884069\n",
      "[274]\ttraining's auc: 0.998143\tvalid_1's auc: 0.884102\n",
      "[275]\ttraining's auc: 0.998146\tvalid_1's auc: 0.884197\n",
      "[276]\ttraining's auc: 0.99815\tvalid_1's auc: 0.884288\n",
      "[277]\ttraining's auc: 0.998154\tvalid_1's auc: 0.884417\n",
      "[278]\ttraining's auc: 0.998156\tvalid_1's auc: 0.884444\n",
      "[279]\ttraining's auc: 0.998159\tvalid_1's auc: 0.884486\n",
      "[280]\ttraining's auc: 0.99816\tvalid_1's auc: 0.884476\n",
      "[281]\ttraining's auc: 0.998163\tvalid_1's auc: 0.884478\n",
      "[282]\ttraining's auc: 0.998167\tvalid_1's auc: 0.884569\n",
      "[283]\ttraining's auc: 0.998171\tvalid_1's auc: 0.884564\n",
      "[284]\ttraining's auc: 0.998174\tvalid_1's auc: 0.884723\n",
      "[285]\ttraining's auc: 0.998177\tvalid_1's auc: 0.884773\n",
      "[286]\ttraining's auc: 0.998179\tvalid_1's auc: 0.884876\n",
      "[287]\ttraining's auc: 0.998182\tvalid_1's auc: 0.884894\n",
      "[288]\ttraining's auc: 0.998188\tvalid_1's auc: 0.885049\n",
      "[289]\ttraining's auc: 0.998191\tvalid_1's auc: 0.885225\n",
      "[290]\ttraining's auc: 0.998194\tvalid_1's auc: 0.885206\n",
      "[291]\ttraining's auc: 0.998199\tvalid_1's auc: 0.885421\n",
      "[292]\ttraining's auc: 0.998202\tvalid_1's auc: 0.885548\n",
      "[293]\ttraining's auc: 0.998206\tvalid_1's auc: 0.88558\n",
      "[294]\ttraining's auc: 0.99821\tvalid_1's auc: 0.885655\n",
      "[295]\ttraining's auc: 0.998215\tvalid_1's auc: 0.885755\n",
      "[296]\ttraining's auc: 0.998217\tvalid_1's auc: 0.885791\n",
      "[297]\ttraining's auc: 0.99822\tvalid_1's auc: 0.885891\n",
      "[298]\ttraining's auc: 0.998222\tvalid_1's auc: 0.88597\n",
      "[299]\ttraining's auc: 0.998224\tvalid_1's auc: 0.88606\n",
      "[300]\ttraining's auc: 0.998227\tvalid_1's auc: 0.88607\n",
      "[301]\ttraining's auc: 0.998232\tvalid_1's auc: 0.886085\n",
      "[302]\ttraining's auc: 0.998236\tvalid_1's auc: 0.886209\n",
      "[303]\ttraining's auc: 0.998242\tvalid_1's auc: 0.886355\n",
      "[304]\ttraining's auc: 0.998242\tvalid_1's auc: 0.886325\n",
      "[305]\ttraining's auc: 0.998245\tvalid_1's auc: 0.886376\n",
      "[306]\ttraining's auc: 0.998247\tvalid_1's auc: 0.886453\n",
      "[307]\ttraining's auc: 0.998251\tvalid_1's auc: 0.886636\n",
      "[308]\ttraining's auc: 0.998253\tvalid_1's auc: 0.886725\n",
      "[309]\ttraining's auc: 0.998256\tvalid_1's auc: 0.886921\n",
      "[310]\ttraining's auc: 0.998259\tvalid_1's auc: 0.887003\n",
      "[311]\ttraining's auc: 0.998259\tvalid_1's auc: 0.887055\n",
      "[312]\ttraining's auc: 0.998263\tvalid_1's auc: 0.887119\n",
      "[313]\ttraining's auc: 0.998266\tvalid_1's auc: 0.887118\n",
      "[314]\ttraining's auc: 0.998269\tvalid_1's auc: 0.887205\n",
      "[315]\ttraining's auc: 0.998274\tvalid_1's auc: 0.887272\n",
      "[316]\ttraining's auc: 0.998279\tvalid_1's auc: 0.887293\n",
      "[317]\ttraining's auc: 0.998282\tvalid_1's auc: 0.887315\n",
      "[318]\ttraining's auc: 0.998285\tvalid_1's auc: 0.887446\n",
      "[319]\ttraining's auc: 0.998287\tvalid_1's auc: 0.887608\n",
      "[320]\ttraining's auc: 0.998291\tvalid_1's auc: 0.887669\n",
      "[321]\ttraining's auc: 0.998295\tvalid_1's auc: 0.887729\n",
      "[322]\ttraining's auc: 0.998297\tvalid_1's auc: 0.887676\n",
      "[323]\ttraining's auc: 0.998299\tvalid_1's auc: 0.887701\n",
      "[324]\ttraining's auc: 0.998303\tvalid_1's auc: 0.887743\n",
      "[325]\ttraining's auc: 0.998307\tvalid_1's auc: 0.887836\n",
      "[326]\ttraining's auc: 0.998311\tvalid_1's auc: 0.887949\n",
      "[327]\ttraining's auc: 0.998314\tvalid_1's auc: 0.887995\n",
      "[328]\ttraining's auc: 0.998317\tvalid_1's auc: 0.887995\n",
      "[329]\ttraining's auc: 0.998322\tvalid_1's auc: 0.888101\n",
      "[330]\ttraining's auc: 0.998326\tvalid_1's auc: 0.888174\n",
      "[331]\ttraining's auc: 0.998329\tvalid_1's auc: 0.88824\n",
      "[332]\ttraining's auc: 0.99833\tvalid_1's auc: 0.888293\n",
      "[333]\ttraining's auc: 0.998334\tvalid_1's auc: 0.888409\n",
      "[334]\ttraining's auc: 0.998336\tvalid_1's auc: 0.888497\n",
      "[335]\ttraining's auc: 0.998338\tvalid_1's auc: 0.88853\n",
      "[336]\ttraining's auc: 0.998342\tvalid_1's auc: 0.888641\n",
      "[337]\ttraining's auc: 0.998346\tvalid_1's auc: 0.888717\n",
      "[338]\ttraining's auc: 0.998349\tvalid_1's auc: 0.88883\n",
      "[339]\ttraining's auc: 0.99835\tvalid_1's auc: 0.888821\n",
      "[340]\ttraining's auc: 0.998352\tvalid_1's auc: 0.88892\n",
      "[341]\ttraining's auc: 0.998356\tvalid_1's auc: 0.888991\n",
      "[342]\ttraining's auc: 0.99836\tvalid_1's auc: 0.889109\n",
      "[343]\ttraining's auc: 0.998362\tvalid_1's auc: 0.8891\n",
      "[344]\ttraining's auc: 0.998364\tvalid_1's auc: 0.889165\n",
      "[345]\ttraining's auc: 0.998367\tvalid_1's auc: 0.88926\n",
      "[346]\ttraining's auc: 0.998371\tvalid_1's auc: 0.889362\n",
      "[347]\ttraining's auc: 0.998375\tvalid_1's auc: 0.88949\n",
      "[348]\ttraining's auc: 0.998376\tvalid_1's auc: 0.889488\n",
      "[349]\ttraining's auc: 0.998378\tvalid_1's auc: 0.889553\n",
      "[350]\ttraining's auc: 0.99838\tvalid_1's auc: 0.889535\n",
      "[351]\ttraining's auc: 0.998382\tvalid_1's auc: 0.889644\n",
      "[352]\ttraining's auc: 0.998384\tvalid_1's auc: 0.88969\n",
      "[353]\ttraining's auc: 0.998387\tvalid_1's auc: 0.889734\n",
      "[354]\ttraining's auc: 0.998391\tvalid_1's auc: 0.889896\n",
      "[355]\ttraining's auc: 0.998394\tvalid_1's auc: 0.890031\n",
      "[356]\ttraining's auc: 0.998396\tvalid_1's auc: 0.890036\n",
      "[357]\ttraining's auc: 0.9984\tvalid_1's auc: 0.890098\n",
      "[358]\ttraining's auc: 0.998403\tvalid_1's auc: 0.890146\n",
      "[359]\ttraining's auc: 0.998407\tvalid_1's auc: 0.89032\n",
      "[360]\ttraining's auc: 0.998411\tvalid_1's auc: 0.890538\n",
      "[361]\ttraining's auc: 0.998414\tvalid_1's auc: 0.890741\n",
      "[362]\ttraining's auc: 0.998417\tvalid_1's auc: 0.890827\n",
      "[363]\ttraining's auc: 0.99842\tvalid_1's auc: 0.89087\n",
      "[364]\ttraining's auc: 0.998423\tvalid_1's auc: 0.890994\n",
      "[365]\ttraining's auc: 0.998425\tvalid_1's auc: 0.891005\n",
      "[366]\ttraining's auc: 0.998427\tvalid_1's auc: 0.891053\n",
      "[367]\ttraining's auc: 0.99843\tvalid_1's auc: 0.891059\n",
      "[368]\ttraining's auc: 0.998433\tvalid_1's auc: 0.891232\n",
      "[369]\ttraining's auc: 0.998434\tvalid_1's auc: 0.891276\n",
      "[370]\ttraining's auc: 0.998436\tvalid_1's auc: 0.891281\n",
      "[371]\ttraining's auc: 0.998439\tvalid_1's auc: 0.891346\n",
      "[372]\ttraining's auc: 0.998442\tvalid_1's auc: 0.891424\n",
      "[373]\ttraining's auc: 0.998445\tvalid_1's auc: 0.891506\n",
      "[374]\ttraining's auc: 0.998448\tvalid_1's auc: 0.891605\n",
      "[375]\ttraining's auc: 0.99845\tvalid_1's auc: 0.891626\n",
      "[376]\ttraining's auc: 0.998452\tvalid_1's auc: 0.89162\n",
      "[377]\ttraining's auc: 0.998455\tvalid_1's auc: 0.891682\n",
      "[378]\ttraining's auc: 0.998457\tvalid_1's auc: 0.891662\n",
      "[379]\ttraining's auc: 0.99846\tvalid_1's auc: 0.891776\n",
      "[380]\ttraining's auc: 0.998463\tvalid_1's auc: 0.891907\n",
      "[381]\ttraining's auc: 0.998467\tvalid_1's auc: 0.892007\n",
      "[382]\ttraining's auc: 0.998469\tvalid_1's auc: 0.891996\n",
      "[383]\ttraining's auc: 0.998473\tvalid_1's auc: 0.892185\n",
      "[384]\ttraining's auc: 0.998475\tvalid_1's auc: 0.892252\n",
      "[385]\ttraining's auc: 0.998477\tvalid_1's auc: 0.892339\n",
      "[386]\ttraining's auc: 0.998478\tvalid_1's auc: 0.892374\n",
      "[387]\ttraining's auc: 0.99848\tvalid_1's auc: 0.892478\n",
      "[388]\ttraining's auc: 0.998482\tvalid_1's auc: 0.892489\n",
      "[389]\ttraining's auc: 0.998485\tvalid_1's auc: 0.892594\n",
      "[390]\ttraining's auc: 0.998487\tvalid_1's auc: 0.892664\n",
      "[391]\ttraining's auc: 0.998489\tvalid_1's auc: 0.892786\n",
      "[392]\ttraining's auc: 0.998492\tvalid_1's auc: 0.892871\n",
      "[393]\ttraining's auc: 0.998496\tvalid_1's auc: 0.893066\n",
      "[394]\ttraining's auc: 0.9985\tvalid_1's auc: 0.89314\n",
      "[395]\ttraining's auc: 0.998502\tvalid_1's auc: 0.893232\n",
      "[396]\ttraining's auc: 0.998504\tvalid_1's auc: 0.893285\n",
      "[397]\ttraining's auc: 0.998506\tvalid_1's auc: 0.893354\n",
      "[398]\ttraining's auc: 0.998508\tvalid_1's auc: 0.893507\n",
      "[399]\ttraining's auc: 0.99851\tvalid_1's auc: 0.893559\n",
      "[400]\ttraining's auc: 0.998512\tvalid_1's auc: 0.893622\n",
      "[401]\ttraining's auc: 0.998514\tvalid_1's auc: 0.893626\n",
      "[402]\ttraining's auc: 0.998517\tvalid_1's auc: 0.893694\n",
      "[403]\ttraining's auc: 0.998519\tvalid_1's auc: 0.893764\n",
      "[404]\ttraining's auc: 0.99852\tvalid_1's auc: 0.893772\n",
      "[405]\ttraining's auc: 0.998522\tvalid_1's auc: 0.893781\n",
      "[406]\ttraining's auc: 0.998526\tvalid_1's auc: 0.893877\n",
      "[407]\ttraining's auc: 0.998528\tvalid_1's auc: 0.893956\n",
      "[408]\ttraining's auc: 0.998531\tvalid_1's auc: 0.894072\n",
      "[409]\ttraining's auc: 0.998534\tvalid_1's auc: 0.894178\n",
      "[410]\ttraining's auc: 0.998536\tvalid_1's auc: 0.894211\n",
      "[411]\ttraining's auc: 0.998537\tvalid_1's auc: 0.894291\n",
      "[412]\ttraining's auc: 0.998539\tvalid_1's auc: 0.894257\n",
      "[413]\ttraining's auc: 0.998541\tvalid_1's auc: 0.894303\n",
      "[414]\ttraining's auc: 0.998544\tvalid_1's auc: 0.894487\n",
      "[415]\ttraining's auc: 0.998548\tvalid_1's auc: 0.894675\n",
      "[416]\ttraining's auc: 0.99855\tvalid_1's auc: 0.894825\n",
      "[417]\ttraining's auc: 0.998552\tvalid_1's auc: 0.894927\n",
      "[418]\ttraining's auc: 0.998556\tvalid_1's auc: 0.895067\n",
      "[419]\ttraining's auc: 0.998559\tvalid_1's auc: 0.895193\n",
      "[420]\ttraining's auc: 0.998562\tvalid_1's auc: 0.895267\n",
      "[421]\ttraining's auc: 0.998564\tvalid_1's auc: 0.895244\n",
      "[422]\ttraining's auc: 0.998567\tvalid_1's auc: 0.895304\n",
      "[423]\ttraining's auc: 0.998569\tvalid_1's auc: 0.895364\n",
      "[424]\ttraining's auc: 0.998571\tvalid_1's auc: 0.895452\n",
      "[425]\ttraining's auc: 0.998573\tvalid_1's auc: 0.895502\n",
      "[426]\ttraining's auc: 0.998575\tvalid_1's auc: 0.895564\n",
      "[427]\ttraining's auc: 0.998578\tvalid_1's auc: 0.895685\n",
      "[428]\ttraining's auc: 0.998581\tvalid_1's auc: 0.895835\n",
      "[429]\ttraining's auc: 0.998584\tvalid_1's auc: 0.895951\n",
      "[430]\ttraining's auc: 0.998586\tvalid_1's auc: 0.896046\n",
      "[431]\ttraining's auc: 0.998589\tvalid_1's auc: 0.896144\n",
      "[432]\ttraining's auc: 0.998592\tvalid_1's auc: 0.896283\n",
      "[433]\ttraining's auc: 0.998595\tvalid_1's auc: 0.896395\n",
      "[434]\ttraining's auc: 0.998596\tvalid_1's auc: 0.896423\n",
      "[435]\ttraining's auc: 0.998598\tvalid_1's auc: 0.896421\n",
      "[436]\ttraining's auc: 0.998601\tvalid_1's auc: 0.896491\n",
      "[437]\ttraining's auc: 0.998603\tvalid_1's auc: 0.896566\n",
      "[438]\ttraining's auc: 0.998605\tvalid_1's auc: 0.896638\n",
      "[439]\ttraining's auc: 0.998608\tvalid_1's auc: 0.896673\n",
      "[440]\ttraining's auc: 0.99861\tvalid_1's auc: 0.896751\n",
      "[441]\ttraining's auc: 0.998611\tvalid_1's auc: 0.896775\n",
      "[442]\ttraining's auc: 0.998613\tvalid_1's auc: 0.896778\n",
      "[443]\ttraining's auc: 0.998614\tvalid_1's auc: 0.896823\n",
      "[444]\ttraining's auc: 0.998617\tvalid_1's auc: 0.896963\n",
      "[445]\ttraining's auc: 0.99862\tvalid_1's auc: 0.897005\n",
      "[446]\ttraining's auc: 0.998621\tvalid_1's auc: 0.897055\n",
      "[447]\ttraining's auc: 0.998623\tvalid_1's auc: 0.897117\n",
      "[448]\ttraining's auc: 0.998626\tvalid_1's auc: 0.8972\n",
      "[449]\ttraining's auc: 0.998627\tvalid_1's auc: 0.897219\n",
      "[450]\ttraining's auc: 0.998631\tvalid_1's auc: 0.897374\n",
      "[451]\ttraining's auc: 0.998633\tvalid_1's auc: 0.897454\n",
      "[452]\ttraining's auc: 0.998636\tvalid_1's auc: 0.897576\n",
      "[453]\ttraining's auc: 0.998639\tvalid_1's auc: 0.897692\n",
      "[454]\ttraining's auc: 0.99864\tvalid_1's auc: 0.897717\n",
      "[455]\ttraining's auc: 0.998642\tvalid_1's auc: 0.897701\n",
      "[456]\ttraining's auc: 0.998645\tvalid_1's auc: 0.897794\n",
      "[457]\ttraining's auc: 0.998649\tvalid_1's auc: 0.8979\n",
      "[458]\ttraining's auc: 0.998651\tvalid_1's auc: 0.897938\n",
      "[459]\ttraining's auc: 0.998653\tvalid_1's auc: 0.898043\n",
      "[460]\ttraining's auc: 0.998656\tvalid_1's auc: 0.898238\n",
      "[461]\ttraining's auc: 0.998659\tvalid_1's auc: 0.898278\n",
      "[462]\ttraining's auc: 0.998661\tvalid_1's auc: 0.898381\n",
      "[463]\ttraining's auc: 0.998662\tvalid_1's auc: 0.898398\n",
      "[464]\ttraining's auc: 0.998664\tvalid_1's auc: 0.898529\n",
      "[465]\ttraining's auc: 0.998666\tvalid_1's auc: 0.898581\n",
      "[466]\ttraining's auc: 0.998668\tvalid_1's auc: 0.898635\n",
      "[467]\ttraining's auc: 0.998671\tvalid_1's auc: 0.898702\n",
      "[468]\ttraining's auc: 0.998673\tvalid_1's auc: 0.898789\n",
      "[469]\ttraining's auc: 0.998675\tvalid_1's auc: 0.898861\n",
      "[470]\ttraining's auc: 0.998678\tvalid_1's auc: 0.898921\n",
      "[471]\ttraining's auc: 0.99868\tvalid_1's auc: 0.898977\n",
      "[472]\ttraining's auc: 0.998683\tvalid_1's auc: 0.899001\n",
      "[473]\ttraining's auc: 0.998686\tvalid_1's auc: 0.899206\n",
      "[474]\ttraining's auc: 0.99869\tvalid_1's auc: 0.899377\n",
      "[475]\ttraining's auc: 0.998693\tvalid_1's auc: 0.899484\n",
      "[476]\ttraining's auc: 0.998697\tvalid_1's auc: 0.899575\n",
      "[477]\ttraining's auc: 0.998699\tvalid_1's auc: 0.89959\n",
      "[478]\ttraining's auc: 0.998702\tvalid_1's auc: 0.899709\n",
      "[479]\ttraining's auc: 0.998704\tvalid_1's auc: 0.899761\n",
      "[480]\ttraining's auc: 0.998707\tvalid_1's auc: 0.899833\n",
      "[481]\ttraining's auc: 0.99871\tvalid_1's auc: 0.899946\n",
      "[482]\ttraining's auc: 0.998712\tvalid_1's auc: 0.899971\n",
      "[483]\ttraining's auc: 0.998715\tvalid_1's auc: 0.900082\n",
      "[484]\ttraining's auc: 0.998717\tvalid_1's auc: 0.900133\n",
      "[485]\ttraining's auc: 0.998719\tvalid_1's auc: 0.900177\n",
      "[486]\ttraining's auc: 0.998721\tvalid_1's auc: 0.90024\n",
      "[487]\ttraining's auc: 0.998724\tvalid_1's auc: 0.90033\n",
      "[488]\ttraining's auc: 0.998727\tvalid_1's auc: 0.900424\n",
      "[489]\ttraining's auc: 0.998729\tvalid_1's auc: 0.900526\n",
      "[490]\ttraining's auc: 0.998732\tvalid_1's auc: 0.90067\n",
      "[491]\ttraining's auc: 0.998736\tvalid_1's auc: 0.900867\n",
      "[492]\ttraining's auc: 0.998738\tvalid_1's auc: 0.900895\n",
      "[493]\ttraining's auc: 0.998741\tvalid_1's auc: 0.900989\n",
      "[494]\ttraining's auc: 0.998743\tvalid_1's auc: 0.901075\n",
      "[495]\ttraining's auc: 0.998745\tvalid_1's auc: 0.901155\n",
      "[496]\ttraining's auc: 0.998747\tvalid_1's auc: 0.901175\n",
      "[497]\ttraining's auc: 0.998749\tvalid_1's auc: 0.901292\n",
      "[498]\ttraining's auc: 0.998752\tvalid_1's auc: 0.901376\n",
      "[499]\ttraining's auc: 0.998755\tvalid_1's auc: 0.90144\n",
      "[500]\ttraining's auc: 0.998756\tvalid_1's auc: 0.901458\n",
      "[501]\ttraining's auc: 0.998758\tvalid_1's auc: 0.90152\n",
      "[502]\ttraining's auc: 0.99876\tvalid_1's auc: 0.901546\n",
      "[503]\ttraining's auc: 0.998762\tvalid_1's auc: 0.901588\n",
      "[504]\ttraining's auc: 0.998766\tvalid_1's auc: 0.901768\n",
      "[505]\ttraining's auc: 0.998767\tvalid_1's auc: 0.901828\n",
      "[506]\ttraining's auc: 0.99877\tvalid_1's auc: 0.901925\n",
      "[507]\ttraining's auc: 0.998772\tvalid_1's auc: 0.902003\n",
      "[508]\ttraining's auc: 0.998775\tvalid_1's auc: 0.902076\n",
      "[509]\ttraining's auc: 0.998777\tvalid_1's auc: 0.902114\n",
      "[510]\ttraining's auc: 0.998781\tvalid_1's auc: 0.90217\n",
      "[511]\ttraining's auc: 0.998783\tvalid_1's auc: 0.902219\n",
      "[512]\ttraining's auc: 0.998786\tvalid_1's auc: 0.90233\n",
      "[513]\ttraining's auc: 0.998788\tvalid_1's auc: 0.902447\n",
      "[514]\ttraining's auc: 0.99879\tvalid_1's auc: 0.902571\n",
      "[515]\ttraining's auc: 0.998792\tvalid_1's auc: 0.902639\n",
      "[516]\ttraining's auc: 0.998794\tvalid_1's auc: 0.9027\n",
      "[517]\ttraining's auc: 0.998797\tvalid_1's auc: 0.902739\n",
      "[518]\ttraining's auc: 0.998798\tvalid_1's auc: 0.902737\n",
      "[519]\ttraining's auc: 0.998801\tvalid_1's auc: 0.902788\n",
      "[520]\ttraining's auc: 0.998803\tvalid_1's auc: 0.902835\n",
      "[521]\ttraining's auc: 0.998806\tvalid_1's auc: 0.902909\n",
      "[522]\ttraining's auc: 0.998807\tvalid_1's auc: 0.902951\n",
      "[523]\ttraining's auc: 0.998809\tvalid_1's auc: 0.902958\n",
      "[524]\ttraining's auc: 0.998811\tvalid_1's auc: 0.90307\n",
      "[525]\ttraining's auc: 0.998813\tvalid_1's auc: 0.903102\n",
      "[526]\ttraining's auc: 0.998815\tvalid_1's auc: 0.903194\n",
      "[527]\ttraining's auc: 0.998818\tvalid_1's auc: 0.903301\n",
      "[528]\ttraining's auc: 0.998821\tvalid_1's auc: 0.903408\n",
      "[529]\ttraining's auc: 0.998823\tvalid_1's auc: 0.903555\n",
      "[530]\ttraining's auc: 0.998826\tvalid_1's auc: 0.903584\n",
      "[531]\ttraining's auc: 0.998827\tvalid_1's auc: 0.903596\n",
      "[532]\ttraining's auc: 0.998831\tvalid_1's auc: 0.903757\n",
      "[533]\ttraining's auc: 0.998833\tvalid_1's auc: 0.903843\n",
      "[534]\ttraining's auc: 0.998836\tvalid_1's auc: 0.903942\n",
      "[535]\ttraining's auc: 0.998838\tvalid_1's auc: 0.904096\n",
      "[536]\ttraining's auc: 0.998842\tvalid_1's auc: 0.904233\n",
      "[537]\ttraining's auc: 0.998844\tvalid_1's auc: 0.904307\n",
      "[538]\ttraining's auc: 0.998847\tvalid_1's auc: 0.904424\n",
      "[539]\ttraining's auc: 0.99885\tvalid_1's auc: 0.904508\n",
      "[540]\ttraining's auc: 0.998853\tvalid_1's auc: 0.90464\n",
      "[541]\ttraining's auc: 0.998855\tvalid_1's auc: 0.904724\n",
      "[542]\ttraining's auc: 0.998858\tvalid_1's auc: 0.904818\n",
      "[543]\ttraining's auc: 0.99886\tvalid_1's auc: 0.904872\n",
      "[544]\ttraining's auc: 0.998862\tvalid_1's auc: 0.904958\n",
      "[545]\ttraining's auc: 0.998864\tvalid_1's auc: 0.904991\n",
      "[546]\ttraining's auc: 0.998866\tvalid_1's auc: 0.905041\n",
      "[547]\ttraining's auc: 0.998869\tvalid_1's auc: 0.905088\n",
      "[548]\ttraining's auc: 0.998871\tvalid_1's auc: 0.905129\n",
      "[549]\ttraining's auc: 0.998874\tvalid_1's auc: 0.905195\n",
      "[550]\ttraining's auc: 0.998877\tvalid_1's auc: 0.905251\n",
      "[551]\ttraining's auc: 0.998879\tvalid_1's auc: 0.905299\n",
      "[552]\ttraining's auc: 0.998881\tvalid_1's auc: 0.905311\n",
      "[553]\ttraining's auc: 0.998884\tvalid_1's auc: 0.905378\n",
      "[554]\ttraining's auc: 0.998887\tvalid_1's auc: 0.90545\n",
      "[555]\ttraining's auc: 0.998889\tvalid_1's auc: 0.905479\n",
      "[556]\ttraining's auc: 0.998891\tvalid_1's auc: 0.905526\n",
      "[557]\ttraining's auc: 0.998893\tvalid_1's auc: 0.905572\n",
      "[558]\ttraining's auc: 0.998895\tvalid_1's auc: 0.905612\n",
      "[559]\ttraining's auc: 0.998897\tvalid_1's auc: 0.90566\n",
      "[560]\ttraining's auc: 0.9989\tvalid_1's auc: 0.905794\n",
      "[561]\ttraining's auc: 0.998901\tvalid_1's auc: 0.905819\n",
      "[562]\ttraining's auc: 0.998904\tvalid_1's auc: 0.905922\n",
      "[563]\ttraining's auc: 0.998906\tvalid_1's auc: 0.906003\n",
      "[564]\ttraining's auc: 0.998908\tvalid_1's auc: 0.906018\n",
      "[565]\ttraining's auc: 0.99891\tvalid_1's auc: 0.90606\n",
      "[566]\ttraining's auc: 0.998912\tvalid_1's auc: 0.906117\n",
      "[567]\ttraining's auc: 0.998914\tvalid_1's auc: 0.906237\n",
      "[568]\ttraining's auc: 0.998916\tvalid_1's auc: 0.90634\n",
      "[569]\ttraining's auc: 0.998919\tvalid_1's auc: 0.906452\n",
      "[570]\ttraining's auc: 0.998923\tvalid_1's auc: 0.906619\n",
      "[571]\ttraining's auc: 0.998925\tvalid_1's auc: 0.906703\n",
      "[572]\ttraining's auc: 0.998926\tvalid_1's auc: 0.906738\n",
      "[573]\ttraining's auc: 0.99893\tvalid_1's auc: 0.906813\n",
      "[574]\ttraining's auc: 0.998933\tvalid_1's auc: 0.90686\n",
      "[575]\ttraining's auc: 0.998935\tvalid_1's auc: 0.906884\n",
      "[576]\ttraining's auc: 0.998936\tvalid_1's auc: 0.90692\n",
      "[577]\ttraining's auc: 0.998938\tvalid_1's auc: 0.906971\n",
      "[578]\ttraining's auc: 0.99894\tvalid_1's auc: 0.906992\n",
      "[579]\ttraining's auc: 0.998943\tvalid_1's auc: 0.907129\n",
      "[580]\ttraining's auc: 0.998945\tvalid_1's auc: 0.907171\n",
      "[581]\ttraining's auc: 0.998948\tvalid_1's auc: 0.907343\n",
      "[582]\ttraining's auc: 0.99895\tvalid_1's auc: 0.907383\n",
      "[583]\ttraining's auc: 0.998953\tvalid_1's auc: 0.907459\n",
      "[584]\ttraining's auc: 0.998955\tvalid_1's auc: 0.9076\n",
      "[585]\ttraining's auc: 0.998958\tvalid_1's auc: 0.907642\n",
      "[586]\ttraining's auc: 0.99896\tvalid_1's auc: 0.90771\n",
      "[587]\ttraining's auc: 0.998964\tvalid_1's auc: 0.907837\n",
      "[588]\ttraining's auc: 0.998967\tvalid_1's auc: 0.907912\n",
      "[589]\ttraining's auc: 0.998969\tvalid_1's auc: 0.907973\n",
      "[590]\ttraining's auc: 0.998972\tvalid_1's auc: 0.90809\n",
      "[591]\ttraining's auc: 0.998974\tvalid_1's auc: 0.908177\n",
      "[592]\ttraining's auc: 0.998976\tvalid_1's auc: 0.90831\n",
      "[593]\ttraining's auc: 0.998979\tvalid_1's auc: 0.908358\n",
      "[594]\ttraining's auc: 0.998981\tvalid_1's auc: 0.908417\n",
      "[595]\ttraining's auc: 0.998983\tvalid_1's auc: 0.908514\n",
      "[596]\ttraining's auc: 0.998986\tvalid_1's auc: 0.908616\n",
      "[597]\ttraining's auc: 0.998989\tvalid_1's auc: 0.908723\n",
      "[598]\ttraining's auc: 0.998991\tvalid_1's auc: 0.908849\n",
      "[599]\ttraining's auc: 0.998993\tvalid_1's auc: 0.908867\n",
      "[600]\ttraining's auc: 0.998996\tvalid_1's auc: 0.90901\n",
      "[601]\ttraining's auc: 0.999\tvalid_1's auc: 0.909147\n",
      "[602]\ttraining's auc: 0.999002\tvalid_1's auc: 0.909212\n",
      "[603]\ttraining's auc: 0.999004\tvalid_1's auc: 0.909239\n",
      "[604]\ttraining's auc: 0.999006\tvalid_1's auc: 0.90924\n",
      "[605]\ttraining's auc: 0.999009\tvalid_1's auc: 0.909343\n",
      "[606]\ttraining's auc: 0.999011\tvalid_1's auc: 0.909436\n",
      "[607]\ttraining's auc: 0.999013\tvalid_1's auc: 0.909521\n",
      "[608]\ttraining's auc: 0.999016\tvalid_1's auc: 0.909588\n",
      "[609]\ttraining's auc: 0.999019\tvalid_1's auc: 0.909648\n",
      "[610]\ttraining's auc: 0.999022\tvalid_1's auc: 0.909784\n",
      "[611]\ttraining's auc: 0.999024\tvalid_1's auc: 0.909914\n",
      "[612]\ttraining's auc: 0.999027\tvalid_1's auc: 0.909965\n",
      "[613]\ttraining's auc: 0.99903\tvalid_1's auc: 0.909998\n",
      "[614]\ttraining's auc: 0.999032\tvalid_1's auc: 0.910048\n",
      "[615]\ttraining's auc: 0.999035\tvalid_1's auc: 0.910125\n",
      "[616]\ttraining's auc: 0.999037\tvalid_1's auc: 0.91027\n",
      "[617]\ttraining's auc: 0.99904\tvalid_1's auc: 0.910377\n",
      "[618]\ttraining's auc: 0.999043\tvalid_1's auc: 0.910511\n",
      "[619]\ttraining's auc: 0.999045\tvalid_1's auc: 0.910534\n",
      "[620]\ttraining's auc: 0.999048\tvalid_1's auc: 0.910626\n",
      "[621]\ttraining's auc: 0.999051\tvalid_1's auc: 0.91073\n",
      "[622]\ttraining's auc: 0.999053\tvalid_1's auc: 0.910869\n",
      "[623]\ttraining's auc: 0.999056\tvalid_1's auc: 0.910958\n",
      "[624]\ttraining's auc: 0.999057\tvalid_1's auc: 0.911023\n",
      "[625]\ttraining's auc: 0.99906\tvalid_1's auc: 0.911123\n",
      "[626]\ttraining's auc: 0.999062\tvalid_1's auc: 0.911198\n",
      "[627]\ttraining's auc: 0.999064\tvalid_1's auc: 0.911246\n",
      "[628]\ttraining's auc: 0.999066\tvalid_1's auc: 0.911287\n",
      "[629]\ttraining's auc: 0.999069\tvalid_1's auc: 0.911397\n",
      "[630]\ttraining's auc: 0.999071\tvalid_1's auc: 0.911444\n",
      "[631]\ttraining's auc: 0.999073\tvalid_1's auc: 0.911448\n",
      "[632]\ttraining's auc: 0.999075\tvalid_1's auc: 0.911541\n",
      "[633]\ttraining's auc: 0.999077\tvalid_1's auc: 0.91159\n",
      "[634]\ttraining's auc: 0.999079\tvalid_1's auc: 0.911608\n",
      "[635]\ttraining's auc: 0.999081\tvalid_1's auc: 0.911679\n",
      "[636]\ttraining's auc: 0.999084\tvalid_1's auc: 0.91175\n",
      "[637]\ttraining's auc: 0.999085\tvalid_1's auc: 0.911816\n",
      "[638]\ttraining's auc: 0.999087\tvalid_1's auc: 0.911898\n",
      "[639]\ttraining's auc: 0.99909\tvalid_1's auc: 0.911951\n",
      "[640]\ttraining's auc: 0.999092\tvalid_1's auc: 0.912024\n",
      "[641]\ttraining's auc: 0.999094\tvalid_1's auc: 0.912072\n",
      "[642]\ttraining's auc: 0.999096\tvalid_1's auc: 0.912171\n",
      "[643]\ttraining's auc: 0.999099\tvalid_1's auc: 0.912268\n",
      "[644]\ttraining's auc: 0.999101\tvalid_1's auc: 0.912381\n",
      "[645]\ttraining's auc: 0.999104\tvalid_1's auc: 0.912495\n",
      "[646]\ttraining's auc: 0.999107\tvalid_1's auc: 0.912538\n",
      "[647]\ttraining's auc: 0.99911\tvalid_1's auc: 0.91264\n",
      "[648]\ttraining's auc: 0.999112\tvalid_1's auc: 0.912729\n",
      "[649]\ttraining's auc: 0.999114\tvalid_1's auc: 0.912824\n",
      "[650]\ttraining's auc: 0.999117\tvalid_1's auc: 0.912916\n",
      "[651]\ttraining's auc: 0.999119\tvalid_1's auc: 0.913025\n",
      "[652]\ttraining's auc: 0.999123\tvalid_1's auc: 0.913176\n",
      "[653]\ttraining's auc: 0.999125\tvalid_1's auc: 0.913297\n",
      "[654]\ttraining's auc: 0.999127\tvalid_1's auc: 0.91334\n",
      "[655]\ttraining's auc: 0.99913\tvalid_1's auc: 0.913421\n",
      "[656]\ttraining's auc: 0.999133\tvalid_1's auc: 0.913513\n",
      "[657]\ttraining's auc: 0.999135\tvalid_1's auc: 0.913531\n",
      "[658]\ttraining's auc: 0.999138\tvalid_1's auc: 0.913592\n",
      "[659]\ttraining's auc: 0.99914\tvalid_1's auc: 0.913661\n",
      "[660]\ttraining's auc: 0.999143\tvalid_1's auc: 0.913749\n",
      "[661]\ttraining's auc: 0.999146\tvalid_1's auc: 0.913878\n",
      "[662]\ttraining's auc: 0.999149\tvalid_1's auc: 0.913947\n",
      "[663]\ttraining's auc: 0.999151\tvalid_1's auc: 0.914037\n",
      "[664]\ttraining's auc: 0.999154\tvalid_1's auc: 0.914056\n",
      "[665]\ttraining's auc: 0.999156\tvalid_1's auc: 0.914091\n",
      "[666]\ttraining's auc: 0.999159\tvalid_1's auc: 0.914173\n",
      "[667]\ttraining's auc: 0.999162\tvalid_1's auc: 0.914346\n",
      "[668]\ttraining's auc: 0.999166\tvalid_1's auc: 0.914481\n",
      "[669]\ttraining's auc: 0.999168\tvalid_1's auc: 0.91454\n",
      "[670]\ttraining's auc: 0.999169\tvalid_1's auc: 0.914589\n",
      "[671]\ttraining's auc: 0.999173\tvalid_1's auc: 0.914686\n",
      "[672]\ttraining's auc: 0.999175\tvalid_1's auc: 0.914746\n",
      "[673]\ttraining's auc: 0.999177\tvalid_1's auc: 0.914781\n",
      "[674]\ttraining's auc: 0.99918\tvalid_1's auc: 0.914824\n",
      "[675]\ttraining's auc: 0.999182\tvalid_1's auc: 0.914856\n",
      "[676]\ttraining's auc: 0.999185\tvalid_1's auc: 0.914928\n",
      "[677]\ttraining's auc: 0.999188\tvalid_1's auc: 0.914987\n",
      "[678]\ttraining's auc: 0.99919\tvalid_1's auc: 0.915113\n",
      "[679]\ttraining's auc: 0.999194\tvalid_1's auc: 0.915311\n",
      "[680]\ttraining's auc: 0.999197\tvalid_1's auc: 0.915427\n",
      "[681]\ttraining's auc: 0.9992\tvalid_1's auc: 0.915473\n",
      "[682]\ttraining's auc: 0.999204\tvalid_1's auc: 0.915638\n",
      "[683]\ttraining's auc: 0.999206\tvalid_1's auc: 0.915732\n",
      "[684]\ttraining's auc: 0.999208\tvalid_1's auc: 0.915789\n",
      "[685]\ttraining's auc: 0.999211\tvalid_1's auc: 0.915915\n",
      "[686]\ttraining's auc: 0.999213\tvalid_1's auc: 0.915972\n",
      "[687]\ttraining's auc: 0.999217\tvalid_1's auc: 0.916034\n",
      "[688]\ttraining's auc: 0.99922\tvalid_1's auc: 0.916178\n",
      "[689]\ttraining's auc: 0.999223\tvalid_1's auc: 0.916247\n",
      "[690]\ttraining's auc: 0.999225\tvalid_1's auc: 0.916291\n",
      "[691]\ttraining's auc: 0.999229\tvalid_1's auc: 0.916389\n",
      "[692]\ttraining's auc: 0.999232\tvalid_1's auc: 0.916538\n",
      "[693]\ttraining's auc: 0.999234\tvalid_1's auc: 0.916583\n",
      "[694]\ttraining's auc: 0.999237\tvalid_1's auc: 0.916676\n",
      "[695]\ttraining's auc: 0.999239\tvalid_1's auc: 0.916735\n",
      "[696]\ttraining's auc: 0.999242\tvalid_1's auc: 0.916774\n",
      "[697]\ttraining's auc: 0.999245\tvalid_1's auc: 0.916884\n",
      "[698]\ttraining's auc: 0.999247\tvalid_1's auc: 0.916948\n",
      "[699]\ttraining's auc: 0.99925\tvalid_1's auc: 0.917056\n",
      "[700]\ttraining's auc: 0.999253\tvalid_1's auc: 0.917104\n",
      "[701]\ttraining's auc: 0.999256\tvalid_1's auc: 0.917226\n",
      "[702]\ttraining's auc: 0.99926\tvalid_1's auc: 0.917381\n",
      "[703]\ttraining's auc: 0.999263\tvalid_1's auc: 0.917448\n",
      "[704]\ttraining's auc: 0.999265\tvalid_1's auc: 0.917518\n",
      "[705]\ttraining's auc: 0.999268\tvalid_1's auc: 0.917622\n",
      "[706]\ttraining's auc: 0.99927\tvalid_1's auc: 0.917682\n",
      "[707]\ttraining's auc: 0.999273\tvalid_1's auc: 0.917773\n",
      "[708]\ttraining's auc: 0.999277\tvalid_1's auc: 0.917855\n",
      "[709]\ttraining's auc: 0.999279\tvalid_1's auc: 0.917885\n",
      "[710]\ttraining's auc: 0.999282\tvalid_1's auc: 0.91794\n",
      "[711]\ttraining's auc: 0.999284\tvalid_1's auc: 0.917991\n",
      "[712]\ttraining's auc: 0.999286\tvalid_1's auc: 0.918092\n",
      "[713]\ttraining's auc: 0.999288\tvalid_1's auc: 0.91815\n",
      "[714]\ttraining's auc: 0.999291\tvalid_1's auc: 0.918268\n",
      "[715]\ttraining's auc: 0.999294\tvalid_1's auc: 0.918396\n",
      "[716]\ttraining's auc: 0.999296\tvalid_1's auc: 0.918457\n",
      "[717]\ttraining's auc: 0.999298\tvalid_1's auc: 0.918499\n",
      "[718]\ttraining's auc: 0.999302\tvalid_1's auc: 0.918563\n",
      "[719]\ttraining's auc: 0.999305\tvalid_1's auc: 0.91867\n",
      "[720]\ttraining's auc: 0.999307\tvalid_1's auc: 0.918717\n",
      "[721]\ttraining's auc: 0.999309\tvalid_1's auc: 0.918786\n",
      "[722]\ttraining's auc: 0.999312\tvalid_1's auc: 0.918903\n",
      "[723]\ttraining's auc: 0.999314\tvalid_1's auc: 0.918973\n",
      "[724]\ttraining's auc: 0.999317\tvalid_1's auc: 0.919115\n",
      "[725]\ttraining's auc: 0.999319\tvalid_1's auc: 0.919215\n",
      "[726]\ttraining's auc: 0.999322\tvalid_1's auc: 0.919275\n",
      "[727]\ttraining's auc: 0.999324\tvalid_1's auc: 0.919385\n",
      "[728]\ttraining's auc: 0.999326\tvalid_1's auc: 0.919445\n",
      "[729]\ttraining's auc: 0.999328\tvalid_1's auc: 0.919511\n",
      "[730]\ttraining's auc: 0.999329\tvalid_1's auc: 0.919575\n",
      "[731]\ttraining's auc: 0.999332\tvalid_1's auc: 0.919652\n",
      "[732]\ttraining's auc: 0.999334\tvalid_1's auc: 0.919726\n",
      "[733]\ttraining's auc: 0.999337\tvalid_1's auc: 0.919793\n",
      "[734]\ttraining's auc: 0.999339\tvalid_1's auc: 0.91985\n",
      "[735]\ttraining's auc: 0.999341\tvalid_1's auc: 0.919918\n",
      "[736]\ttraining's auc: 0.999343\tvalid_1's auc: 0.919944\n",
      "[737]\ttraining's auc: 0.999346\tvalid_1's auc: 0.920075\n",
      "[738]\ttraining's auc: 0.999349\tvalid_1's auc: 0.920229\n",
      "[739]\ttraining's auc: 0.999351\tvalid_1's auc: 0.920321\n",
      "[740]\ttraining's auc: 0.999353\tvalid_1's auc: 0.920366\n",
      "[741]\ttraining's auc: 0.999356\tvalid_1's auc: 0.920387\n",
      "[742]\ttraining's auc: 0.999358\tvalid_1's auc: 0.92051\n",
      "[743]\ttraining's auc: 0.99936\tvalid_1's auc: 0.920601\n",
      "[744]\ttraining's auc: 0.999363\tvalid_1's auc: 0.920699\n",
      "[745]\ttraining's auc: 0.999365\tvalid_1's auc: 0.920795\n",
      "[746]\ttraining's auc: 0.999367\tvalid_1's auc: 0.920899\n",
      "[747]\ttraining's auc: 0.999369\tvalid_1's auc: 0.920957\n",
      "[748]\ttraining's auc: 0.999371\tvalid_1's auc: 0.920998\n",
      "[749]\ttraining's auc: 0.999373\tvalid_1's auc: 0.921033\n",
      "[750]\ttraining's auc: 0.999376\tvalid_1's auc: 0.921123\n",
      "[751]\ttraining's auc: 0.999378\tvalid_1's auc: 0.921193\n",
      "[752]\ttraining's auc: 0.999381\tvalid_1's auc: 0.921278\n",
      "[753]\ttraining's auc: 0.999384\tvalid_1's auc: 0.921429\n",
      "[754]\ttraining's auc: 0.999386\tvalid_1's auc: 0.921504\n",
      "[755]\ttraining's auc: 0.999388\tvalid_1's auc: 0.921551\n",
      "[756]\ttraining's auc: 0.99939\tvalid_1's auc: 0.921643\n",
      "[757]\ttraining's auc: 0.999393\tvalid_1's auc: 0.92173\n",
      "[758]\ttraining's auc: 0.999395\tvalid_1's auc: 0.921767\n",
      "[759]\ttraining's auc: 0.999397\tvalid_1's auc: 0.921897\n",
      "[760]\ttraining's auc: 0.999399\tvalid_1's auc: 0.921946\n",
      "[761]\ttraining's auc: 0.999402\tvalid_1's auc: 0.922103\n",
      "[762]\ttraining's auc: 0.999404\tvalid_1's auc: 0.922175\n",
      "[763]\ttraining's auc: 0.999407\tvalid_1's auc: 0.922291\n",
      "[764]\ttraining's auc: 0.999409\tvalid_1's auc: 0.922327\n",
      "[765]\ttraining's auc: 0.999411\tvalid_1's auc: 0.922351\n",
      "[766]\ttraining's auc: 0.999413\tvalid_1's auc: 0.922439\n",
      "[767]\ttraining's auc: 0.999415\tvalid_1's auc: 0.922508\n",
      "[768]\ttraining's auc: 0.999417\tvalid_1's auc: 0.922605\n",
      "[769]\ttraining's auc: 0.99942\tvalid_1's auc: 0.922709\n",
      "[770]\ttraining's auc: 0.999422\tvalid_1's auc: 0.922768\n",
      "[771]\ttraining's auc: 0.999424\tvalid_1's auc: 0.922811\n",
      "[772]\ttraining's auc: 0.999426\tvalid_1's auc: 0.922926\n",
      "[773]\ttraining's auc: 0.999428\tvalid_1's auc: 0.923038\n",
      "[774]\ttraining's auc: 0.99943\tvalid_1's auc: 0.923075\n",
      "[775]\ttraining's auc: 0.999432\tvalid_1's auc: 0.923124\n",
      "[776]\ttraining's auc: 0.999434\tvalid_1's auc: 0.923256\n",
      "[777]\ttraining's auc: 0.999437\tvalid_1's auc: 0.923295\n",
      "[778]\ttraining's auc: 0.999439\tvalid_1's auc: 0.923446\n",
      "[779]\ttraining's auc: 0.99944\tvalid_1's auc: 0.923492\n",
      "[780]\ttraining's auc: 0.999442\tvalid_1's auc: 0.92356\n",
      "[781]\ttraining's auc: 0.999444\tvalid_1's auc: 0.923617\n",
      "[782]\ttraining's auc: 0.999447\tvalid_1's auc: 0.923679\n",
      "[783]\ttraining's auc: 0.999449\tvalid_1's auc: 0.92375\n",
      "[784]\ttraining's auc: 0.999451\tvalid_1's auc: 0.923839\n",
      "[785]\ttraining's auc: 0.999453\tvalid_1's auc: 0.923905\n",
      "[786]\ttraining's auc: 0.999455\tvalid_1's auc: 0.923911\n",
      "[787]\ttraining's auc: 0.999458\tvalid_1's auc: 0.923936\n",
      "[788]\ttraining's auc: 0.999461\tvalid_1's auc: 0.924074\n",
      "[789]\ttraining's auc: 0.999463\tvalid_1's auc: 0.924136\n",
      "[790]\ttraining's auc: 0.999464\tvalid_1's auc: 0.924147\n",
      "[791]\ttraining's auc: 0.999466\tvalid_1's auc: 0.924199\n",
      "[792]\ttraining's auc: 0.999469\tvalid_1's auc: 0.924321\n",
      "[793]\ttraining's auc: 0.999471\tvalid_1's auc: 0.924414\n",
      "[794]\ttraining's auc: 0.999473\tvalid_1's auc: 0.924583\n",
      "[795]\ttraining's auc: 0.999475\tvalid_1's auc: 0.924626\n",
      "[796]\ttraining's auc: 0.999477\tvalid_1's auc: 0.924664\n",
      "[797]\ttraining's auc: 0.999479\tvalid_1's auc: 0.924696\n",
      "[798]\ttraining's auc: 0.999482\tvalid_1's auc: 0.924718\n",
      "[799]\ttraining's auc: 0.999484\tvalid_1's auc: 0.924827\n",
      "[800]\ttraining's auc: 0.999485\tvalid_1's auc: 0.924881\n",
      "[801]\ttraining's auc: 0.999488\tvalid_1's auc: 0.924993\n",
      "[802]\ttraining's auc: 0.99949\tvalid_1's auc: 0.925052\n",
      "[803]\ttraining's auc: 0.999493\tvalid_1's auc: 0.92522\n",
      "[804]\ttraining's auc: 0.999495\tvalid_1's auc: 0.925304\n",
      "[805]\ttraining's auc: 0.999496\tvalid_1's auc: 0.92532\n",
      "[806]\ttraining's auc: 0.999498\tvalid_1's auc: 0.925376\n",
      "[807]\ttraining's auc: 0.9995\tvalid_1's auc: 0.92541\n",
      "[808]\ttraining's auc: 0.999503\tvalid_1's auc: 0.92548\n",
      "[809]\ttraining's auc: 0.999505\tvalid_1's auc: 0.925538\n",
      "[810]\ttraining's auc: 0.999507\tvalid_1's auc: 0.925613\n",
      "[811]\ttraining's auc: 0.999509\tvalid_1's auc: 0.925705\n",
      "[812]\ttraining's auc: 0.999511\tvalid_1's auc: 0.925758\n",
      "[813]\ttraining's auc: 0.999513\tvalid_1's auc: 0.925874\n",
      "[814]\ttraining's auc: 0.999515\tvalid_1's auc: 0.925934\n",
      "[815]\ttraining's auc: 0.999517\tvalid_1's auc: 0.925975\n",
      "[816]\ttraining's auc: 0.999519\tvalid_1's auc: 0.926031\n",
      "[817]\ttraining's auc: 0.999521\tvalid_1's auc: 0.926109\n",
      "[818]\ttraining's auc: 0.999523\tvalid_1's auc: 0.92619\n",
      "[819]\ttraining's auc: 0.999526\tvalid_1's auc: 0.926261\n",
      "[820]\ttraining's auc: 0.999528\tvalid_1's auc: 0.926356\n",
      "[821]\ttraining's auc: 0.99953\tvalid_1's auc: 0.92641\n",
      "[822]\ttraining's auc: 0.999532\tvalid_1's auc: 0.926531\n",
      "[823]\ttraining's auc: 0.999534\tvalid_1's auc: 0.926602\n",
      "[824]\ttraining's auc: 0.999537\tvalid_1's auc: 0.926624\n",
      "[825]\ttraining's auc: 0.999539\tvalid_1's auc: 0.926702\n",
      "[826]\ttraining's auc: 0.999541\tvalid_1's auc: 0.926704\n",
      "[827]\ttraining's auc: 0.999542\tvalid_1's auc: 0.926747\n",
      "[828]\ttraining's auc: 0.999544\tvalid_1's auc: 0.926772\n",
      "[829]\ttraining's auc: 0.999546\tvalid_1's auc: 0.926807\n",
      "[830]\ttraining's auc: 0.999547\tvalid_1's auc: 0.926874\n",
      "[831]\ttraining's auc: 0.99955\tvalid_1's auc: 0.926959\n",
      "[832]\ttraining's auc: 0.999552\tvalid_1's auc: 0.927052\n",
      "[833]\ttraining's auc: 0.999554\tvalid_1's auc: 0.927128\n",
      "[834]\ttraining's auc: 0.999556\tvalid_1's auc: 0.927186\n",
      "[835]\ttraining's auc: 0.999558\tvalid_1's auc: 0.92725\n",
      "[836]\ttraining's auc: 0.99956\tvalid_1's auc: 0.927318\n",
      "[837]\ttraining's auc: 0.999562\tvalid_1's auc: 0.92737\n",
      "[838]\ttraining's auc: 0.999564\tvalid_1's auc: 0.927422\n",
      "[839]\ttraining's auc: 0.999566\tvalid_1's auc: 0.927488\n",
      "[840]\ttraining's auc: 0.999567\tvalid_1's auc: 0.927506\n",
      "[841]\ttraining's auc: 0.99957\tvalid_1's auc: 0.927599\n",
      "[842]\ttraining's auc: 0.999572\tvalid_1's auc: 0.927744\n",
      "[843]\ttraining's auc: 0.999574\tvalid_1's auc: 0.927814\n",
      "[844]\ttraining's auc: 0.999577\tvalid_1's auc: 0.927958\n",
      "[845]\ttraining's auc: 0.999579\tvalid_1's auc: 0.928035\n",
      "[846]\ttraining's auc: 0.999581\tvalid_1's auc: 0.928084\n",
      "[847]\ttraining's auc: 0.999583\tvalid_1's auc: 0.928156\n",
      "[848]\ttraining's auc: 0.999585\tvalid_1's auc: 0.928199\n",
      "[849]\ttraining's auc: 0.999587\tvalid_1's auc: 0.928234\n",
      "[850]\ttraining's auc: 0.999589\tvalid_1's auc: 0.928331\n",
      "[851]\ttraining's auc: 0.999591\tvalid_1's auc: 0.928373\n",
      "[852]\ttraining's auc: 0.999592\tvalid_1's auc: 0.928452\n",
      "[853]\ttraining's auc: 0.999594\tvalid_1's auc: 0.928618\n",
      "[854]\ttraining's auc: 0.999596\tvalid_1's auc: 0.928667\n",
      "[855]\ttraining's auc: 0.999598\tvalid_1's auc: 0.928715\n",
      "[856]\ttraining's auc: 0.9996\tvalid_1's auc: 0.928805\n",
      "[857]\ttraining's auc: 0.999602\tvalid_1's auc: 0.92889\n",
      "[858]\ttraining's auc: 0.999604\tvalid_1's auc: 0.928978\n",
      "[859]\ttraining's auc: 0.999605\tvalid_1's auc: 0.928997\n",
      "[860]\ttraining's auc: 0.999607\tvalid_1's auc: 0.928998\n",
      "[861]\ttraining's auc: 0.999609\tvalid_1's auc: 0.929053\n",
      "[862]\ttraining's auc: 0.999611\tvalid_1's auc: 0.929141\n",
      "[863]\ttraining's auc: 0.999613\tvalid_1's auc: 0.929191\n",
      "[864]\ttraining's auc: 0.999614\tvalid_1's auc: 0.929226\n",
      "[865]\ttraining's auc: 0.999616\tvalid_1's auc: 0.929343\n",
      "[866]\ttraining's auc: 0.999618\tvalid_1's auc: 0.92936\n",
      "[867]\ttraining's auc: 0.99962\tvalid_1's auc: 0.929395\n",
      "[868]\ttraining's auc: 0.999621\tvalid_1's auc: 0.92946\n",
      "[869]\ttraining's auc: 0.999622\tvalid_1's auc: 0.929512\n",
      "[870]\ttraining's auc: 0.999624\tvalid_1's auc: 0.929576\n",
      "[871]\ttraining's auc: 0.999626\tvalid_1's auc: 0.929626\n",
      "[872]\ttraining's auc: 0.999627\tvalid_1's auc: 0.929708\n",
      "[873]\ttraining's auc: 0.999629\tvalid_1's auc: 0.929737\n",
      "[874]\ttraining's auc: 0.999631\tvalid_1's auc: 0.929746\n",
      "[875]\ttraining's auc: 0.999632\tvalid_1's auc: 0.929831\n",
      "[876]\ttraining's auc: 0.999634\tvalid_1's auc: 0.929885\n",
      "[877]\ttraining's auc: 0.999636\tvalid_1's auc: 0.929916\n",
      "[878]\ttraining's auc: 0.999637\tvalid_1's auc: 0.929977\n",
      "[879]\ttraining's auc: 0.999639\tvalid_1's auc: 0.93\n",
      "[880]\ttraining's auc: 0.999641\tvalid_1's auc: 0.930022\n",
      "[881]\ttraining's auc: 0.999643\tvalid_1's auc: 0.930121\n",
      "[882]\ttraining's auc: 0.999644\tvalid_1's auc: 0.930159\n",
      "[883]\ttraining's auc: 0.999646\tvalid_1's auc: 0.930201\n",
      "[884]\ttraining's auc: 0.999648\tvalid_1's auc: 0.9303\n",
      "[885]\ttraining's auc: 0.999649\tvalid_1's auc: 0.930367\n",
      "[886]\ttraining's auc: 0.999651\tvalid_1's auc: 0.930411\n",
      "[887]\ttraining's auc: 0.999653\tvalid_1's auc: 0.930452\n",
      "[888]\ttraining's auc: 0.999654\tvalid_1's auc: 0.930508\n",
      "[889]\ttraining's auc: 0.999656\tvalid_1's auc: 0.930526\n",
      "[890]\ttraining's auc: 0.999657\tvalid_1's auc: 0.930584\n",
      "[891]\ttraining's auc: 0.999659\tvalid_1's auc: 0.930663\n",
      "[892]\ttraining's auc: 0.99966\tvalid_1's auc: 0.930672\n",
      "[893]\ttraining's auc: 0.999662\tvalid_1's auc: 0.930792\n",
      "[894]\ttraining's auc: 0.999664\tvalid_1's auc: 0.930826\n",
      "[895]\ttraining's auc: 0.999665\tvalid_1's auc: 0.930881\n",
      "[896]\ttraining's auc: 0.999667\tvalid_1's auc: 0.930951\n",
      "[897]\ttraining's auc: 0.999669\tvalid_1's auc: 0.930987\n",
      "[898]\ttraining's auc: 0.99967\tvalid_1's auc: 0.931038\n",
      "[899]\ttraining's auc: 0.999672\tvalid_1's auc: 0.931099\n",
      "[900]\ttraining's auc: 0.999673\tvalid_1's auc: 0.931164\n",
      "[901]\ttraining's auc: 0.999675\tvalid_1's auc: 0.931287\n",
      "[902]\ttraining's auc: 0.999676\tvalid_1's auc: 0.931313\n",
      "[903]\ttraining's auc: 0.999678\tvalid_1's auc: 0.931355\n",
      "[904]\ttraining's auc: 0.99968\tvalid_1's auc: 0.931394\n",
      "[905]\ttraining's auc: 0.999681\tvalid_1's auc: 0.931441\n",
      "[906]\ttraining's auc: 0.999683\tvalid_1's auc: 0.931473\n",
      "[907]\ttraining's auc: 0.999684\tvalid_1's auc: 0.931513\n",
      "[908]\ttraining's auc: 0.999686\tvalid_1's auc: 0.931576\n",
      "[909]\ttraining's auc: 0.999687\tvalid_1's auc: 0.93157\n",
      "[910]\ttraining's auc: 0.999689\tvalid_1's auc: 0.931585\n",
      "[911]\ttraining's auc: 0.99969\tvalid_1's auc: 0.931634\n",
      "[912]\ttraining's auc: 0.999692\tvalid_1's auc: 0.931682\n",
      "[913]\ttraining's auc: 0.999694\tvalid_1's auc: 0.931769\n",
      "[914]\ttraining's auc: 0.999695\tvalid_1's auc: 0.931793\n",
      "[915]\ttraining's auc: 0.999697\tvalid_1's auc: 0.931892\n",
      "[916]\ttraining's auc: 0.999699\tvalid_1's auc: 0.931934\n",
      "[917]\ttraining's auc: 0.9997\tvalid_1's auc: 0.931976\n",
      "[918]\ttraining's auc: 0.999701\tvalid_1's auc: 0.93204\n",
      "[919]\ttraining's auc: 0.999703\tvalid_1's auc: 0.93211\n",
      "[920]\ttraining's auc: 0.999705\tvalid_1's auc: 0.932253\n",
      "[921]\ttraining's auc: 0.999706\tvalid_1's auc: 0.932292\n",
      "[922]\ttraining's auc: 0.999707\tvalid_1's auc: 0.932394\n",
      "[923]\ttraining's auc: 0.999708\tvalid_1's auc: 0.932492\n",
      "[924]\ttraining's auc: 0.99971\tvalid_1's auc: 0.932513\n",
      "[925]\ttraining's auc: 0.999711\tvalid_1's auc: 0.932558\n",
      "[926]\ttraining's auc: 0.999713\tvalid_1's auc: 0.932646\n",
      "[927]\ttraining's auc: 0.999714\tvalid_1's auc: 0.932706\n",
      "[928]\ttraining's auc: 0.999715\tvalid_1's auc: 0.932755\n",
      "[929]\ttraining's auc: 0.999717\tvalid_1's auc: 0.93282\n",
      "[930]\ttraining's auc: 0.999718\tvalid_1's auc: 0.932844\n",
      "[931]\ttraining's auc: 0.999719\tvalid_1's auc: 0.932898\n",
      "[932]\ttraining's auc: 0.99972\tvalid_1's auc: 0.932999\n",
      "[933]\ttraining's auc: 0.999722\tvalid_1's auc: 0.933027\n",
      "[934]\ttraining's auc: 0.999723\tvalid_1's auc: 0.933133\n",
      "[935]\ttraining's auc: 0.999725\tvalid_1's auc: 0.93319\n",
      "[936]\ttraining's auc: 0.999726\tvalid_1's auc: 0.933192\n",
      "[937]\ttraining's auc: 0.999727\tvalid_1's auc: 0.933194\n",
      "[938]\ttraining's auc: 0.999728\tvalid_1's auc: 0.933244\n",
      "[939]\ttraining's auc: 0.99973\tvalid_1's auc: 0.933278\n",
      "[940]\ttraining's auc: 0.999731\tvalid_1's auc: 0.933296\n",
      "[941]\ttraining's auc: 0.999732\tvalid_1's auc: 0.933367\n",
      "[942]\ttraining's auc: 0.999734\tvalid_1's auc: 0.933464\n",
      "[943]\ttraining's auc: 0.999735\tvalid_1's auc: 0.933534\n",
      "[944]\ttraining's auc: 0.999736\tvalid_1's auc: 0.933613\n",
      "[945]\ttraining's auc: 0.999738\tvalid_1's auc: 0.933702\n",
      "[946]\ttraining's auc: 0.999739\tvalid_1's auc: 0.93374\n",
      "[947]\ttraining's auc: 0.99974\tvalid_1's auc: 0.933752\n",
      "[948]\ttraining's auc: 0.999741\tvalid_1's auc: 0.933855\n",
      "[949]\ttraining's auc: 0.999742\tvalid_1's auc: 0.933925\n",
      "[950]\ttraining's auc: 0.999744\tvalid_1's auc: 0.933974\n",
      "[951]\ttraining's auc: 0.999745\tvalid_1's auc: 0.934039\n",
      "[952]\ttraining's auc: 0.999747\tvalid_1's auc: 0.934126\n",
      "[953]\ttraining's auc: 0.999748\tvalid_1's auc: 0.934242\n",
      "[954]\ttraining's auc: 0.999749\tvalid_1's auc: 0.934301\n",
      "[955]\ttraining's auc: 0.99975\tvalid_1's auc: 0.934341\n",
      "[956]\ttraining's auc: 0.999751\tvalid_1's auc: 0.934389\n",
      "[957]\ttraining's auc: 0.999753\tvalid_1's auc: 0.934432\n",
      "[958]\ttraining's auc: 0.999754\tvalid_1's auc: 0.934467\n",
      "[959]\ttraining's auc: 0.999756\tvalid_1's auc: 0.934538\n",
      "[960]\ttraining's auc: 0.999757\tvalid_1's auc: 0.934583\n",
      "[961]\ttraining's auc: 0.999758\tvalid_1's auc: 0.934623\n",
      "[962]\ttraining's auc: 0.999759\tvalid_1's auc: 0.934688\n",
      "[963]\ttraining's auc: 0.99976\tvalid_1's auc: 0.934789\n",
      "[964]\ttraining's auc: 0.999761\tvalid_1's auc: 0.934865\n",
      "[965]\ttraining's auc: 0.999762\tvalid_1's auc: 0.93488\n",
      "[966]\ttraining's auc: 0.999764\tvalid_1's auc: 0.934935\n",
      "[967]\ttraining's auc: 0.999765\tvalid_1's auc: 0.93502\n",
      "[968]\ttraining's auc: 0.999766\tvalid_1's auc: 0.935074\n",
      "[969]\ttraining's auc: 0.999767\tvalid_1's auc: 0.93511\n",
      "[970]\ttraining's auc: 0.999769\tvalid_1's auc: 0.935136\n",
      "[971]\ttraining's auc: 0.99977\tvalid_1's auc: 0.935186\n",
      "[972]\ttraining's auc: 0.999771\tvalid_1's auc: 0.935227\n",
      "[973]\ttraining's auc: 0.999772\tvalid_1's auc: 0.935253\n",
      "[974]\ttraining's auc: 0.999773\tvalid_1's auc: 0.935268\n",
      "[975]\ttraining's auc: 0.999774\tvalid_1's auc: 0.935315\n",
      "[976]\ttraining's auc: 0.999775\tvalid_1's auc: 0.935354\n",
      "[977]\ttraining's auc: 0.999776\tvalid_1's auc: 0.935431\n",
      "[978]\ttraining's auc: 0.999778\tvalid_1's auc: 0.935509\n",
      "[979]\ttraining's auc: 0.999779\tvalid_1's auc: 0.935566\n",
      "[980]\ttraining's auc: 0.99978\tvalid_1's auc: 0.935593\n",
      "[981]\ttraining's auc: 0.999781\tvalid_1's auc: 0.935707\n",
      "[982]\ttraining's auc: 0.999782\tvalid_1's auc: 0.935796\n",
      "[983]\ttraining's auc: 0.999783\tvalid_1's auc: 0.935847\n",
      "[984]\ttraining's auc: 0.999785\tvalid_1's auc: 0.935865\n",
      "[985]\ttraining's auc: 0.999786\tvalid_1's auc: 0.935919\n",
      "[986]\ttraining's auc: 0.999787\tvalid_1's auc: 0.93595\n",
      "[987]\ttraining's auc: 0.999789\tvalid_1's auc: 0.935973\n",
      "[988]\ttraining's auc: 0.99979\tvalid_1's auc: 0.936027\n",
      "[989]\ttraining's auc: 0.999791\tvalid_1's auc: 0.936052\n",
      "[990]\ttraining's auc: 0.999792\tvalid_1's auc: 0.936127\n",
      "[991]\ttraining's auc: 0.999792\tvalid_1's auc: 0.936153\n",
      "[992]\ttraining's auc: 0.999793\tvalid_1's auc: 0.936148\n",
      "[993]\ttraining's auc: 0.999794\tvalid_1's auc: 0.936157\n",
      "[994]\ttraining's auc: 0.999795\tvalid_1's auc: 0.936178\n",
      "[995]\ttraining's auc: 0.999796\tvalid_1's auc: 0.936217\n",
      "[996]\ttraining's auc: 0.999797\tvalid_1's auc: 0.936253\n",
      "[997]\ttraining's auc: 0.999799\tvalid_1's auc: 0.936328\n",
      "[998]\ttraining's auc: 0.999799\tvalid_1's auc: 0.936332\n",
      "[999]\ttraining's auc: 0.9998\tvalid_1's auc: 0.936373\n",
      "[1000]\ttraining's auc: 0.999802\tvalid_1's auc: 0.936443\n",
      "AUC = 0.9364428450308601\n"
     ]
    }
   ],
   "source": [
    "import lightgbm as lgb\n",
    "from sklearn.metrics import roc_auc_score\n",
    "\n",
    "params = {'num_leaves': 491,\n",
    "          'min_child_weight': 0.03454472573214212,\n",
    "          'feature_fraction': 0.3797454081646243,\n",
    "          'bagging_fraction': 0.4181193142567742,\n",
    "          'min_data_in_leaf': 106,\n",
    "          'objective': 'binary',\n",
    "          'max_depth': -1,\n",
    "          'learning_rate': 0.006883242363721497,\n",
    "          \"boosting_type\": \"gbdt\",\n",
    "          \"bagging_seed\": 11,\n",
    "          \"metric\": 'auc',\n",
    "          # \"verbosity\": -1,\n",
    "          'reg_alpha': 0.3899927210061127,\n",
    "          'reg_lambda': 0.6485237330340494,\n",
    "          'random_state': 5313,\n",
    "         }\n",
    "\n",
    "feature_importances = pd.DataFrame()\n",
    "dtrain = lgb.Dataset(X_train, label=y_train)\n",
    "dvalid = lgb.Dataset(X_test, label=y_test)\n",
    "\n",
    "lgb_clf = lgb.train(params, dtrain, 1000, valid_sets = [dtrain, dvalid])\n",
    "\n",
    "\n",
    "feature_importances = lgb_clf.feature_importance()\n",
    "\n",
    "y_pred_valid = lgb_clf.predict(X_test)\n",
    "score = roc_auc_score(y_test, y_pred_valid)\n",
    "print(f\"AUC = {score}\")"
   ],
   "metadata": {
    "collapsed": false,
    "pycharm": {
     "name": "#%%\n"
    }
   }
  },
  {
   "cell_type": "code",
   "execution_count": 54,
   "outputs": [
    {
     "data": {
      "text/plain": "<sklearn.metrics._plot.confusion_matrix.ConfusionMatrixDisplay at 0x2b128caf040>"
     },
     "execution_count": 54,
     "metadata": {},
     "output_type": "execute_result"
    },
    {
     "data": {
      "text/plain": "<Figure size 432x288 with 2 Axes>",
      "image/png": "[encoded data removed]"
     },
     "metadata": {
      "needs_background": "light"
     },
     "output_type": "display_data"
    }
   ],
   "source": [
    "import numpy as np\n",
    "ypred_class = y_pred_valid\n",
    "ypred_class  = ypred_class > 0.03\n",
    "ypred_class = ypred_class.astype(int)\n",
    "ConfusionMatrixDisplay.from_predictions(y_test, ypred_class,normalize='true')\n"
   ],
   "metadata": {
    "collapsed": false,
    "pycharm": {
     "name": "#%%\n"
    }
   }
  },
  {
   "cell_type": "markdown",
   "source": [
    "### Adaboost"
   ],
   "metadata": {
    "collapsed": false,
    "pycharm": {
     "name": "#%% md\n"
    }
   }
  },
  {
   "cell_type": "code",
   "execution_count": 37,
   "outputs": [
    {
     "name": "stdout",
     "output_type": "stream",
     "text": [
      "0.9588\n"
     ]
    }
   ],
   "source": [
    "#Import required modules\n",
    "from sklearn.ensemble import AdaBoostClassifier\n",
    "\n",
    "#Build the model\n",
    "clf = AdaBoostClassifier(n_estimators=100, random_state=0)\n",
    "adaModel = clf.fit(X_train, y_train)\n",
    "\n",
    "#Adaboost Score\n",
    "adaScore = adaModel.score(X_test, y_test)\n",
    "print(adaScore)"
   ],
   "metadata": {
    "collapsed": false,
    "pycharm": {
     "name": "#%%\n"
    }
   }
  },
  {
   "cell_type": "markdown",
   "source": [
    "### Model Ensemble\n",
    "\n",
    "Having fitted several models, we now combine them to try squeeze out any further predictive performance.\n",
    "This is achieved through the use of SKLearn's StackingClassifier."
   ],
   "metadata": {
    "collapsed": false,
    "pycharm": {
     "name": "#%% md\n"
    }
   }
  },
  {
   "cell_type": "code",
   "execution_count": null,
   "outputs": [],
   "source": [
    "## stacking models was taking exceptionally long time. Hence we scaled down data or stacking to 500\n",
    "# records.\n",
    "indTrain=sample(range(len(X_train)),5000)\n",
    "indTest=sample(range(len(X_test)),5000)\n",
    "X_train=X_train.iloc[indTrain]\n",
    "y_train=y_train.iloc[indTrain]\n",
    "X_test=X_test.iloc[indTest]\n",
    "y_test=y_test.iloc[indTest]"
   ],
   "metadata": {
    "collapsed": false,
    "pycharm": {
     "name": "#%%\n"
    }
   }
  },
  {
   "cell_type": "code",
   "execution_count": null,
   "outputs": [],
   "source": [
    "from utils.model_stack import stack_models\n",
    "\n",
    "models = {'xgb':xgb_cl,\n",
    "          'bag': bag_clf,\n",
    "          'rf':rf_final,\n",
    "          'AdaBoost': adaModel\n",
    "          }\n",
    "stacked_model = stack_models(*models.items(), cv_folds=3)\n",
    "stacked_model.fit(X_train, y_train)\n",
    "# models['lgbm'] = lgb_clf\n",
    "models['stacked'] = stacked_model"
   ],
   "metadata": {
    "collapsed": false,
    "pycharm": {
     "name": "#%%\n"
    }
   }
  },
  {
   "cell_type": "code",
   "execution_count": 44,
   "outputs": [
    {
     "name": "stdout",
     "output_type": "stream",
     "text": [
      "Correlations with target column\n",
      "isFraud                1.000000\n",
      "stacking_prediction    0.255420\n",
      "xgb                    0.265011\n",
      "bag                    0.160993\n",
      "rf                     0.159961\n",
      "AdaBoost               0.203989\n",
      "Name: isFraud, dtype: float64\n"
     ]
    }
   ],
   "source": [
    "# Create a dataframe to show the performance of each model\n",
    "performance = pd.DataFrame(y_test)\n",
    "performance['stacking_prediction'] = stacked_model.predict(X_test)\n",
    "for m in stacked_model.named_estimators_:\n",
    "        performance[m] = stacked_model.named_estimators_[m].predict(X_test)\n",
    "\n",
    "\n",
    "# See how each of our models correlate with our target\n",
    "print(\"Correlations with target column\")\n",
    "print(performance.corr()['isFraud'])\n"
   ],
   "metadata": {
    "collapsed": false,
    "pycharm": {
     "name": "#%%\n"
    }
   }
  },
  {
   "cell_type": "code",
   "execution_count": 45,
   "outputs": [],
   "source": [
    "# Model evaluation using stratified folds\n",
    "from sklearn.model_selection import cross_val_score, RepeatedStratifiedKFold\n",
    "\n",
    "# evaluate models using cross-validation\n",
    "def evaluate_model(model, X, y):\n",
    "\tcv = RepeatedStratifiedKFold(n_splits=3, n_repeats=2, random_state=1)\n",
    "\tscores = cross_val_score(model, X, y, scoring='roc_auc', cv=cv, n_jobs=-1)\n",
    "\treturn scores"
   ],
   "metadata": {
    "collapsed": false,
    "pycharm": {
     "name": "#%%\n"
    }
   }
  },
  {
   "cell_type": "code",
   "execution_count": 46,
   "outputs": [
    {
     "name": "stdout",
     "output_type": "stream",
     "text": [
      ">xgb 0.713 (0.039)\n",
      ">bag 0.584 (0.067)\n",
      ">rf 0.745 (0.033)\n",
      ">AdaBoost 0.674 (0.033)\n",
      ">stacked 0.736 (0.042)\n"
     ]
    },
    {
     "data": {
      "text/plain": "<Figure size 432x288 with 1 Axes>",
      "image/png": "[encoded data removed]"
     },
     "metadata": {
      "needs_background": "light"
     },
     "output_type": "display_data"
    }
   ],
   "source": [
    "from numpy import mean\n",
    "from numpy import std\n",
    "# evaluate the models and store results\n",
    "results, names = list(), list()\n",
    "for name, m in models.items():\n",
    "\tscores = evaluate_model(m, X_test, y_test)\n",
    "\tresults.append(scores)\n",
    "\tnames.append(name)\n",
    "\tprint(f'>{name} {mean(scores):0.3f} ({std(scores):0.3f})')\n",
    "\n",
    "# plot model performance for comparison\n",
    "plt.boxplot(results, labels=names, showmeans=True)\n",
    "plt.show()"
   ],
   "metadata": {
    "collapsed": false,
    "pycharm": {
     "name": "#%%\n"
    }
   }
  },
  {
   "cell_type": "code",
   "execution_count": 47,
   "outputs": [
    {
     "data": {
      "text/plain": "<Figure size 432x288 with 1 Axes>",
      "image/png": "[encoded data removed]"
     },
     "metadata": {
      "needs_background": "light"
     },
     "output_type": "display_data"
    },
    {
     "data": {
      "text/plain": "      model       auc  balanced accuracy\n0       xgb  0.820760           0.591561\n1       bag  0.787480           0.668423\n2        rf  0.783081           0.668077\n3  AdaBoost  0.772736           0.624816\n4   stacked  0.789750           0.642269",
      "text/html": "<div>\n<style scoped>\n    .dataframe tbody tr th:only-of-type {\n        vertical-align: middle;\n    }\n\n    .dataframe tbody tr th {\n        vertical-align: top;\n    }\n\n    .dataframe thead th {\n        text-align: right;\n    }\n</style>\n<table border=\"1\" class=\"dataframe\">\n  <thead>\n    <tr style=\"text-align: right;\">\n      <th></th>\n      <th>model</th>\n      <th>auc</th>\n      <th>balanced accuracy</th>\n    </tr>\n  </thead>\n  <tbody>\n    <tr>\n      <th>0</th>\n      <td>xgb</td>\n      <td>0.820760</td>\n      <td>0.591561</td>\n    </tr>\n    <tr>\n      <th>1</th>\n      <td>bag</td>\n      <td>0.787480</td>\n      <td>0.668423</td>\n    </tr>\n    <tr>\n      <th>2</th>\n      <td>rf</td>\n      <td>0.783081</td>\n      <td>0.668077</td>\n    </tr>\n    <tr>\n      <th>3</th>\n      <td>AdaBoost</td>\n      <td>0.772736</td>\n      <td>0.624816</td>\n    </tr>\n    <tr>\n      <th>4</th>\n      <td>stacked</td>\n      <td>0.789750</td>\n      <td>0.642269</td>\n    </tr>\n  </tbody>\n</table>\n</div>"
     },
     "execution_count": 47,
     "metadata": {},
     "output_type": "execute_result"
    }
   ],
   "source": [
    "from utils.diagnostics import get_diagnostics\n",
    "get_diagnostics(*models.items(), y_true=y_test, X=X_test)"
   ],
   "metadata": {
    "collapsed": false,
    "pycharm": {
     "name": "#%%\n"
    }
   }
  },
  {
   "cell_type": "markdown",
   "source": [
    "The above boxplot is different from the report because while we generated report graph with full data while above\n",
    "graph is generated with down-sampled data as executing Stack classfifer with\n",
    "full data was taking exceptionally long time."
   ],
   "metadata": {
    "collapsed": false,
    "pycharm": {
     "name": "#%% md\n"
    }
   }
  }
 ],
 "metadata": {
  "kernelspec": {
   "display_name": "Python 3",
   "language": "python",
   "name": "python3"
  },
  "language_info": {
   "codemirror_mode": {
    "name": "ipython",
    "version": 2
   },
   "file_extension": ".py",
   "mimetype": "text/x-python",
   "name": "python",
   "nbconvert_exporter": "python",
   "pygments_lexer": "ipython2",
   "version": "2.7.6"
  }
 },
 "nbformat": 4,
 "nbformat_minor": 0
}