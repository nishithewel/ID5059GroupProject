{
  "nbformat": 4,
  "nbformat_minor": 0,
  "metadata": {
    "colab": {
      "name": "main.ipynb",
      "provenance": [],
      "mount_file_id": "1mAkOkFv5jrXokzixYcQvnPmwBpL2cOBB",
      "authorship_tag": "ABX9TyNd3d3qqrU3bDFE8bibt8Wt",
      "include_colab_link": true
    },
    "kernelspec": {
      "name": "python3",
      "display_name": "Python 3"
    },
    "language_info": {
      "name": "python"
    }
  },
  "cells": [
    {
      "cell_type": "markdown",
      "metadata": {
        "id": "view-in-github",
        "colab_type": "text"
      },
      "source": [
        "<a href=\"https://colab.research.google.com/github/nishithewel/ID5059GroupProject/blob/main/main.ipynb\" target=\"_parent\"><img src=\"https://colab.research.google.com/assets/colab-badge.svg\" alt=\"Open In Colab\"/></a>"
      ]
    },
    {
      "cell_type": "markdown",
      "source": [
        "## Introduction to the Dataset\n"
      ],
      "metadata": {
        "id": "tPqFgUOESMBt"
      }
    },
    {
      "cell_type": "markdown",
      "source": [
        "### Team Members\n",
        "- Nishithe Welandawe - naw4\n",
        "- Joseph Edwards ..."
      ],
      "metadata": {
        "id": "lmzwh08RSizC"
      }
    },
    {
      "cell_type": "markdown",
      "source": [
        "### Imports"
      ],
      "metadata": {
        "id": "B1lBgJxYSZNQ"
      }
    },
    {
      "cell_type": "code",
      "execution_count": 9,
      "metadata": {
        "colab": {
          "base_uri": "https://localhost:8080/"
        },
        "id": "5enJhawlOH1u",
        "outputId": "57d2164a-55d6-4c25-fb66-dff36fbc0f12"
      },
      "outputs": [
        {
          "output_type": "stream",
          "name": "stdout",
          "text": [
            "Drive already mounted at /content/drive; to attempt to forcibly remount, call drive.mount(\"/content/drive\", force_remount=True).\n"
          ]
        }
      ],
      "source": [
        "import os\n",
        "import numpy as np \n",
        "import pandas as pd\n",
        "from google.colab import drive\n",
        "\n",
        "drive.mount('/content/drive') "
      ]
    },
    {
      "cell_type": "markdown",
      "source": [
        "### Loading the dataset"
      ],
      "metadata": {
        "id": "2JitrODFSs8N"
      }
    },
    {
      "cell_type": "code",
      "source": [
        "root_dir = '/content/drive/MyDrive/Python/ID5059-GroupProject' #set you g-drive root dir\n",
        "os.chdir(root_dir)\n",
        "\n",
        "test_iden = pd.read_csv('ieee-fraud-detection/test_identity.csv',\n",
        "                 )\n",
        "\n",
        "test_tran = pd.read_csv('ieee-fraud-detection/test_transaction.csv',\n",
        "                 )\n",
        "\n",
        "train_iden = pd.read_csv('ieee-fraud-detection/train_identity.csv',\n",
        "                 )\n",
        "train_tran = pd.read_csv('ieee-fraud-detection/train_transaction.csv',\n",
        "                 )\n",
        "# train_iden.head()"
      ],
      "metadata": {
        "id": "AYkvgdPIS_HF"
      },
      "execution_count": null,
      "outputs": []
    },
    {
      "cell_type": "code",
      "source": [
        "train_iden.head()"
      ],
      "metadata": {
        "id": "5iMpNqTuN8mm"
      },
      "execution_count": null,
      "outputs": []
    },
    {
      "cell_type": "code",
      "source": [
        "train_tran.head()"
      ],
      "metadata": {
        "id": "rFZY3sBON9zA"
      },
      "execution_count": null,
      "outputs": []
    },
    {
      "cell_type": "markdown",
      "source": [
        "## EDA\n",
        "We perform basic analysis on the data.\n",
        "- Visualise predictor distribution.\n",
        "- Correlation\n"
      ],
      "metadata": {
        "id": "UkstYfcPSxty"
      }
    },
    {
      "cell_type": "code",
      "source": [
        "train_tran['isFraud'].value_counts(\n",
        "    normalize = True).plot(kind= 'barh')"
      ],
      "metadata": {
        "colab": {
          "base_uri": "https://localhost:8080/",
          "height": 283
        },
        "id": "fLn6uqvSOc8C",
        "outputId": "488a41b5-5ba6-4f70-88ee-e32be03cb4e7"
      },
      "execution_count": 29,
      "outputs": [
        {
          "output_type": "execute_result",
          "data": {
            "text/plain": [
              "<matplotlib.axes._subplots.AxesSubplot at 0x7fea4934c310>"
            ]
          },
          "metadata": {},
          "execution_count": 29
        },
        {
          "output_type": "display_data",
          "data": {
            "text/plain": [
              "<Figure size 432x288 with 1 Axes>"
            ],
            "image/png": "[encoded data removed]"
          },
          "metadata": {
            "needs_background": "light"
          }
        }
      ]
    },
    {
      "cell_type": "markdown",
      "source": [
        "We find very few instance of Fraud. Consider Class Balancing."
      ],
      "metadata": {
        "id": "wW8YV043Pt05"
      }
    },
    {
      "cell_type": "code",
      "source": [
        ""
      ],
      "metadata": {
        "id": "ZHibN-RRPNdx"
      },
      "execution_count": null,
      "outputs": []
    },
    {
      "cell_type": "markdown",
      "source": [
        "## Feature Preproccessing"
      ],
      "metadata": {
        "id": "m9YkTe92VOQo"
      }
    },
    {
      "cell_type": "markdown",
      "source": [
        "### Feauture Cleaning\n",
        "The data contains outliers, which require cleaning."
      ],
      "metadata": {
        "id": "VAxxagslTJ6r"
      }
    },
    {
      "cell_type": "markdown",
      "source": [
        "### Feature engineering (Creation)\n",
        "Wrapped as Preprocessor function to be implementd after test train split."
      ],
      "metadata": {
        "id": "0hlj3dq4VnZ3"
      }
    },
    {
      "cell_type": "markdown",
      "source": [
        "### Feature Selection"
      ],
      "metadata": {
        "id": "HiotT2FWVzQK"
      }
    },
    {
      "cell_type": "code",
      "source": [
        ""
      ],
      "metadata": {
        "id": "_0bWJ_67W6id"
      },
      "execution_count": null,
      "outputs": []
    },
    {
      "cell_type": "markdown",
      "source": [
        "## Model Creation & Fitting\n"
      ],
      "metadata": {
        "id": "nvXyRlGfW-DY"
      }
    }
  ]
}